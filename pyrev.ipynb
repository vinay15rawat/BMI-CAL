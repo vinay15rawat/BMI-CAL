{
 "cells": [
  {
   "cell_type": "code",
   "execution_count": 1,
   "metadata": {},
   "outputs": [],
   "source": [
    "a=100"
   ]
  },
  {
   "cell_type": "code",
   "execution_count": 2,
   "metadata": {},
   "outputs": [
    {
     "name": "stdout",
     "output_type": "stream",
     "text": [
      "100\n"
     ]
    }
   ],
   "source": [
    "print(a)"
   ]
  },
  {
   "cell_type": "code",
   "execution_count": 3,
   "metadata": {},
   "outputs": [
    {
     "name": "stdout",
     "output_type": "stream",
     "text": [
      "enter value of a10\n"
     ]
    }
   ],
   "source": [
    "a=int(input(\"enter value of a\"))"
   ]
  },
  {
   "cell_type": "code",
   "execution_count": 4,
   "metadata": {},
   "outputs": [
    {
     "data": {
      "text/plain": [
       "int"
      ]
     },
     "execution_count": 4,
     "metadata": {},
     "output_type": "execute_result"
    }
   ],
   "source": [
    "type(a)"
   ]
  },
  {
   "cell_type": "code",
   "execution_count": 6,
   "metadata": {},
   "outputs": [
    {
     "name": "stdout",
     "output_type": "stream",
     "text": [
      "enter a number:987.767\n",
      "987.767\n",
      "<class 'float'>\n"
     ]
    }
   ],
   "source": [
    "b=float(input(\"enter a number:\"))\n",
    "print(b)\n",
    "print(type(b))"
   ]
  },
  {
   "cell_type": "code",
   "execution_count": 8,
   "metadata": {},
   "outputs": [
    {
     "name": "stdout",
     "output_type": "stream",
     "text": [
      "enter 1no:98\n",
      "enter 2no:89\n",
      "(89+98j)\n",
      "<class 'complex'>\n"
     ]
    }
   ],
   "source": [
    "a=int(input(\"enter 1no:\"))\n",
    "b=float(input(\"enter 2no:\"))\n",
    "final=complex(b,a)\n",
    "print(final)\n",
    "print(type(final))"
   ]
  },
  {
   "cell_type": "code",
   "execution_count": 10,
   "metadata": {},
   "outputs": [
    {
     "name": "stdout",
     "output_type": "stream",
     "text": [
      "True\n",
      "<class 'bool'>\n",
      "<class 'bool'>\n"
     ]
    }
   ],
   "source": [
    "a=True\n",
    "b=False\n",
    "print(a)\n",
    "print(type(a))\n",
    "print(type(b))"
   ]
  },
  {
   "cell_type": "code",
   "execution_count": 11,
   "metadata": {},
   "outputs": [
    {
     "name": "stdout",
     "output_type": "stream",
     "text": [
      "<class 'list'>\n"
     ]
    }
   ],
   "source": [
    "a=[]\n",
    "print(type(a))"
   ]
  },
  {
   "cell_type": "code",
   "execution_count": 12,
   "metadata": {},
   "outputs": [],
   "source": [
    "a=[1,2,3]"
   ]
  },
  {
   "cell_type": "code",
   "execution_count": 13,
   "metadata": {},
   "outputs": [
    {
     "name": "stdout",
     "output_type": "stream",
     "text": [
      "[1, 2, 3]\n"
     ]
    }
   ],
   "source": [
    "print(a)"
   ]
  },
  {
   "cell_type": "code",
   "execution_count": 14,
   "metadata": {},
   "outputs": [
    {
     "name": "stdout",
     "output_type": "stream",
     "text": [
      "6\n"
     ]
    }
   ],
   "source": [
    "a=[1,2,3,4,5,6]\n",
    "print(len(a))"
   ]
  },
  {
   "cell_type": "code",
   "execution_count": 15,
   "metadata": {},
   "outputs": [
    {
     "name": "stdout",
     "output_type": "stream",
     "text": [
      "3\n"
     ]
    }
   ],
   "source": [
    "print(a[2])"
   ]
  },
  {
   "cell_type": "code",
   "execution_count": 17,
   "metadata": {},
   "outputs": [
    {
     "name": "stdout",
     "output_type": "stream",
     "text": [
      "6\n"
     ]
    }
   ],
   "source": [
    "print(a[len(a)-1])"
   ]
  },
  {
   "cell_type": "code",
   "execution_count": 18,
   "metadata": {},
   "outputs": [
    {
     "name": "stdout",
     "output_type": "stream",
     "text": [
      "[2, 3]\n"
     ]
    }
   ],
   "source": [
    "print(a[1:3])"
   ]
  },
  {
   "cell_type": "code",
   "execution_count": 19,
   "metadata": {},
   "outputs": [
    {
     "name": "stdout",
     "output_type": "stream",
     "text": [
      "[4, 5, 6]\n"
     ]
    }
   ],
   "source": [
    "print(a[3:])"
   ]
  },
  {
   "cell_type": "code",
   "execution_count": 20,
   "metadata": {},
   "outputs": [
    {
     "name": "stdout",
     "output_type": "stream",
     "text": [
      "[1, 3, 5]\n"
     ]
    }
   ],
   "source": [
    "print(a[0::+2])"
   ]
  },
  {
   "cell_type": "code",
   "execution_count": 22,
   "metadata": {},
   "outputs": [
    {
     "name": "stdout",
     "output_type": "stream",
     "text": [
      "[6, 5, 4, 3, 2, 1]\n"
     ]
    }
   ],
   "source": [
    "print(a[len(a)-1::-1])"
   ]
  },
  {
   "cell_type": "code",
   "execution_count": 23,
   "metadata": {},
   "outputs": [
    {
     "name": "stdout",
     "output_type": "stream",
     "text": [
      "[6, 4, 2]\n"
     ]
    }
   ],
   "source": [
    "print(a[len(a)-1::-2])"
   ]
  },
  {
   "cell_type": "code",
   "execution_count": 2,
   "metadata": {},
   "outputs": [
    {
     "name": "stdout",
     "output_type": "stream",
     "text": [
      "[1, 2, 3, 4, 5, 6, 7]\n"
     ]
    }
   ],
   "source": [
    "a=[1,2,3,4,5,6]\n",
    "a.append(7)\n",
    "print(a)"
   ]
  },
  {
   "cell_type": "raw",
   "metadata": {},
   "source": []
  },
  {
   "cell_type": "code",
   "execution_count": 3,
   "metadata": {},
   "outputs": [
    {
     "name": "stdout",
     "output_type": "stream",
     "text": [
      "[1, 42, 2, 3, 4, 5, 6, 7]\n"
     ]
    }
   ],
   "source": [
    "a.insert(1,42)\n",
    "print(a)"
   ]
  },
  {
   "cell_type": "code",
   "execution_count": 4,
   "metadata": {},
   "outputs": [
    {
     "name": "stdout",
     "output_type": "stream",
     "text": [
      "[1, 42, 2, 3, 4, 5, 6]\n"
     ]
    }
   ],
   "source": [
    "a.pop(7)\n",
    "print(a)"
   ]
  },
  {
   "cell_type": "code",
   "execution_count": 5,
   "metadata": {},
   "outputs": [
    {
     "name": "stdout",
     "output_type": "stream",
     "text": [
      "[1, 2, 3, 4, 5, 6]\n"
     ]
    }
   ],
   "source": [
    "a.pop(1)\n",
    "print(a)"
   ]
  },
  {
   "cell_type": "code",
   "execution_count": 6,
   "metadata": {},
   "outputs": [
    {
     "name": "stdout",
     "output_type": "stream",
     "text": [
      "[12, 34, 67, 54]\n"
     ]
    }
   ],
   "source": [
    "d=[12,45,34,67,54]\n",
    "d.remove(45)\n",
    "print(d)"
   ]
  },
  {
   "cell_type": "code",
   "execution_count": 7,
   "metadata": {},
   "outputs": [
    {
     "name": "stdout",
     "output_type": "stream",
     "text": [
      "frequencyis: 3\n"
     ]
    }
   ],
   "source": [
    "b=[11,2,11,2,11,2,3,6,4,5,7,8]\n",
    "f=b.count(11)\n",
    "print(\"frequencyis:\",f)"
   ]
  },
  {
   "cell_type": "code",
   "execution_count": 9,
   "metadata": {},
   "outputs": [
    {
     "name": "stdout",
     "output_type": "stream",
     "text": [
      "[1, 2, 3, 4, 5]\n"
     ]
    }
   ],
   "source": [
    "c=[1,2,3,4,\"ads\",5]\n",
    "del c[4]\n",
    "print(c)"
   ]
  },
  {
   "cell_type": "code",
   "execution_count": 12,
   "metadata": {},
   "outputs": [
    {
     "ename": "SyntaxError",
     "evalue": "invalid syntax (<ipython-input-12-3ce3b3410ceb>, line 1)",
     "output_type": "error",
     "traceback": [
      "\u001b[1;36m  File \u001b[1;32m\"<ipython-input-12-3ce3b3410ceb>\"\u001b[1;36m, line \u001b[1;32m1\u001b[0m\n\u001b[1;33m    in=c.index(4)\u001b[0m\n\u001b[1;37m     ^\u001b[0m\n\u001b[1;31mSyntaxError\u001b[0m\u001b[1;31m:\u001b[0m invalid syntax\n"
     ]
    }
   ],
   "source": [
    "in=c.index(4)\n",
    "print(in)"
   ]
  },
  {
   "cell_type": "code",
   "execution_count": 13,
   "metadata": {},
   "outputs": [
    {
     "name": "stdout",
     "output_type": "stream",
     "text": [
      "3\n"
     ]
    }
   ],
   "source": [
    "ab=[23,5,76,45,87]\n",
    "ind=ab.index(45)\n",
    "print(ind)"
   ]
  },
  {
   "cell_type": "code",
   "execution_count": 14,
   "metadata": {},
   "outputs": [
    {
     "name": "stdout",
     "output_type": "stream",
     "text": [
      "[5, 23, 45, 76, 87]\n"
     ]
    }
   ],
   "source": [
    "ab.sort()\n",
    "print(ab)"
   ]
  },
  {
   "cell_type": "code",
   "execution_count": 15,
   "metadata": {},
   "outputs": [
    {
     "name": "stdout",
     "output_type": "stream",
     "text": [
      "[87, 76, 45, 23, 5]\n"
     ]
    }
   ],
   "source": [
    "ab.reverse()\n",
    "print(ab)"
   ]
  },
  {
   "cell_type": "code",
   "execution_count": 16,
   "metadata": {},
   "outputs": [],
   "source": [
    "l=[1,2]\n",
    "l.extend([1,2,3])"
   ]
  },
  {
   "cell_type": "code",
   "execution_count": 17,
   "metadata": {},
   "outputs": [
    {
     "name": "stdout",
     "output_type": "stream",
     "text": [
      "[1, 2, 1, 2, 3]\n"
     ]
    }
   ],
   "source": [
    "print(l)"
   ]
  },
  {
   "cell_type": "code",
   "execution_count": 18,
   "metadata": {},
   "outputs": [
    {
     "name": "stdout",
     "output_type": "stream",
     "text": [
      "[]\n"
     ]
    }
   ],
   "source": [
    "a.clear()\n",
    "print(a)"
   ]
  },
  {
   "cell_type": "code",
   "execution_count": 19,
   "metadata": {},
   "outputs": [
    {
     "name": "stdout",
     "output_type": "stream",
     "text": [
      "[1, 2, 3, 4, 5, 6]\n"
     ]
    }
   ],
   "source": [
    "n=[1,2,3,4,5,5]\n",
    "n[5]=6\n",
    "print(n)"
   ]
  },
  {
   "cell_type": "code",
   "execution_count": 21,
   "metadata": {},
   "outputs": [
    {
     "name": "stdout",
     "output_type": "stream",
     "text": [
      "[5, 6]\n"
     ]
    }
   ],
   "source": [
    "d=[[1,2,3],[4,5,6],[456,7]]\n",
    "print(d[1][1:])"
   ]
  },
  {
   "cell_type": "code",
   "execution_count": 22,
   "metadata": {},
   "outputs": [
    {
     "name": "stdout",
     "output_type": "stream",
     "text": [
      "[[1, 2, 3], [4, 5, 6], [[1, 2, 3], 7]]\n"
     ]
    }
   ],
   "source": [
    "d[2][0]=[1,2,3]\n",
    "print(d)"
   ]
  },
  {
   "cell_type": "code",
   "execution_count": 23,
   "metadata": {},
   "outputs": [
    {
     "name": "stdout",
     "output_type": "stream",
     "text": [
      "['ml', 'python', 'dl', 'django', 'java']\n"
     ]
    }
   ],
   "source": [
    "data=[\"c\",\"ml\",\"python\",\"dl\",\"django\",\"java\"]\n",
    "data.remove(\"c\")\n",
    "print(data)"
   ]
  },
  {
   "cell_type": "code",
   "execution_count": 28,
   "metadata": {},
   "outputs": [
    {
     "name": "stdout",
     "output_type": "stream",
     "text": [
      "['ai', 'django', 'dm', 'dm', 'dm', 'java', 'ml', 'python']\n"
     ]
    }
   ],
   "source": [
    "data.insert(3,\"dm\")\n",
    "print(data)"
   ]
  },
  {
   "cell_type": "code",
   "execution_count": 25,
   "metadata": {},
   "outputs": [
    {
     "name": "stdout",
     "output_type": "stream",
     "text": [
      "['ml', 'python', 'ai', 'dm', 'django', 'java']\n"
     ]
    }
   ],
   "source": [
    "data[2]=\"ai\"\n",
    "print(data)"
   ]
  },
  {
   "cell_type": "code",
   "execution_count": 26,
   "metadata": {},
   "outputs": [
    {
     "name": "stdout",
     "output_type": "stream",
     "text": [
      "['ai', 'django', 'dm', 'java', 'ml', 'python']\n"
     ]
    }
   ],
   "source": [
    "data.sort()\n",
    "print(data)"
   ]
  },
  {
   "cell_type": "code",
   "execution_count": 13,
   "metadata": {},
   "outputs": [],
   "source": [
    "a=[\"c\",\"lm\",\"python\",\"dl\",\"java\"]"
   ]
  },
  {
   "cell_type": "code",
   "execution_count": 14,
   "metadata": {},
   "outputs": [
    {
     "name": "stdout",
     "output_type": "stream",
     "text": [
      "['lm', 'python', 'dl', 'java']\n"
     ]
    }
   ],
   "source": [
    "a.remove(\"c\")\n",
    "print(a)"
   ]
  },
  {
   "cell_type": "code",
   "execution_count": 16,
   "metadata": {},
   "outputs": [
    {
     "name": "stdout",
     "output_type": "stream",
     "text": [
      "['lm', 'python', 'dm', 'dl', 'dm', 'java']\n"
     ]
    }
   ],
   "source": [
    "a.insert(2,\"dm\")\n",
    "print(a)"
   ]
  },
  {
   "cell_type": "code",
   "execution_count": 17,
   "metadata": {},
   "outputs": [
    {
     "name": "stdout",
     "output_type": "stream",
     "text": [
      "['lm', 'python', 'dm', 'ai', 'dm', 'java']\n"
     ]
    }
   ],
   "source": [
    "a[3]=\"ai\"\n",
    "print(a)"
   ]
  },
  {
   "cell_type": "code",
   "execution_count": 18,
   "metadata": {},
   "outputs": [
    {
     "name": "stdout",
     "output_type": "stream",
     "text": [
      "['ai', 'dm', 'dm', 'java', 'lm', 'python']\n"
     ]
    }
   ],
   "source": [
    "a.sort()\n",
    "print(a)"
   ]
  },
  {
   "cell_type": "code",
   "execution_count": 20,
   "metadata": {},
   "outputs": [
    {
     "name": "stdout",
     "output_type": "stream",
     "text": [
      "['python', 'java']\n"
     ]
    }
   ],
   "source": [
    "in_java=a.index(\"java\")\n",
    "in_python=a.index(\"python\")\n",
    "nd=[a[in_python],a[in_java]]\n",
    "print(nd)"
   ]
  },
  {
   "cell_type": "code",
   "execution_count": 24,
   "metadata": {},
   "outputs": [
    {
     "name": "stdout",
     "output_type": "stream",
     "text": [
      "['java', 'python']\n"
     ]
    }
   ],
   "source": [
    "nd.sort()\n",
    "print(nd)"
   ]
  },
  {
   "cell_type": "code",
   "execution_count": 42,
   "metadata": {},
   "outputs": [],
   "source": [
    "b=[1,2,3,4,5,6,7,8]"
   ]
  },
  {
   "cell_type": "code",
   "execution_count": 43,
   "metadata": {},
   "outputs": [
    {
     "data": {
      "text/plain": [
       "1"
      ]
     },
     "execution_count": 43,
     "metadata": {},
     "output_type": "execute_result"
    }
   ],
   "source": [
    "b.count(3)"
   ]
  },
  {
   "cell_type": "code",
   "execution_count": 44,
   "metadata": {},
   "outputs": [
    {
     "name": "stdout",
     "output_type": "stream",
     "text": [
      "8\n"
     ]
    }
   ],
   "source": [
    "print(len(b))"
   ]
  },
  {
   "cell_type": "code",
   "execution_count": 45,
   "metadata": {},
   "outputs": [
    {
     "name": "stdout",
     "output_type": "stream",
     "text": [
      "8\n"
     ]
    }
   ],
   "source": [
    "print(b[len(b)-1])"
   ]
  },
  {
   "cell_type": "code",
   "execution_count": 46,
   "metadata": {},
   "outputs": [
    {
     "name": "stdout",
     "output_type": "stream",
     "text": [
      "[2, 3, 4]\n"
     ]
    }
   ],
   "source": [
    "print(b[1:4])"
   ]
  },
  {
   "cell_type": "code",
   "execution_count": 49,
   "metadata": {},
   "outputs": [
    {
     "name": "stdout",
     "output_type": "stream",
     "text": [
      "[1, 3, 5, 7]\n"
     ]
    }
   ],
   "source": [
    "print(b[0::+2])"
   ]
  },
  {
   "cell_type": "code",
   "execution_count": 50,
   "metadata": {},
   "outputs": [
    {
     "name": "stdout",
     "output_type": "stream",
     "text": [
      "[8, 7, 6, 5, 4, 3, 2, 1]\n"
     ]
    }
   ],
   "source": [
    "b.reverse()\n",
    "print(b)"
   ]
  },
  {
   "cell_type": "code",
   "execution_count": 54,
   "metadata": {},
   "outputs": [
    {
     "name": "stdout",
     "output_type": "stream",
     "text": [
      "[1, 3, 5, 7]\n"
     ]
    }
   ],
   "source": [
    "print(b[len(b)-1::-2])"
   ]
  },
  {
   "cell_type": "code",
   "execution_count": 55,
   "metadata": {},
   "outputs": [],
   "source": [
    "a=[[1,2,3],[4,5,6],[456,8]]"
   ]
  },
  {
   "cell_type": "code",
   "execution_count": 56,
   "metadata": {},
   "outputs": [
    {
     "name": "stdout",
     "output_type": "stream",
     "text": [
      "[[1, 2, 3], [4, 5, 6], [[1, 2, 3], 8]]\n"
     ]
    }
   ],
   "source": [
    "a[2][0]=[1,2,3]\n",
    "print(a)"
   ]
  },
  {
   "cell_type": "code",
   "execution_count": 57,
   "metadata": {},
   "outputs": [],
   "source": [
    "b=[1,2,3,4,5,6,7,8]"
   ]
  },
  {
   "cell_type": "code",
   "execution_count": 58,
   "metadata": {},
   "outputs": [
    {
     "name": "stdout",
     "output_type": "stream",
     "text": [
      "8\n"
     ]
    }
   ],
   "source": [
    "print(len(b))"
   ]
  },
  {
   "cell_type": "code",
   "execution_count": 60,
   "metadata": {},
   "outputs": [
    {
     "name": "stdout",
     "output_type": "stream",
     "text": [
      "1\n"
     ]
    }
   ],
   "source": [
    "print(b[0])"
   ]
  },
  {
   "cell_type": "code",
   "execution_count": 63,
   "metadata": {},
   "outputs": [
    {
     "name": "stdout",
     "output_type": "stream",
     "text": [
      "[1, 2, 3, 4, 5, 6, 7, 8]\n"
     ]
    }
   ],
   "source": [
    "print(b[0::])"
   ]
  },
  {
   "cell_type": "code",
   "execution_count": 66,
   "metadata": {},
   "outputs": [
    {
     "name": "stdout",
     "output_type": "stream",
     "text": [
      "[1, 3, 5, 7]\n"
     ]
    }
   ],
   "source": [
    "print(b[0::+2])"
   ]
  },
  {
   "cell_type": "code",
   "execution_count": 69,
   "metadata": {},
   "outputs": [
    {
     "name": "stdout",
     "output_type": "stream",
     "text": [
      "8\n"
     ]
    }
   ],
   "source": [
    "print(b[-1])"
   ]
  },
  {
   "cell_type": "code",
   "execution_count": 72,
   "metadata": {},
   "outputs": [
    {
     "name": "stdout",
     "output_type": "stream",
     "text": [
      "[8, 7, 6, 5, 4, 3, 2, 1]\n"
     ]
    }
   ],
   "source": [
    "print(b[-1::-1])"
   ]
  },
  {
   "cell_type": "code",
   "execution_count": 74,
   "metadata": {},
   "outputs": [
    {
     "name": "stdout",
     "output_type": "stream",
     "text": [
      "[8, 6, 4, 2]\n"
     ]
    }
   ],
   "source": [
    "print(b[-1::-2])"
   ]
  },
  {
   "cell_type": "code",
   "execution_count": 1,
   "metadata": {},
   "outputs": [
    {
     "name": "stdout",
     "output_type": "stream",
     "text": [
      "<class 'int'>\n",
      "<class 'str'>\n"
     ]
    }
   ],
   "source": [
    "n=76\n",
    "v=str(n)\n",
    "print(type(n))\n",
    "print(type(v))"
   ]
  },
  {
   "cell_type": "code",
   "execution_count": 12,
   "metadata": {},
   "outputs": [
    {
     "name": "stdout",
     "output_type": "stream",
     "text": [
      "sectonoida \n"
     ]
    }
   ],
   "source": [
    "a=\"noida sector 15\"\n",
    "print(a[6:11]+\"\"+a[0:6])"
   ]
  },
  {
   "cell_type": "code",
   "execution_count": 4,
   "metadata": {},
   "outputs": [
    {
     "ename": "SyntaxError",
     "evalue": "invalid syntax (<ipython-input-4-2851555654b6>, line 3)",
     "output_type": "error",
     "traceback": [
      "\u001b[1;36m  File \u001b[1;32m\"<ipython-input-4-2851555654b6>\"\u001b[1;36m, line \u001b[1;32m3\u001b[0m\n\u001b[1;33m    print(a[13:22]+\"\"+[len(a)-1:22::1])\u001b[0m\n\u001b[1;37m                               ^\u001b[0m\n\u001b[1;31mSyntaxError\u001b[0m\u001b[1;31m:\u001b[0m invalid syntax\n"
     ]
    }
   ],
   "source": [
    "a=\"angry rabbit is hungry rabbit\"\n",
    "print(a[6:12],a[0:5])\n",
    "print(a[13:22]+\"\"+[len(a)-1:22::1])"
   ]
  },
  {
   "cell_type": "code",
   "execution_count": 17,
   "metadata": {},
   "outputs": [
    {
     "name": "stdout",
     "output_type": "stream",
     "text": [
      "AVXVDCCB\n"
     ]
    }
   ],
   "source": [
    "a=\"avxvdccb\"\n",
    "b=a.upper()\n",
    "print(b)"
   ]
  },
  {
   "cell_type": "code",
   "execution_count": 16,
   "metadata": {},
   "outputs": [
    {
     "name": "stdout",
     "output_type": "stream",
     "text": [
      "adasfaf\n"
     ]
    }
   ],
   "source": [
    "b=\"ADASFAF\"\n",
    "c=b.lower()\n",
    "print(c)"
   ]
  },
  {
   "cell_type": "code",
   "execution_count": 19,
   "metadata": {},
   "outputs": [
    {
     "name": "stdout",
     "output_type": "stream",
     "text": [
      "Angry monkey\n"
     ]
    }
   ],
   "source": [
    "a=\"angry monkey\"\n",
    "b=a.capitalize()\n",
    "print(b)"
   ]
  },
  {
   "cell_type": "code",
   "execution_count": 20,
   "metadata": {},
   "outputs": [
    {
     "name": "stdout",
     "output_type": "stream",
     "text": [
      "Angry Monkey\n"
     ]
    }
   ],
   "source": [
    "a=\"angry monkey\"\n",
    "b=a.title()\n",
    "print(b)"
   ]
  },
  {
   "cell_type": "code",
   "execution_count": 21,
   "metadata": {},
   "outputs": [
    {
     "name": "stdout",
     "output_type": "stream",
     "text": [
      "cahtur is idiot\n"
     ]
    }
   ],
   "source": [
    "a=\"cahtur is idiot\"\n",
    "print(a.replace(\"chatur\",\"raju\"))"
   ]
  },
  {
   "cell_type": "code",
   "execution_count": 22,
   "metadata": {},
   "outputs": [
    {
     "name": "stdout",
     "output_type": "stream",
     "text": [
      "7\n",
      "5\n"
     ]
    }
   ],
   "source": [
    "a=\" hello \"\n",
    "b=a.strip()\n",
    "print(len(a))\n",
    "print(len(b))"
   ]
  },
  {
   "cell_type": "code",
   "execution_count": 23,
   "metadata": {},
   "outputs": [
    {
     "name": "stdout",
     "output_type": "stream",
     "text": [
      "['2456988', '9089765']\n"
     ]
    }
   ],
   "source": [
    "a=\"2456988A9089765\"\n",
    "print(a.split(\"A\"))"
   ]
  },
  {
   "cell_type": "code",
   "execution_count": 27,
   "metadata": {},
   "outputs": [
    {
     "name": "stdout",
     "output_type": "stream",
     "text": [
      "enter stringhjghg7\n",
      "True\n"
     ]
    }
   ],
   "source": [
    "a=str(input(\"enter string\"))\n",
    "print(a.isalnum())"
   ]
  },
  {
   "cell_type": "code",
   "execution_count": 36,
   "metadata": {},
   "outputs": [
    {
     "name": "stdout",
     "output_type": "stream",
     "text": [
      "dict_keys(['av', 'nnm', 'kkk', 'trumph', (1, 3), 'b', 'c'])\n"
     ]
    }
   ],
   "source": [
    "a={\"av\":87,\"nnm\":98,\"kkk\":89}\n",
    "a[\"trumph\"]=10\n",
    "a[(1,3)]=(1,2,3)\n",
    "a.update({\"a\":45,\"b\":46,\"c\":84})\n",
    "a.pop(\"a\")\n",
    "a_name=a.keys()\n",
    "print(a_name)"
   ]
  },
  {
   "cell_type": "code",
   "execution_count": 1,
   "metadata": {},
   "outputs": [],
   "source": [
    "a=\"noida sector 15\""
   ]
  },
  {
   "cell_type": "code",
   "execution_count": 3,
   "metadata": {},
   "outputs": [
    {
     "name": "stdout",
     "output_type": "stream",
     "text": [
      "sectornoida \n"
     ]
    }
   ],
   "source": [
    "print(a[6:12]+\"\"+a[0:6])"
   ]
  },
  {
   "cell_type": "code",
   "execution_count": 7,
   "metadata": {},
   "outputs": [],
   "source": [
    "b=\"angry rabbit is hungary rabbit\""
   ]
  },
  {
   "cell_type": "code",
   "execution_count": 10,
   "metadata": {},
   "outputs": [
    {
     "name": "stdout",
     "output_type": "stream",
     "text": [
      "rabbithungary\n",
      "is hungary tibbar\n"
     ]
    }
   ],
   "source": [
    "print(b[6:12]+\"\"+b[16:23])\n",
    "print(b[13:15],b[16:23],b[11:5:-1])"
   ]
  },
  {
   "cell_type": "code",
   "execution_count": 12,
   "metadata": {},
   "outputs": [
    {
     "name": "stdout",
     "output_type": "stream",
     "text": [
      "VINAY RAWAT\n"
     ]
    }
   ],
   "source": [
    "a=\"vinay rawat\"\n",
    "b=a.upper()\n",
    "print(b)"
   ]
  },
  {
   "cell_type": "code",
   "execution_count": 14,
   "metadata": {},
   "outputs": [
    {
     "name": "stdout",
     "output_type": "stream",
     "text": [
      "Vinay rawat\n"
     ]
    }
   ],
   "source": [
    "c=a.capitalize()\n",
    "print(c)"
   ]
  },
  {
   "cell_type": "code",
   "execution_count": 15,
   "metadata": {},
   "outputs": [
    {
     "name": "stdout",
     "output_type": "stream",
     "text": [
      "Vinay Rawat\n"
     ]
    }
   ],
   "source": [
    "d=a.title()\n",
    "print(d)"
   ]
  },
  {
   "cell_type": "code",
   "execution_count": 16,
   "metadata": {},
   "outputs": [
    {
     "name": "stdout",
     "output_type": "stream",
     "text": [
      "raju is an idiot\n"
     ]
    }
   ],
   "source": [
    "x=\"chatur is an idiot\"\n",
    "print(x.replace(\"chatur\",\"raju\"))"
   ]
  },
  {
   "cell_type": "code",
   "execution_count": 21,
   "metadata": {},
   "outputs": [
    {
     "name": "stdout",
     "output_type": "stream",
     "text": [
      "cetpa\n"
     ]
    }
   ],
   "source": [
    "l=[\"c\",\"e\",\"t\",\"p\",\"a\"]\n",
    "a=\"\".join(l)\n",
    "print(a)"
   ]
  },
  {
   "cell_type": "code",
   "execution_count": 22,
   "metadata": {},
   "outputs": [
    {
     "name": "stdout",
     "output_type": "stream",
     "text": [
      "['131331', '985948']\n"
     ]
    }
   ],
   "source": [
    "a=\"131331A985948\"\n",
    "b=a.split(\"A\")\n",
    "print(b)"
   ]
  },
  {
   "cell_type": "code",
   "execution_count": 23,
   "metadata": {},
   "outputs": [
    {
     "name": "stdout",
     "output_type": "stream",
     "text": [
      "hey\n"
     ]
    }
   ],
   "source": [
    "a=\" hey \"\n",
    "b=a.strip()\n",
    "print(b)"
   ]
  },
  {
   "cell_type": "code",
   "execution_count": 24,
   "metadata": {},
   "outputs": [
    {
     "name": "stdout",
     "output_type": "stream",
     "text": [
      "enter stringjdhjsdfhjsd\n",
      "True\n"
     ]
    }
   ],
   "source": [
    "a=str(input(\"enter string\"))\n",
    "print(a.islower())"
   ]
  },
  {
   "cell_type": "code",
   "execution_count": null,
   "metadata": {},
   "outputs": [],
   "source": [
    "a=str(input(\"enter digit\"))\n",
    "print(a.isalnum())"
   ]
  },
  {
   "cell_type": "code",
   "execution_count": 3,
   "metadata": {},
   "outputs": [
    {
     "name": "stdout",
     "output_type": "stream",
     "text": [
      "enter stringnjsngfgn76\n",
      "True\n"
     ]
    }
   ],
   "source": [
    "a=str(input(\"enter string\"))\n",
    "print(a.isalnum())"
   ]
  },
  {
   "cell_type": "code",
   "execution_count": 2,
   "metadata": {},
   "outputs": [
    {
     "name": "stdout",
     "output_type": "stream",
     "text": [
      "enter stringkkdfj56\n",
      "False\n"
     ]
    }
   ],
   "source": [
    "b=str(input(\"enter string\"))\n",
    "print(b.isalpha())"
   ]
  },
  {
   "cell_type": "code",
   "execution_count": 1,
   "metadata": {},
   "outputs": [
    {
     "name": "stdout",
     "output_type": "stream",
     "text": [
      "{'a': 43, 'b': 65, 'c': 87, 'd': 56}\n"
     ]
    }
   ],
   "source": [
    "a={\"a\":43,\"b\":65,\"c\":87}\n",
    "a[\"d\"]=56\n",
    "print(a)"
   ]
  },
  {
   "cell_type": "code",
   "execution_count": 9,
   "metadata": {},
   "outputs": [
    {
     "name": "stdout",
     "output_type": "stream",
     "text": [
      "{'a': 89, 'b': 54, 'y': 67, 'v': 45}\n",
      "dict_keys(['a', 'b', 'y', 'v'])\n",
      "dict_values([89, 54, 67, 45])\n",
      "{'a': 89, 'b': 54, 'v': 45}\n"
     ]
    }
   ],
   "source": [
    "a={\"a\":89,\"b\":54}\n",
    "a.update({\"y\":67,\"v\":45})\n",
    "a_name=a.keys()\n",
    "a_value=a.values()\n",
    "print(a)\n",
    "print(a_name)\n",
    "print(a_value)\n",
    "a.pop(\"y\")\n",
    "print(a)"
   ]
  },
  {
   "cell_type": "code",
   "execution_count": 1,
   "metadata": {},
   "outputs": [
    {
     "name": "stdout",
     "output_type": "stream",
     "text": [
      "enter no.:45\n",
      "enter no:78\n",
      "False\n",
      "True\n",
      "False\n",
      "False\n",
      "True\n",
      "True\n"
     ]
    }
   ],
   "source": [
    "x=float(input(\"enter no.:\"))\n",
    "y=float(input(\"enter no:\"))\n",
    "print(x==y)\n",
    "print(x!=y)\n",
    "print(x>y)\n",
    "print(x>=y)\n",
    "print(x<y)\n",
    "print(x<=y)"
   ]
  },
  {
   "cell_type": "code",
   "execution_count": 5,
   "metadata": {},
   "outputs": [
    {
     "name": "stdout",
     "output_type": "stream",
     "text": [
      "True\n",
      "True\n"
     ]
    }
   ],
   "source": [
    "a=1\n",
    "b=2\n",
    "c=1\n",
    "d=4\n",
    "print((a<b)or(c>d))\n",
    "print(not((a<b)and(c>d)))"
   ]
  },
  {
   "cell_type": "code",
   "execution_count": 7,
   "metadata": {},
   "outputs": [
    {
     "name": "stdout",
     "output_type": "stream",
     "text": [
      "enter productsamosa\n",
      "10 units\n"
     ]
    }
   ],
   "source": [
    "x=str(input(\"enter product\"))\n",
    "if(x==\"samosa\"):\n",
    "    print(\"10 units\")\n",
    "      "
   ]
  },
  {
   "cell_type": "code",
   "execution_count": 10,
   "metadata": {},
   "outputs": [
    {
     "name": "stdout",
     "output_type": "stream",
     "text": [
      "enter product:hago\n",
      "1 dozen\n"
     ]
    }
   ],
   "source": [
    "a=str(input(\"enter product:\"))\n",
    "if(a==\"apple\"):\n",
    "    print(\"1kg\")\n",
    "else:\n",
    "    print(\"1 dozen\")"
   ]
  },
  {
   "cell_type": "code",
   "execution_count": 13,
   "metadata": {},
   "outputs": [
    {
     "name": "stdout",
     "output_type": "stream",
     "text": [
      "enter email:ABC@EMAIL.COM\n",
      "invalid email\n"
     ]
    }
   ],
   "source": [
    "le=[\"ab@email.com\",\"cv@email.com\"]\n",
    "lp=[\"123\",\"123ds\"]\n",
    "e=str(input(\"enter email:\"))\n",
    "if e.lower() in le:\n",
    "    ind=le.index(e.lowe())\n",
    "    p=str(input(\"enter pass:\"))\n",
    "    if p==lp[ind]:\n",
    "        print(\"access granted\")\n",
    "    else:\n",
    "        print(\"incorrect\")\n",
    "else:\n",
    "    print(\"invalid email\")"
   ]
  },
  {
   "cell_type": "markdown",
   "metadata": {},
   "source": []
  },
  {
   "cell_type": "code",
   "execution_count": null,
   "metadata": {},
   "outputs": [],
   "source": [
    "while(True):\n",
    "    print(\"@@-- calculator ---@@\")\n",
    "    print(\" \")\n",
    "    print(\"1:add 2:sub 3:mul 4:div 5:exit\")\n",
    "    print(\"-----------------------\")\n",
    "    ch=int(input(\"enter choice\"))\n",
    "    if ch==1:\n",
    "        x=float(input(\"enter no :\"))\n",
    "        y=float(input(\"enter no :\"))\n",
    "        add=x+y\n",
    "        print(\"sum is :\",add)\n",
    "    elif ch==2:    \n",
    "        x=float(input(\"enter no :\"))\n",
    "        y=float(input(\"enter no :\"))\n",
    "        sub=x-y\n",
    "        print(\"sub is :\",sub)\n",
    "    elif ch==3:    \n",
    "        x=float(input(\"enter no :\"))\n",
    "        y=float(input(\"enter no :\"))\n",
    "        mul=x*y\n",
    "        print(\"mul is :\",mul)\n",
    "    elif ch==4:    \n",
    "        x=float(input(\"enter no :\"))\n",
    "        y=float(input(\"enter no :\"))\n",
    "        div=x/y\n",
    "        print(\"div is :\",div)\n",
    "    elif ch==5:\n",
    "        break\n",
    "    \n",
    "    else:\n",
    "        print(\"invalid\")\n",
    "        print(\"terminated\")\n",
    "      \n",
    "\n",
    "      \n",
    "      \n",
    "      \n"
   ]
  },
  {
   "cell_type": "code",
   "execution_count": 9,
   "metadata": {},
   "outputs": [
    {
     "name": "stdout",
     "output_type": "stream",
     "text": [
      "enter card no :12345\n",
      "enter pin4567\n",
      "enter amount500\n",
      "rb is : 14500\n"
     ]
    }
   ],
   "source": [
    "c=int(input(\"enter card no :\"))\n",
    "if c==12345:\n",
    "        e=int(input(\"enter pin\"))\n",
    "        if e==4567:\n",
    "            tb=15000\n",
    "            amt=int(input(\"enter amount\"))\n",
    "            tb=tb-amt\n",
    "            print(\"rb is :\",tb)\n",
    "        else:\n",
    "            print(\"incorrect pin\")\n",
    "            \n",
    "            \n",
    "else:\n",
    "    print(\"card not working\")"
   ]
  },
  {
   "cell_type": "code",
   "execution_count": 14,
   "metadata": {},
   "outputs": [
    {
     "name": "stdout",
     "output_type": "stream",
     "text": [
      "enter emailABC@.COM\n",
      "enter pass123a\n",
      "access\n"
     ]
    }
   ],
   "source": [
    "le=[\"abc@.com\",\"bca@.com\"]\n",
    "lp=[\"123a\",\"542a\"]\n",
    "e=str(input(\"enter email\"))\n",
    "if e.lower() in le:\n",
    "    ind=le.index(e.lower())\n",
    "    p=str(input(\"enter pass\"))\n",
    "    if p==lp[ind]:\n",
    "        print(\"access\")\n",
    "    else:\n",
    "        print(\"incorrect pass\")\n",
    "else:\n",
    "    print(\"invalid email\")"
   ]
  },
  {
   "cell_type": "code",
   "execution_count": 5,
   "metadata": {},
   "outputs": [
    {
     "name": "stdout",
     "output_type": "stream",
     "text": [
      "enter pin:1234\n",
      "1:cb 2:withdraw 3:exit\n",
      "enter choice:2\n",
      "balance is: 15000\n",
      "enter pin:1234\n",
      "1:cb 2:withdraw 3:exit\n",
      "enter choice:1\n",
      "cash u want to withdraw:400\n",
      "insufficient\n",
      "enter pin:1234\n",
      "1:cb 2:withdraw 3:exit\n",
      "enter choice:1\n",
      "cash u want to withdraw:700\n",
      "balance is: 14300\n",
      "enter pin:1234\n",
      "1:cb 2:withdraw 3:exit\n",
      "enter choice:3\n"
     ]
    }
   ],
   "source": [
    "while(True):\n",
    "    tb=15000\n",
    "    p=int(input(\"enter pin:\"))\n",
    "    \n",
    "    if p==1234:\n",
    "        \n",
    "        print(\"1:cb 2:withdraw 3:exit\")\n",
    "        ch=int(input(\"enter choice:\"))\n",
    "        \n",
    "        if ch==1 :\n",
    "                     \n",
    "                a=int(input(\"cash u want to withdraw:\"))\n",
    "                if a<500:\n",
    "                    print(\"can't withdraw\")\n",
    "                else:\n",
    "                    tb=tb-a\n",
    "                    print(\"balance is:\",tb)\n",
    "        \n",
    "        \n",
    "        elif ch==2:\n",
    "              print(\"balance is:\",tb)\n",
    "        elif ch==3:\n",
    "              break \n",
    "        else:\n",
    "             print(\"no cash\")\n",
    "    else:\n",
    "         print(\"invalid pin\")\n",
    "            "
   ]
  },
  {
   "cell_type": "code",
   "execution_count": null,
   "metadata": {},
   "outputs": [
    {
     "name": "stdout",
     "output_type": "stream",
     "text": [
      "enter a number of entry3\n",
      "enter nameghfg5\n",
      "enter a number5656\n",
      "task done\n",
      "[{'ghfg5': 5656}]\n",
      "enter namegvgf\n",
      "enter a number9089\n",
      "task done\n",
      "[{'ghfg5': 5656}, {'gvgf': 9089}]\n",
      "enter namefgfgf\n",
      "enter a number989889\n",
      "task done\n",
      "[{'ghfg5': 5656}, {'gvgf': 9089}, {'fgfgf': 989889}]\n",
      "enter namegfgfhg\n",
      "enter a number8787\n",
      "task done\n",
      "[{'ghfg5': 5656}, {'gvgf': 9089}, {'fgfgf': 989889}, {'gfgfhg': 8787}]\n"
     ]
    }
   ],
   "source": [
    "d=[]\n",
    "e=int(input(\"enter a number of entry\"))\n",
    "while(True):\n",
    "    if(len(d)==e):\n",
    "        break\n",
    "    else:\n",
    "        name=str(input(\"enter name\"))\n",
    "        mob=int(input(\"enter a number\"))\n",
    "        d.append({name:mob})\n",
    "        e=e-1\n",
    "        print(\"task done\")\n",
    "        print(d)"
   ]
  },
  {
   "cell_type": "code",
   "execution_count": 1,
   "metadata": {},
   "outputs": [
    {
     "name": "stdout",
     "output_type": "stream",
     "text": [
      "1\n",
      "2\n",
      "3\n",
      "4\n",
      "5\n",
      "6\n"
     ]
    }
   ],
   "source": [
    "d=[1,2,3,4,5,6]\n",
    "for i in d:\n",
    "    print(i)"
   ]
  },
  {
   "cell_type": "code",
   "execution_count": 2,
   "metadata": {},
   "outputs": [
    {
     "name": "stdout",
     "output_type": "stream",
     "text": [
      "11\n",
      "[11]\n",
      "12\n",
      "[11, 12]\n",
      "13\n",
      "[11, 12, 13]\n",
      "14\n",
      "[11, 12, 13, 14]\n",
      "15\n",
      "[11, 12, 13, 14, 15]\n",
      "16\n",
      "[11, 12, 13, 14, 15, 16]\n",
      "17\n",
      "[11, 12, 13, 14, 15, 16, 17]\n",
      "18\n",
      "[11, 12, 13, 14, 15, 16, 17, 18]\n",
      "19\n",
      "[11, 12, 13, 14, 15, 16, 17, 18, 19]\n",
      "20\n",
      "[11, 12, 13, 14, 15, 16, 17, 18, 19, 20]\n"
     ]
    }
   ],
   "source": [
    "d=[]\n",
    "for i in range(11,21):\n",
    "    d.append(i)\n",
    "    print(i)\n",
    "    print(d)\n",
    "    "
   ]
  },
  {
   "cell_type": "code",
   "execution_count": 3,
   "metadata": {},
   "outputs": [
    {
     "name": "stdout",
     "output_type": "stream",
     "text": [
      "[56]\n",
      "[56, 32]\n"
     ]
    }
   ],
   "source": [
    "l=[56,1233,65,45,87,5,21,32]\n",
    "le=[]\n",
    "for i in l:\n",
    "    if(i%2==0):\n",
    "        le.append(i)\n",
    "        print(le)"
   ]
  },
  {
   "cell_type": "code",
   "execution_count": 6,
   "metadata": {},
   "outputs": [
    {
     "name": "stdout",
     "output_type": "stream",
     "text": [
      "enter no:45\n",
      "enter no:34\n"
     ]
    }
   ],
   "source": [
    "s=int(input(\"enter no:\"))\n",
    "st=int(input(\"enter no:\"))\n",
    "d=[]\n",
    "o=[]\n",
    "for i in range(s,st+1):\n",
    "    if(i%2==0):\n",
    "        d.append(i)\n",
    "    else:\n",
    "        o.append(i)\n",
    "        print(d)\n",
    "        print(o)\n",
    "        \n",
    "        \n",
    "        "
   ]
  },
  {
   "cell_type": "code",
   "execution_count": 9,
   "metadata": {},
   "outputs": [
    {
     "name": "stdout",
     "output_type": "stream",
     "text": [
      "1\t3\t5\t7\t9\t11\t"
     ]
    }
   ],
   "source": [
    "for i in range(1,12,+2):\n",
    "    print(i,end=\"\\t\")"
   ]
  },
  {
   "cell_type": "code",
   "execution_count": 10,
   "metadata": {},
   "outputs": [
    {
     "name": "stdout",
     "output_type": "stream",
     "text": [
      "[1]\n",
      "[1, 2]\n",
      "[1, 2, 3]\n",
      "[1, 2, 3, 4]\n",
      "[1, 2, 3, 4, 5]\n",
      "[1, 2, 3, 4, 5, 6]\n",
      "[1, 2, 3, 4, 5, 6, 7]\n",
      "[1, 2, 3, 4, 5, 6, 7, 8]\n",
      "[1, 2, 3, 4, 5, 6, 7, 8, 9]\n",
      "[1, 2, 3, 4, 5, 6, 7, 8, 9, 11]\n",
      "[1, 2, 3, 4, 5, 6, 7, 8, 9, 11, 22]\n",
      "[1, 2, 3, 4, 5, 6, 7, 8, 9, 11, 22, 33]\n",
      "[1, 2, 3, 4, 5, 6, 7, 8, 9, 11, 22, 33, 44]\n",
      "[1, 2, 3, 4, 5, 6, 7, 8, 9, 11, 22, 33, 44, 55]\n",
      "[1, 2, 3, 4, 5, 6, 7, 8, 9, 11, 22, 33, 44, 55, 66]\n",
      "[1, 2, 3, 4, 5, 6, 7, 8, 9, 11, 22, 33, 44, 55, 66, 77]\n",
      "[1, 2, 3, 4, 5, 6, 7, 8, 9, 11, 22, 33, 44, 55, 66, 77, 88]\n",
      "[1, 2, 3, 4, 5, 6, 7, 8, 9, 11, 22, 33, 44, 55, 66, 77, 88, 99]\n",
      "[1, 2, 3, 4, 5, 6, 7, 8, 9, 11, 22, 33, 44, 55, 66, 77, 88, 99, 101]\n",
      "[1, 2, 3, 4, 5, 6, 7, 8, 9, 11, 22, 33, 44, 55, 66, 77, 88, 99, 101, 111]\n",
      "[1, 2, 3, 4, 5, 6, 7, 8, 9, 11, 22, 33, 44, 55, 66, 77, 88, 99, 101, 111, 121]\n",
      "[1, 2, 3, 4, 5, 6, 7, 8, 9, 11, 22, 33, 44, 55, 66, 77, 88, 99, 101, 111, 121, 131]\n",
      "[1, 2, 3, 4, 5, 6, 7, 8, 9, 11, 22, 33, 44, 55, 66, 77, 88, 99, 101, 111, 121, 131, 141]\n",
      "[1, 2, 3, 4, 5, 6, 7, 8, 9, 11, 22, 33, 44, 55, 66, 77, 88, 99, 101, 111, 121, 131, 141, 151]\n",
      "[1, 2, 3, 4, 5, 6, 7, 8, 9, 11, 22, 33, 44, 55, 66, 77, 88, 99, 101, 111, 121, 131, 141, 151, 161]\n",
      "[1, 2, 3, 4, 5, 6, 7, 8, 9, 11, 22, 33, 44, 55, 66, 77, 88, 99, 101, 111, 121, 131, 141, 151, 161, 171]\n",
      "[1, 2, 3, 4, 5, 6, 7, 8, 9, 11, 22, 33, 44, 55, 66, 77, 88, 99, 101, 111, 121, 131, 141, 151, 161, 171, 181]\n",
      "[1, 2, 3, 4, 5, 6, 7, 8, 9, 11, 22, 33, 44, 55, 66, 77, 88, 99, 101, 111, 121, 131, 141, 151, 161, 171, 181, 191]\n",
      "[1, 2, 3, 4, 5, 6, 7, 8, 9, 11, 22, 33, 44, 55, 66, 77, 88, 99, 101, 111, 121, 131, 141, 151, 161, 171, 181, 191, 202]\n",
      "[1, 2, 3, 4, 5, 6, 7, 8, 9, 11, 22, 33, 44, 55, 66, 77, 88, 99, 101, 111, 121, 131, 141, 151, 161, 171, 181, 191, 202, 212]\n",
      "[1, 2, 3, 4, 5, 6, 7, 8, 9, 11, 22, 33, 44, 55, 66, 77, 88, 99, 101, 111, 121, 131, 141, 151, 161, 171, 181, 191, 202, 212, 222]\n",
      "[1, 2, 3, 4, 5, 6, 7, 8, 9, 11, 22, 33, 44, 55, 66, 77, 88, 99, 101, 111, 121, 131, 141, 151, 161, 171, 181, 191, 202, 212, 222, 232]\n",
      "[1, 2, 3, 4, 5, 6, 7, 8, 9, 11, 22, 33, 44, 55, 66, 77, 88, 99, 101, 111, 121, 131, 141, 151, 161, 171, 181, 191, 202, 212, 222, 232, 242]\n",
      "[1, 2, 3, 4, 5, 6, 7, 8, 9, 11, 22, 33, 44, 55, 66, 77, 88, 99, 101, 111, 121, 131, 141, 151, 161, 171, 181, 191, 202, 212, 222, 232, 242, 252]\n",
      "[1, 2, 3, 4, 5, 6, 7, 8, 9, 11, 22, 33, 44, 55, 66, 77, 88, 99, 101, 111, 121, 131, 141, 151, 161, 171, 181, 191, 202, 212, 222, 232, 242, 252, 262]\n",
      "[1, 2, 3, 4, 5, 6, 7, 8, 9, 11, 22, 33, 44, 55, 66, 77, 88, 99, 101, 111, 121, 131, 141, 151, 161, 171, 181, 191, 202, 212, 222, 232, 242, 252, 262, 272]\n",
      "[1, 2, 3, 4, 5, 6, 7, 8, 9, 11, 22, 33, 44, 55, 66, 77, 88, 99, 101, 111, 121, 131, 141, 151, 161, 171, 181, 191, 202, 212, 222, 232, 242, 252, 262, 272, 282]\n",
      "[1, 2, 3, 4, 5, 6, 7, 8, 9, 11, 22, 33, 44, 55, 66, 77, 88, 99, 101, 111, 121, 131, 141, 151, 161, 171, 181, 191, 202, 212, 222, 232, 242, 252, 262, 272, 282, 292]\n",
      "[1, 2, 3, 4, 5, 6, 7, 8, 9, 11, 22, 33, 44, 55, 66, 77, 88, 99, 101, 111, 121, 131, 141, 151, 161, 171, 181, 191, 202, 212, 222, 232, 242, 252, 262, 272, 282, 292, 303]\n",
      "[1, 2, 3, 4, 5, 6, 7, 8, 9, 11, 22, 33, 44, 55, 66, 77, 88, 99, 101, 111, 121, 131, 141, 151, 161, 171, 181, 191, 202, 212, 222, 232, 242, 252, 262, 272, 282, 292, 303, 313]\n",
      "[1, 2, 3, 4, 5, 6, 7, 8, 9, 11, 22, 33, 44, 55, 66, 77, 88, 99, 101, 111, 121, 131, 141, 151, 161, 171, 181, 191, 202, 212, 222, 232, 242, 252, 262, 272, 282, 292, 303, 313, 323]\n",
      "[1, 2, 3, 4, 5, 6, 7, 8, 9, 11, 22, 33, 44, 55, 66, 77, 88, 99, 101, 111, 121, 131, 141, 151, 161, 171, 181, 191, 202, 212, 222, 232, 242, 252, 262, 272, 282, 292, 303, 313, 323, 333]\n",
      "[1, 2, 3, 4, 5, 6, 7, 8, 9, 11, 22, 33, 44, 55, 66, 77, 88, 99, 101, 111, 121, 131, 141, 151, 161, 171, 181, 191, 202, 212, 222, 232, 242, 252, 262, 272, 282, 292, 303, 313, 323, 333, 343]\n",
      "[1, 2, 3, 4, 5, 6, 7, 8, 9, 11, 22, 33, 44, 55, 66, 77, 88, 99, 101, 111, 121, 131, 141, 151, 161, 171, 181, 191, 202, 212, 222, 232, 242, 252, 262, 272, 282, 292, 303, 313, 323, 333, 343, 353]\n",
      "[1, 2, 3, 4, 5, 6, 7, 8, 9, 11, 22, 33, 44, 55, 66, 77, 88, 99, 101, 111, 121, 131, 141, 151, 161, 171, 181, 191, 202, 212, 222, 232, 242, 252, 262, 272, 282, 292, 303, 313, 323, 333, 343, 353, 363]\n",
      "[1, 2, 3, 4, 5, 6, 7, 8, 9, 11, 22, 33, 44, 55, 66, 77, 88, 99, 101, 111, 121, 131, 141, 151, 161, 171, 181, 191, 202, 212, 222, 232, 242, 252, 262, 272, 282, 292, 303, 313, 323, 333, 343, 353, 363, 373]\n",
      "[1, 2, 3, 4, 5, 6, 7, 8, 9, 11, 22, 33, 44, 55, 66, 77, 88, 99, 101, 111, 121, 131, 141, 151, 161, 171, 181, 191, 202, 212, 222, 232, 242, 252, 262, 272, 282, 292, 303, 313, 323, 333, 343, 353, 363, 373, 383]\n",
      "[1, 2, 3, 4, 5, 6, 7, 8, 9, 11, 22, 33, 44, 55, 66, 77, 88, 99, 101, 111, 121, 131, 141, 151, 161, 171, 181, 191, 202, 212, 222, 232, 242, 252, 262, 272, 282, 292, 303, 313, 323, 333, 343, 353, 363, 373, 383, 393]\n",
      "[1, 2, 3, 4, 5, 6, 7, 8, 9, 11, 22, 33, 44, 55, 66, 77, 88, 99, 101, 111, 121, 131, 141, 151, 161, 171, 181, 191, 202, 212, 222, 232, 242, 252, 262, 272, 282, 292, 303, 313, 323, 333, 343, 353, 363, 373, 383, 393, 404]\n",
      "[1, 2, 3, 4, 5, 6, 7, 8, 9, 11, 22, 33, 44, 55, 66, 77, 88, 99, 101, 111, 121, 131, 141, 151, 161, 171, 181, 191, 202, 212, 222, 232, 242, 252, 262, 272, 282, 292, 303, 313, 323, 333, 343, 353, 363, 373, 383, 393, 404, 414]\n",
      "[1, 2, 3, 4, 5, 6, 7, 8, 9, 11, 22, 33, 44, 55, 66, 77, 88, 99, 101, 111, 121, 131, 141, 151, 161, 171, 181, 191, 202, 212, 222, 232, 242, 252, 262, 272, 282, 292, 303, 313, 323, 333, 343, 353, 363, 373, 383, 393, 404, 414, 424]\n",
      "[1, 2, 3, 4, 5, 6, 7, 8, 9, 11, 22, 33, 44, 55, 66, 77, 88, 99, 101, 111, 121, 131, 141, 151, 161, 171, 181, 191, 202, 212, 222, 232, 242, 252, 262, 272, 282, 292, 303, 313, 323, 333, 343, 353, 363, 373, 383, 393, 404, 414, 424, 434]\n",
      "[1, 2, 3, 4, 5, 6, 7, 8, 9, 11, 22, 33, 44, 55, 66, 77, 88, 99, 101, 111, 121, 131, 141, 151, 161, 171, 181, 191, 202, 212, 222, 232, 242, 252, 262, 272, 282, 292, 303, 313, 323, 333, 343, 353, 363, 373, 383, 393, 404, 414, 424, 434, 444]\n",
      "[1, 2, 3, 4, 5, 6, 7, 8, 9, 11, 22, 33, 44, 55, 66, 77, 88, 99, 101, 111, 121, 131, 141, 151, 161, 171, 181, 191, 202, 212, 222, 232, 242, 252, 262, 272, 282, 292, 303, 313, 323, 333, 343, 353, 363, 373, 383, 393, 404, 414, 424, 434, 444, 454]\n",
      "[1, 2, 3, 4, 5, 6, 7, 8, 9, 11, 22, 33, 44, 55, 66, 77, 88, 99, 101, 111, 121, 131, 141, 151, 161, 171, 181, 191, 202, 212, 222, 232, 242, 252, 262, 272, 282, 292, 303, 313, 323, 333, 343, 353, 363, 373, 383, 393, 404, 414, 424, 434, 444, 454, 464]\n",
      "[1, 2, 3, 4, 5, 6, 7, 8, 9, 11, 22, 33, 44, 55, 66, 77, 88, 99, 101, 111, 121, 131, 141, 151, 161, 171, 181, 191, 202, 212, 222, 232, 242, 252, 262, 272, 282, 292, 303, 313, 323, 333, 343, 353, 363, 373, 383, 393, 404, 414, 424, 434, 444, 454, 464, 474]\n",
      "[1, 2, 3, 4, 5, 6, 7, 8, 9, 11, 22, 33, 44, 55, 66, 77, 88, 99, 101, 111, 121, 131, 141, 151, 161, 171, 181, 191, 202, 212, 222, 232, 242, 252, 262, 272, 282, 292, 303, 313, 323, 333, 343, 353, 363, 373, 383, 393, 404, 414, 424, 434, 444, 454, 464, 474, 484]\n",
      "[1, 2, 3, 4, 5, 6, 7, 8, 9, 11, 22, 33, 44, 55, 66, 77, 88, 99, 101, 111, 121, 131, 141, 151, 161, 171, 181, 191, 202, 212, 222, 232, 242, 252, 262, 272, 282, 292, 303, 313, 323, 333, 343, 353, 363, 373, 383, 393, 404, 414, 424, 434, 444, 454, 464, 474, 484, 494]\n",
      "[1, 2, 3, 4, 5, 6, 7, 8, 9, 11, 22, 33, 44, 55, 66, 77, 88, 99, 101, 111, 121, 131, 141, 151, 161, 171, 181, 191, 202, 212, 222, 232, 242, 252, 262, 272, 282, 292, 303, 313, 323, 333, 343, 353, 363, 373, 383, 393, 404, 414, 424, 434, 444, 454, 464, 474, 484, 494, 505]\n",
      "[1, 2, 3, 4, 5, 6, 7, 8, 9, 11, 22, 33, 44, 55, 66, 77, 88, 99, 101, 111, 121, 131, 141, 151, 161, 171, 181, 191, 202, 212, 222, 232, 242, 252, 262, 272, 282, 292, 303, 313, 323, 333, 343, 353, 363, 373, 383, 393, 404, 414, 424, 434, 444, 454, 464, 474, 484, 494, 505, 515]\n",
      "[1, 2, 3, 4, 5, 6, 7, 8, 9, 11, 22, 33, 44, 55, 66, 77, 88, 99, 101, 111, 121, 131, 141, 151, 161, 171, 181, 191, 202, 212, 222, 232, 242, 252, 262, 272, 282, 292, 303, 313, 323, 333, 343, 353, 363, 373, 383, 393, 404, 414, 424, 434, 444, 454, 464, 474, 484, 494, 505, 515, 525]\n",
      "[1, 2, 3, 4, 5, 6, 7, 8, 9, 11, 22, 33, 44, 55, 66, 77, 88, 99, 101, 111, 121, 131, 141, 151, 161, 171, 181, 191, 202, 212, 222, 232, 242, 252, 262, 272, 282, 292, 303, 313, 323, 333, 343, 353, 363, 373, 383, 393, 404, 414, 424, 434, 444, 454, 464, 474, 484, 494, 505, 515, 525, 535]\n",
      "[1, 2, 3, 4, 5, 6, 7, 8, 9, 11, 22, 33, 44, 55, 66, 77, 88, 99, 101, 111, 121, 131, 141, 151, 161, 171, 181, 191, 202, 212, 222, 232, 242, 252, 262, 272, 282, 292, 303, 313, 323, 333, 343, 353, 363, 373, 383, 393, 404, 414, 424, 434, 444, 454, 464, 474, 484, 494, 505, 515, 525, 535, 545]\n",
      "[1, 2, 3, 4, 5, 6, 7, 8, 9, 11, 22, 33, 44, 55, 66, 77, 88, 99, 101, 111, 121, 131, 141, 151, 161, 171, 181, 191, 202, 212, 222, 232, 242, 252, 262, 272, 282, 292, 303, 313, 323, 333, 343, 353, 363, 373, 383, 393, 404, 414, 424, 434, 444, 454, 464, 474, 484, 494, 505, 515, 525, 535, 545, 555]\n",
      "[1, 2, 3, 4, 5, 6, 7, 8, 9, 11, 22, 33, 44, 55, 66, 77, 88, 99, 101, 111, 121, 131, 141, 151, 161, 171, 181, 191, 202, 212, 222, 232, 242, 252, 262, 272, 282, 292, 303, 313, 323, 333, 343, 353, 363, 373, 383, 393, 404, 414, 424, 434, 444, 454, 464, 474, 484, 494, 505, 515, 525, 535, 545, 555, 565]\n",
      "[1, 2, 3, 4, 5, 6, 7, 8, 9, 11, 22, 33, 44, 55, 66, 77, 88, 99, 101, 111, 121, 131, 141, 151, 161, 171, 181, 191, 202, 212, 222, 232, 242, 252, 262, 272, 282, 292, 303, 313, 323, 333, 343, 353, 363, 373, 383, 393, 404, 414, 424, 434, 444, 454, 464, 474, 484, 494, 505, 515, 525, 535, 545, 555, 565, 575]\n",
      "[1, 2, 3, 4, 5, 6, 7, 8, 9, 11, 22, 33, 44, 55, 66, 77, 88, 99, 101, 111, 121, 131, 141, 151, 161, 171, 181, 191, 202, 212, 222, 232, 242, 252, 262, 272, 282, 292, 303, 313, 323, 333, 343, 353, 363, 373, 383, 393, 404, 414, 424, 434, 444, 454, 464, 474, 484, 494, 505, 515, 525, 535, 545, 555, 565, 575, 585]\n",
      "[1, 2, 3, 4, 5, 6, 7, 8, 9, 11, 22, 33, 44, 55, 66, 77, 88, 99, 101, 111, 121, 131, 141, 151, 161, 171, 181, 191, 202, 212, 222, 232, 242, 252, 262, 272, 282, 292, 303, 313, 323, 333, 343, 353, 363, 373, 383, 393, 404, 414, 424, 434, 444, 454, 464, 474, 484, 494, 505, 515, 525, 535, 545, 555, 565, 575, 585, 595]\n",
      "[1, 2, 3, 4, 5, 6, 7, 8, 9, 11, 22, 33, 44, 55, 66, 77, 88, 99, 101, 111, 121, 131, 141, 151, 161, 171, 181, 191, 202, 212, 222, 232, 242, 252, 262, 272, 282, 292, 303, 313, 323, 333, 343, 353, 363, 373, 383, 393, 404, 414, 424, 434, 444, 454, 464, 474, 484, 494, 505, 515, 525, 535, 545, 555, 565, 575, 585, 595, 606]\n",
      "[1, 2, 3, 4, 5, 6, 7, 8, 9, 11, 22, 33, 44, 55, 66, 77, 88, 99, 101, 111, 121, 131, 141, 151, 161, 171, 181, 191, 202, 212, 222, 232, 242, 252, 262, 272, 282, 292, 303, 313, 323, 333, 343, 353, 363, 373, 383, 393, 404, 414, 424, 434, 444, 454, 464, 474, 484, 494, 505, 515, 525, 535, 545, 555, 565, 575, 585, 595, 606, 616]\n",
      "[1, 2, 3, 4, 5, 6, 7, 8, 9, 11, 22, 33, 44, 55, 66, 77, 88, 99, 101, 111, 121, 131, 141, 151, 161, 171, 181, 191, 202, 212, 222, 232, 242, 252, 262, 272, 282, 292, 303, 313, 323, 333, 343, 353, 363, 373, 383, 393, 404, 414, 424, 434, 444, 454, 464, 474, 484, 494, 505, 515, 525, 535, 545, 555, 565, 575, 585, 595, 606, 616, 626]\n",
      "[1, 2, 3, 4, 5, 6, 7, 8, 9, 11, 22, 33, 44, 55, 66, 77, 88, 99, 101, 111, 121, 131, 141, 151, 161, 171, 181, 191, 202, 212, 222, 232, 242, 252, 262, 272, 282, 292, 303, 313, 323, 333, 343, 353, 363, 373, 383, 393, 404, 414, 424, 434, 444, 454, 464, 474, 484, 494, 505, 515, 525, 535, 545, 555, 565, 575, 585, 595, 606, 616, 626, 636]\n",
      "[1, 2, 3, 4, 5, 6, 7, 8, 9, 11, 22, 33, 44, 55, 66, 77, 88, 99, 101, 111, 121, 131, 141, 151, 161, 171, 181, 191, 202, 212, 222, 232, 242, 252, 262, 272, 282, 292, 303, 313, 323, 333, 343, 353, 363, 373, 383, 393, 404, 414, 424, 434, 444, 454, 464, 474, 484, 494, 505, 515, 525, 535, 545, 555, 565, 575, 585, 595, 606, 616, 626, 636, 646]\n",
      "[1, 2, 3, 4, 5, 6, 7, 8, 9, 11, 22, 33, 44, 55, 66, 77, 88, 99, 101, 111, 121, 131, 141, 151, 161, 171, 181, 191, 202, 212, 222, 232, 242, 252, 262, 272, 282, 292, 303, 313, 323, 333, 343, 353, 363, 373, 383, 393, 404, 414, 424, 434, 444, 454, 464, 474, 484, 494, 505, 515, 525, 535, 545, 555, 565, 575, 585, 595, 606, 616, 626, 636, 646, 656]\n",
      "[1, 2, 3, 4, 5, 6, 7, 8, 9, 11, 22, 33, 44, 55, 66, 77, 88, 99, 101, 111, 121, 131, 141, 151, 161, 171, 181, 191, 202, 212, 222, 232, 242, 252, 262, 272, 282, 292, 303, 313, 323, 333, 343, 353, 363, 373, 383, 393, 404, 414, 424, 434, 444, 454, 464, 474, 484, 494, 505, 515, 525, 535, 545, 555, 565, 575, 585, 595, 606, 616, 626, 636, 646, 656, 666]\n",
      "[1, 2, 3, 4, 5, 6, 7, 8, 9, 11, 22, 33, 44, 55, 66, 77, 88, 99, 101, 111, 121, 131, 141, 151, 161, 171, 181, 191, 202, 212, 222, 232, 242, 252, 262, 272, 282, 292, 303, 313, 323, 333, 343, 353, 363, 373, 383, 393, 404, 414, 424, 434, 444, 454, 464, 474, 484, 494, 505, 515, 525, 535, 545, 555, 565, 575, 585, 595, 606, 616, 626, 636, 646, 656, 666, 676]\n",
      "[1, 2, 3, 4, 5, 6, 7, 8, 9, 11, 22, 33, 44, 55, 66, 77, 88, 99, 101, 111, 121, 131, 141, 151, 161, 171, 181, 191, 202, 212, 222, 232, 242, 252, 262, 272, 282, 292, 303, 313, 323, 333, 343, 353, 363, 373, 383, 393, 404, 414, 424, 434, 444, 454, 464, 474, 484, 494, 505, 515, 525, 535, 545, 555, 565, 575, 585, 595, 606, 616, 626, 636, 646, 656, 666, 676, 686]\n",
      "[1, 2, 3, 4, 5, 6, 7, 8, 9, 11, 22, 33, 44, 55, 66, 77, 88, 99, 101, 111, 121, 131, 141, 151, 161, 171, 181, 191, 202, 212, 222, 232, 242, 252, 262, 272, 282, 292, 303, 313, 323, 333, 343, 353, 363, 373, 383, 393, 404, 414, 424, 434, 444, 454, 464, 474, 484, 494, 505, 515, 525, 535, 545, 555, 565, 575, 585, 595, 606, 616, 626, 636, 646, 656, 666, 676, 686, 696]\n",
      "[1, 2, 3, 4, 5, 6, 7, 8, 9, 11, 22, 33, 44, 55, 66, 77, 88, 99, 101, 111, 121, 131, 141, 151, 161, 171, 181, 191, 202, 212, 222, 232, 242, 252, 262, 272, 282, 292, 303, 313, 323, 333, 343, 353, 363, 373, 383, 393, 404, 414, 424, 434, 444, 454, 464, 474, 484, 494, 505, 515, 525, 535, 545, 555, 565, 575, 585, 595, 606, 616, 626, 636, 646, 656, 666, 676, 686, 696, 707]\n",
      "[1, 2, 3, 4, 5, 6, 7, 8, 9, 11, 22, 33, 44, 55, 66, 77, 88, 99, 101, 111, 121, 131, 141, 151, 161, 171, 181, 191, 202, 212, 222, 232, 242, 252, 262, 272, 282, 292, 303, 313, 323, 333, 343, 353, 363, 373, 383, 393, 404, 414, 424, 434, 444, 454, 464, 474, 484, 494, 505, 515, 525, 535, 545, 555, 565, 575, 585, 595, 606, 616, 626, 636, 646, 656, 666, 676, 686, 696, 707, 717]\n",
      "[1, 2, 3, 4, 5, 6, 7, 8, 9, 11, 22, 33, 44, 55, 66, 77, 88, 99, 101, 111, 121, 131, 141, 151, 161, 171, 181, 191, 202, 212, 222, 232, 242, 252, 262, 272, 282, 292, 303, 313, 323, 333, 343, 353, 363, 373, 383, 393, 404, 414, 424, 434, 444, 454, 464, 474, 484, 494, 505, 515, 525, 535, 545, 555, 565, 575, 585, 595, 606, 616, 626, 636, 646, 656, 666, 676, 686, 696, 707, 717, 727]\n",
      "[1, 2, 3, 4, 5, 6, 7, 8, 9, 11, 22, 33, 44, 55, 66, 77, 88, 99, 101, 111, 121, 131, 141, 151, 161, 171, 181, 191, 202, 212, 222, 232, 242, 252, 262, 272, 282, 292, 303, 313, 323, 333, 343, 353, 363, 373, 383, 393, 404, 414, 424, 434, 444, 454, 464, 474, 484, 494, 505, 515, 525, 535, 545, 555, 565, 575, 585, 595, 606, 616, 626, 636, 646, 656, 666, 676, 686, 696, 707, 717, 727, 737]\n",
      "[1, 2, 3, 4, 5, 6, 7, 8, 9, 11, 22, 33, 44, 55, 66, 77, 88, 99, 101, 111, 121, 131, 141, 151, 161, 171, 181, 191, 202, 212, 222, 232, 242, 252, 262, 272, 282, 292, 303, 313, 323, 333, 343, 353, 363, 373, 383, 393, 404, 414, 424, 434, 444, 454, 464, 474, 484, 494, 505, 515, 525, 535, 545, 555, 565, 575, 585, 595, 606, 616, 626, 636, 646, 656, 666, 676, 686, 696, 707, 717, 727, 737, 747]\n",
      "[1, 2, 3, 4, 5, 6, 7, 8, 9, 11, 22, 33, 44, 55, 66, 77, 88, 99, 101, 111, 121, 131, 141, 151, 161, 171, 181, 191, 202, 212, 222, 232, 242, 252, 262, 272, 282, 292, 303, 313, 323, 333, 343, 353, 363, 373, 383, 393, 404, 414, 424, 434, 444, 454, 464, 474, 484, 494, 505, 515, 525, 535, 545, 555, 565, 575, 585, 595, 606, 616, 626, 636, 646, 656, 666, 676, 686, 696, 707, 717, 727, 737, 747, 757]\n",
      "[1, 2, 3, 4, 5, 6, 7, 8, 9, 11, 22, 33, 44, 55, 66, 77, 88, 99, 101, 111, 121, 131, 141, 151, 161, 171, 181, 191, 202, 212, 222, 232, 242, 252, 262, 272, 282, 292, 303, 313, 323, 333, 343, 353, 363, 373, 383, 393, 404, 414, 424, 434, 444, 454, 464, 474, 484, 494, 505, 515, 525, 535, 545, 555, 565, 575, 585, 595, 606, 616, 626, 636, 646, 656, 666, 676, 686, 696, 707, 717, 727, 737, 747, 757, 767]\n",
      "[1, 2, 3, 4, 5, 6, 7, 8, 9, 11, 22, 33, 44, 55, 66, 77, 88, 99, 101, 111, 121, 131, 141, 151, 161, 171, 181, 191, 202, 212, 222, 232, 242, 252, 262, 272, 282, 292, 303, 313, 323, 333, 343, 353, 363, 373, 383, 393, 404, 414, 424, 434, 444, 454, 464, 474, 484, 494, 505, 515, 525, 535, 545, 555, 565, 575, 585, 595, 606, 616, 626, 636, 646, 656, 666, 676, 686, 696, 707, 717, 727, 737, 747, 757, 767, 777]\n",
      "[1, 2, 3, 4, 5, 6, 7, 8, 9, 11, 22, 33, 44, 55, 66, 77, 88, 99, 101, 111, 121, 131, 141, 151, 161, 171, 181, 191, 202, 212, 222, 232, 242, 252, 262, 272, 282, 292, 303, 313, 323, 333, 343, 353, 363, 373, 383, 393, 404, 414, 424, 434, 444, 454, 464, 474, 484, 494, 505, 515, 525, 535, 545, 555, 565, 575, 585, 595, 606, 616, 626, 636, 646, 656, 666, 676, 686, 696, 707, 717, 727, 737, 747, 757, 767, 777, 787]\n",
      "[1, 2, 3, 4, 5, 6, 7, 8, 9, 11, 22, 33, 44, 55, 66, 77, 88, 99, 101, 111, 121, 131, 141, 151, 161, 171, 181, 191, 202, 212, 222, 232, 242, 252, 262, 272, 282, 292, 303, 313, 323, 333, 343, 353, 363, 373, 383, 393, 404, 414, 424, 434, 444, 454, 464, 474, 484, 494, 505, 515, 525, 535, 545, 555, 565, 575, 585, 595, 606, 616, 626, 636, 646, 656, 666, 676, 686, 696, 707, 717, 727, 737, 747, 757, 767, 777, 787, 797]\n",
      "[1, 2, 3, 4, 5, 6, 7, 8, 9, 11, 22, 33, 44, 55, 66, 77, 88, 99, 101, 111, 121, 131, 141, 151, 161, 171, 181, 191, 202, 212, 222, 232, 242, 252, 262, 272, 282, 292, 303, 313, 323, 333, 343, 353, 363, 373, 383, 393, 404, 414, 424, 434, 444, 454, 464, 474, 484, 494, 505, 515, 525, 535, 545, 555, 565, 575, 585, 595, 606, 616, 626, 636, 646, 656, 666, 676, 686, 696, 707, 717, 727, 737, 747, 757, 767, 777, 787, 797, 808]\n",
      "[1, 2, 3, 4, 5, 6, 7, 8, 9, 11, 22, 33, 44, 55, 66, 77, 88, 99, 101, 111, 121, 131, 141, 151, 161, 171, 181, 191, 202, 212, 222, 232, 242, 252, 262, 272, 282, 292, 303, 313, 323, 333, 343, 353, 363, 373, 383, 393, 404, 414, 424, 434, 444, 454, 464, 474, 484, 494, 505, 515, 525, 535, 545, 555, 565, 575, 585, 595, 606, 616, 626, 636, 646, 656, 666, 676, 686, 696, 707, 717, 727, 737, 747, 757, 767, 777, 787, 797, 808, 818]\n",
      "[1, 2, 3, 4, 5, 6, 7, 8, 9, 11, 22, 33, 44, 55, 66, 77, 88, 99, 101, 111, 121, 131, 141, 151, 161, 171, 181, 191, 202, 212, 222, 232, 242, 252, 262, 272, 282, 292, 303, 313, 323, 333, 343, 353, 363, 373, 383, 393, 404, 414, 424, 434, 444, 454, 464, 474, 484, 494, 505, 515, 525, 535, 545, 555, 565, 575, 585, 595, 606, 616, 626, 636, 646, 656, 666, 676, 686, 696, 707, 717, 727, 737, 747, 757, 767, 777, 787, 797, 808, 818, 828]\n",
      "[1, 2, 3, 4, 5, 6, 7, 8, 9, 11, 22, 33, 44, 55, 66, 77, 88, 99, 101, 111, 121, 131, 141, 151, 161, 171, 181, 191, 202, 212, 222, 232, 242, 252, 262, 272, 282, 292, 303, 313, 323, 333, 343, 353, 363, 373, 383, 393, 404, 414, 424, 434, 444, 454, 464, 474, 484, 494, 505, 515, 525, 535, 545, 555, 565, 575, 585, 595, 606, 616, 626, 636, 646, 656, 666, 676, 686, 696, 707, 717, 727, 737, 747, 757, 767, 777, 787, 797, 808, 818, 828, 838]\n",
      "[1, 2, 3, 4, 5, 6, 7, 8, 9, 11, 22, 33, 44, 55, 66, 77, 88, 99, 101, 111, 121, 131, 141, 151, 161, 171, 181, 191, 202, 212, 222, 232, 242, 252, 262, 272, 282, 292, 303, 313, 323, 333, 343, 353, 363, 373, 383, 393, 404, 414, 424, 434, 444, 454, 464, 474, 484, 494, 505, 515, 525, 535, 545, 555, 565, 575, 585, 595, 606, 616, 626, 636, 646, 656, 666, 676, 686, 696, 707, 717, 727, 737, 747, 757, 767, 777, 787, 797, 808, 818, 828, 838, 848]\n",
      "[1, 2, 3, 4, 5, 6, 7, 8, 9, 11, 22, 33, 44, 55, 66, 77, 88, 99, 101, 111, 121, 131, 141, 151, 161, 171, 181, 191, 202, 212, 222, 232, 242, 252, 262, 272, 282, 292, 303, 313, 323, 333, 343, 353, 363, 373, 383, 393, 404, 414, 424, 434, 444, 454, 464, 474, 484, 494, 505, 515, 525, 535, 545, 555, 565, 575, 585, 595, 606, 616, 626, 636, 646, 656, 666, 676, 686, 696, 707, 717, 727, 737, 747, 757, 767, 777, 787, 797, 808, 818, 828, 838, 848, 858]\n",
      "[1, 2, 3, 4, 5, 6, 7, 8, 9, 11, 22, 33, 44, 55, 66, 77, 88, 99, 101, 111, 121, 131, 141, 151, 161, 171, 181, 191, 202, 212, 222, 232, 242, 252, 262, 272, 282, 292, 303, 313, 323, 333, 343, 353, 363, 373, 383, 393, 404, 414, 424, 434, 444, 454, 464, 474, 484, 494, 505, 515, 525, 535, 545, 555, 565, 575, 585, 595, 606, 616, 626, 636, 646, 656, 666, 676, 686, 696, 707, 717, 727, 737, 747, 757, 767, 777, 787, 797, 808, 818, 828, 838, 848, 858, 868]\n",
      "[1, 2, 3, 4, 5, 6, 7, 8, 9, 11, 22, 33, 44, 55, 66, 77, 88, 99, 101, 111, 121, 131, 141, 151, 161, 171, 181, 191, 202, 212, 222, 232, 242, 252, 262, 272, 282, 292, 303, 313, 323, 333, 343, 353, 363, 373, 383, 393, 404, 414, 424, 434, 444, 454, 464, 474, 484, 494, 505, 515, 525, 535, 545, 555, 565, 575, 585, 595, 606, 616, 626, 636, 646, 656, 666, 676, 686, 696, 707, 717, 727, 737, 747, 757, 767, 777, 787, 797, 808, 818, 828, 838, 848, 858, 868, 878]\n",
      "[1, 2, 3, 4, 5, 6, 7, 8, 9, 11, 22, 33, 44, 55, 66, 77, 88, 99, 101, 111, 121, 131, 141, 151, 161, 171, 181, 191, 202, 212, 222, 232, 242, 252, 262, 272, 282, 292, 303, 313, 323, 333, 343, 353, 363, 373, 383, 393, 404, 414, 424, 434, 444, 454, 464, 474, 484, 494, 505, 515, 525, 535, 545, 555, 565, 575, 585, 595, 606, 616, 626, 636, 646, 656, 666, 676, 686, 696, 707, 717, 727, 737, 747, 757, 767, 777, 787, 797, 808, 818, 828, 838, 848, 858, 868, 878, 888]\n",
      "[1, 2, 3, 4, 5, 6, 7, 8, 9, 11, 22, 33, 44, 55, 66, 77, 88, 99, 101, 111, 121, 131, 141, 151, 161, 171, 181, 191, 202, 212, 222, 232, 242, 252, 262, 272, 282, 292, 303, 313, 323, 333, 343, 353, 363, 373, 383, 393, 404, 414, 424, 434, 444, 454, 464, 474, 484, 494, 505, 515, 525, 535, 545, 555, 565, 575, 585, 595, 606, 616, 626, 636, 646, 656, 666, 676, 686, 696, 707, 717, 727, 737, 747, 757, 767, 777, 787, 797, 808, 818, 828, 838, 848, 858, 868, 878, 888, 898]\n",
      "[1, 2, 3, 4, 5, 6, 7, 8, 9, 11, 22, 33, 44, 55, 66, 77, 88, 99, 101, 111, 121, 131, 141, 151, 161, 171, 181, 191, 202, 212, 222, 232, 242, 252, 262, 272, 282, 292, 303, 313, 323, 333, 343, 353, 363, 373, 383, 393, 404, 414, 424, 434, 444, 454, 464, 474, 484, 494, 505, 515, 525, 535, 545, 555, 565, 575, 585, 595, 606, 616, 626, 636, 646, 656, 666, 676, 686, 696, 707, 717, 727, 737, 747, 757, 767, 777, 787, 797, 808, 818, 828, 838, 848, 858, 868, 878, 888, 898, 909]\n",
      "[1, 2, 3, 4, 5, 6, 7, 8, 9, 11, 22, 33, 44, 55, 66, 77, 88, 99, 101, 111, 121, 131, 141, 151, 161, 171, 181, 191, 202, 212, 222, 232, 242, 252, 262, 272, 282, 292, 303, 313, 323, 333, 343, 353, 363, 373, 383, 393, 404, 414, 424, 434, 444, 454, 464, 474, 484, 494, 505, 515, 525, 535, 545, 555, 565, 575, 585, 595, 606, 616, 626, 636, 646, 656, 666, 676, 686, 696, 707, 717, 727, 737, 747, 757, 767, 777, 787, 797, 808, 818, 828, 838, 848, 858, 868, 878, 888, 898, 909, 919]\n",
      "[1, 2, 3, 4, 5, 6, 7, 8, 9, 11, 22, 33, 44, 55, 66, 77, 88, 99, 101, 111, 121, 131, 141, 151, 161, 171, 181, 191, 202, 212, 222, 232, 242, 252, 262, 272, 282, 292, 303, 313, 323, 333, 343, 353, 363, 373, 383, 393, 404, 414, 424, 434, 444, 454, 464, 474, 484, 494, 505, 515, 525, 535, 545, 555, 565, 575, 585, 595, 606, 616, 626, 636, 646, 656, 666, 676, 686, 696, 707, 717, 727, 737, 747, 757, 767, 777, 787, 797, 808, 818, 828, 838, 848, 858, 868, 878, 888, 898, 909, 919, 929]\n",
      "[1, 2, 3, 4, 5, 6, 7, 8, 9, 11, 22, 33, 44, 55, 66, 77, 88, 99, 101, 111, 121, 131, 141, 151, 161, 171, 181, 191, 202, 212, 222, 232, 242, 252, 262, 272, 282, 292, 303, 313, 323, 333, 343, 353, 363, 373, 383, 393, 404, 414, 424, 434, 444, 454, 464, 474, 484, 494, 505, 515, 525, 535, 545, 555, 565, 575, 585, 595, 606, 616, 626, 636, 646, 656, 666, 676, 686, 696, 707, 717, 727, 737, 747, 757, 767, 777, 787, 797, 808, 818, 828, 838, 848, 858, 868, 878, 888, 898, 909, 919, 929, 939]\n",
      "[1, 2, 3, 4, 5, 6, 7, 8, 9, 11, 22, 33, 44, 55, 66, 77, 88, 99, 101, 111, 121, 131, 141, 151, 161, 171, 181, 191, 202, 212, 222, 232, 242, 252, 262, 272, 282, 292, 303, 313, 323, 333, 343, 353, 363, 373, 383, 393, 404, 414, 424, 434, 444, 454, 464, 474, 484, 494, 505, 515, 525, 535, 545, 555, 565, 575, 585, 595, 606, 616, 626, 636, 646, 656, 666, 676, 686, 696, 707, 717, 727, 737, 747, 757, 767, 777, 787, 797, 808, 818, 828, 838, 848, 858, 868, 878, 888, 898, 909, 919, 929, 939, 949]\n",
      "[1, 2, 3, 4, 5, 6, 7, 8, 9, 11, 22, 33, 44, 55, 66, 77, 88, 99, 101, 111, 121, 131, 141, 151, 161, 171, 181, 191, 202, 212, 222, 232, 242, 252, 262, 272, 282, 292, 303, 313, 323, 333, 343, 353, 363, 373, 383, 393, 404, 414, 424, 434, 444, 454, 464, 474, 484, 494, 505, 515, 525, 535, 545, 555, 565, 575, 585, 595, 606, 616, 626, 636, 646, 656, 666, 676, 686, 696, 707, 717, 727, 737, 747, 757, 767, 777, 787, 797, 808, 818, 828, 838, 848, 858, 868, 878, 888, 898, 909, 919, 929, 939, 949, 959]\n",
      "[1, 2, 3, 4, 5, 6, 7, 8, 9, 11, 22, 33, 44, 55, 66, 77, 88, 99, 101, 111, 121, 131, 141, 151, 161, 171, 181, 191, 202, 212, 222, 232, 242, 252, 262, 272, 282, 292, 303, 313, 323, 333, 343, 353, 363, 373, 383, 393, 404, 414, 424, 434, 444, 454, 464, 474, 484, 494, 505, 515, 525, 535, 545, 555, 565, 575, 585, 595, 606, 616, 626, 636, 646, 656, 666, 676, 686, 696, 707, 717, 727, 737, 747, 757, 767, 777, 787, 797, 808, 818, 828, 838, 848, 858, 868, 878, 888, 898, 909, 919, 929, 939, 949, 959, 969]\n",
      "[1, 2, 3, 4, 5, 6, 7, 8, 9, 11, 22, 33, 44, 55, 66, 77, 88, 99, 101, 111, 121, 131, 141, 151, 161, 171, 181, 191, 202, 212, 222, 232, 242, 252, 262, 272, 282, 292, 303, 313, 323, 333, 343, 353, 363, 373, 383, 393, 404, 414, 424, 434, 444, 454, 464, 474, 484, 494, 505, 515, 525, 535, 545, 555, 565, 575, 585, 595, 606, 616, 626, 636, 646, 656, 666, 676, 686, 696, 707, 717, 727, 737, 747, 757, 767, 777, 787, 797, 808, 818, 828, 838, 848, 858, 868, 878, 888, 898, 909, 919, 929, 939, 949, 959, 969, 979]\n",
      "[1, 2, 3, 4, 5, 6, 7, 8, 9, 11, 22, 33, 44, 55, 66, 77, 88, 99, 101, 111, 121, 131, 141, 151, 161, 171, 181, 191, 202, 212, 222, 232, 242, 252, 262, 272, 282, 292, 303, 313, 323, 333, 343, 353, 363, 373, 383, 393, 404, 414, 424, 434, 444, 454, 464, 474, 484, 494, 505, 515, 525, 535, 545, 555, 565, 575, 585, 595, 606, 616, 626, 636, 646, 656, 666, 676, 686, 696, 707, 717, 727, 737, 747, 757, 767, 777, 787, 797, 808, 818, 828, 838, 848, 858, 868, 878, 888, 898, 909, 919, 929, 939, 949, 959, 969, 979, 989]\n",
      "[1, 2, 3, 4, 5, 6, 7, 8, 9, 11, 22, 33, 44, 55, 66, 77, 88, 99, 101, 111, 121, 131, 141, 151, 161, 171, 181, 191, 202, 212, 222, 232, 242, 252, 262, 272, 282, 292, 303, 313, 323, 333, 343, 353, 363, 373, 383, 393, 404, 414, 424, 434, 444, 454, 464, 474, 484, 494, 505, 515, 525, 535, 545, 555, 565, 575, 585, 595, 606, 616, 626, 636, 646, 656, 666, 676, 686, 696, 707, 717, 727, 737, 747, 757, 767, 777, 787, 797, 808, 818, 828, 838, 848, 858, 868, 878, 888, 898, 909, 919, 929, 939, 949, 959, 969, 979, 989, 999]\n"
     ]
    }
   ],
   "source": [
    "pal=[]\n",
    "for i in range(1,1000):\n",
    "    if str(i)==str(i)[::-1]:\n",
    "        pal.append(i)\n",
    "        print(pal)"
   ]
  },
  {
   "cell_type": "code",
   "execution_count": null,
   "metadata": {},
   "outputs": [],
   "source": [
    "a=[]\n",
    "e=1000\n",
    "while(e>0):\n",
    "    if str(e)==str(e)[::-1]:\n",
    "        a.append(e)\n",
    "        e=e-1\n",
    "        print(a)"
   ]
  },
  {
   "cell_type": "code",
   "execution_count": 9,
   "metadata": {},
   "outputs": [
    {
     "name": "stdout",
     "output_type": "stream",
     "text": [
      "    +     \n",
      "  +   +   \n",
      "+   A   + \n",
      "  +   +   \n",
      "    +     \n"
     ]
    }
   ],
   "source": [
    "for i in range(5):\n",
    "    for j in range(5):\n",
    "        if(i+j==2 or i-j==2 or j-i==2 or i+j==6):\n",
    "            print(\"+\",end=\" \")\n",
    "        elif(i==2 and j==2):\n",
    "            print(\"A\",end=\" \")\n",
    "        else:\n",
    "            print(\" \",end=\" \")\n",
    "    print()"
   ]
  },
  {
   "cell_type": "code",
   "execution_count": 1,
   "metadata": {},
   "outputs": [
    {
     "name": "stdout",
     "output_type": "stream",
     "text": [
      "---------------------\n",
      "@@ management system@@\n",
      "----------------------\n",
      " \n",
      "1:adding customer 2:modify data 3:del customer 4:show details 5:exit\n",
      " \n",
      "enter choice5\n"
     ]
    }
   ],
   "source": [
    "li=[]\n",
    "ln=[]\n",
    "lp=[]\n",
    "lc=[]\n",
    "lf=[]\n",
    "while(True):\n",
    "    print(\"---------------------\")\n",
    "    print(\"@@ management system@@\")\n",
    "    print(\"----------------------\")\n",
    "    print(\" \")\n",
    "    print(\"1:adding customer 2:modify data 3:del customer 4:show details 5:exit\")\n",
    "    print(\" \")\n",
    "    ch=int(input(\"enter choice\"))\n",
    "    if ch==1:\n",
    "        id=int(input(\"enter new id:\"))\n",
    "        name=str(input(\"enter name:\"))\n",
    "        mob=int(input(\"enter number:\"))\n",
    "        course=str(input(\"enter course:\"))\n",
    "        fee=float(input(\"enter fee:\"))\n",
    "        li.append(id)\n",
    "        ln.append(name)\n",
    "        lp.append(mob) \n",
    "        lc.append(course)                 \n",
    "        lf.append(fee)\n",
    "        print(\"data added sucessfully\")\n",
    "    elif ch==2:\n",
    "            id=int(input(\"enter id\"))\n",
    "            if id in li:\n",
    "                    ind=li.index(id)\n",
    "                    while(True):\n",
    "                        print(\"1:rename 2:remob 3:newcourse 4:new fee 5:exit\")\n",
    "                        c=int(input(\"enter u choice\"))\n",
    "                        if c==1:\n",
    "                             nn=str(input(\" modify name\"))\n",
    "                             ln[ind]=nn\n",
    "                        elif c==2:\n",
    "                             nm=int(input(\" modify number\"))\n",
    "                             lp[ind]=nm\n",
    "                        elif c==3:\n",
    "                             nc=str(input(\" modify course\"))\n",
    "                             lc[ind]=nc\n",
    "                        elif c==4:\n",
    "                               nf=str(input(\" modify fee\"))\n",
    "                               ln[ind]=nf\n",
    "                        elif c==5:\n",
    "                              break\n",
    "                        else:  \n",
    "                            print(\"invalid choice\")\n",
    "                        \n",
    "            else:  \n",
    "                            print(\"id not in database\")\n",
    "                    \n",
    "                        \n",
    "    elif ch==3:\n",
    "            id=int(input(\"enter id\"))\n",
    "            if id in li:\n",
    "                ind=li.index(id)\n",
    "                li.pop(ind)\n",
    "                ln.pop(ind)\n",
    "                lp.pop(ind)\n",
    "                lc.pop(ind)\n",
    "                lf.pop(ind)\n",
    "                print(\"data is delelted sucessesfully\")\n",
    "            else:\n",
    "                print(\"id not in database\")\n",
    "    elif ch==4:\n",
    "            id=int(input(\"enter id\"))\n",
    "            if id in li:\n",
    "                ind=li.index(id)\n",
    "                print(\"--------------------------------\")\n",
    "                print(\"id of customer is:\",li[ind])\n",
    "                print(\"name of customer is:\",ln[ind])\n",
    "                print(\"mob no of customer is:\",lp[ind])\n",
    "                print(\"course of customer is:\",lc[ind])\n",
    "                print(\"fee of customer is:\",lf[ind])\n",
    "                print(\"--------------------------------\")\n",
    "            else:\n",
    "                print(\"id not in data\")\n",
    "\n",
    "        \n",
    "    elif ch==5:\n",
    "        break\n",
    "    else:\n",
    "        print(\"invalid\")\n",
    "        print(li)\n",
    "        print(ln)\n",
    "        print(lp)\n",
    "        print(lc)\n",
    "        print(le)\n",
    "        "
   ]
  },
  {
   "cell_type": "code",
   "execution_count": 2,
   "metadata": {},
   "outputs": [
    {
     "name": "stdout",
     "output_type": "stream",
     "text": [
      " ++ ++ \n",
      "+  +  +\n",
      "+     +\n",
      " +   + \n",
      "  + +  \n",
      "   +   \n"
     ]
    }
   ],
   "source": [
    "for i in range(6):\n",
    "    for j in range(7):\n",
    "        if (i==0 and j%3!=0) or (i==1 and j%3==0)or (i-j==2) or (i+j==8) :\n",
    "            print(\"+\",end=\"\")\n",
    "        else:\n",
    "            print(\" \" ,end=\"\")\n",
    "    print()"
   ]
  },
  {
   "cell_type": "code",
   "execution_count": 6,
   "metadata": {},
   "outputs": [
    {
     "name": "stdout",
     "output_type": "stream",
     "text": [
      "----------------------------\n",
      "@@-----BODY MASS INDEX----@@\n",
      "----------------------------\n",
      "1:BMI 2:Imp BMI 3:exit\n",
      "enter choice2\n",
      "enter weight in pounds132.277\n",
      "enter height in inches59.055\n",
      "fit: 26.666666666666668\n",
      "----------------------------\n",
      "@@-----BODY MASS INDEX----@@\n",
      "----------------------------\n",
      "1:BMI 2:Imp BMI 3:exit\n",
      "enter choice3\n"
     ]
    }
   ],
   "source": [
    "while(True):\n",
    "    print(\"----------------------------\")\n",
    "    print(\"@@-----BODY MASS INDEX----@@\")\n",
    "    print(\"----------------------------\")\n",
    "    print(\"1:BMI 2:Imp BMI 3:exit\")\n",
    "    ch=int(input(\"enter choice\"))\n",
    "    if ch==1:\n",
    "        w=float(input(\"enter weight in kg\"))\n",
    "        h=float(input(\"enter height in meter\"))\n",
    "        est=(w/(h**2))\n",
    "        if(est<=17.9):\n",
    "            print(\"under weight:\",est)\n",
    "            print(\"contact m diet expert\")\n",
    "            print(\"mob:78678787\")\n",
    "        elif(est>=18 and est<=29.9):\n",
    "                 print(\"fit:\",est)\n",
    "        \n",
    "        elif(est>=25 and est<=24.9):\n",
    "                print(\"over weight:\",est)\n",
    "                print(\"contact b gym trainer\")\n",
    "                print(\"mob:78678787\")\n",
    "        else:\n",
    "                print(\"critical\")\n",
    "    elif ch==2:\n",
    "        w=float(input(\"enter weight in pounds\"))\n",
    "        h=float(input(\"enter height in inches\"))\n",
    "        est1=703*w/(h**2)\n",
    "        if(est<=17.9):\n",
    "            print(\"under weight:\",est)\n",
    "            print(\"contact m diet expert\")\n",
    "            print(\"mob:78678787\")\n",
    "        elif(est>=18 and est<=29.9):\n",
    "                 print(\"fit:\",est)\n",
    "        \n",
    "        elif(est>=25 and est<=24.9):\n",
    "                print(\"over weight:\",est)\n",
    "                print(\"contact b gym trainer\")\n",
    "                print(\"mob:78678787\")\n",
    "        else:\n",
    "                print(\"critical\")\n",
    "       \n",
    "    \n",
    "    elif ch==3:\n",
    "            break\n",
    "    else:\n",
    "        print(\"invalid choice\")\n",
    "    \n",
    "        \n"
   ]
  },
  {
   "cell_type": "code",
   "execution_count": 1,
   "metadata": {},
   "outputs": [
    {
     "name": "stdout",
     "output_type": "stream",
     "text": [
      "[2, 4, 6, 8]\n"
     ]
    }
   ],
   "source": [
    "l=[1,2,3,4,5,6,7,8]\n",
    "print(list(filter(lambda i:i%2==0,l)))"
   ]
  },
  {
   "cell_type": "code",
   "execution_count": 3,
   "metadata": {},
   "outputs": [
    {
     "name": "stdout",
     "output_type": "stream",
     "text": [
      "[False, True, False, True, False, True, False, True]\n"
     ]
    }
   ],
   "source": [
    "l=[1,2,3,4,5,6,7,8]\n",
    "print(list(map(lambda i:i%2==0,l)))"
   ]
  },
  {
   "cell_type": "code",
   "execution_count": 6,
   "metadata": {},
   "outputs": [
    {
     "name": "stdout",
     "output_type": "stream",
     "text": [
      "36\n"
     ]
    }
   ],
   "source": [
    "from functools import reduce\n",
    "l=[1,2,3,4,5,6,7,8]\n",
    "print(reduce(lambda i,j:i+j,l))"
   ]
  },
  {
   "cell_type": "code",
   "execution_count": 7,
   "metadata": {},
   "outputs": [
    {
     "name": "stdout",
     "output_type": "stream",
     "text": [
      "10\n",
      "10\n"
     ]
    }
   ],
   "source": [
    "def hello():\n",
    "    global var\n",
    "    var=10\n",
    "    print(var)\n",
    "hello()\n",
    "print(var)"
   ]
  },
  {
   "cell_type": "code",
   "execution_count": 5,
   "metadata": {},
   "outputs": [],
   "source": [
    "def fact():\n",
    "    if(n==0):\n",
    "        return 1\n",
    "    else:\n",
    "        return n+fact(n-1)\n",
    "    fact(5)\n"
   ]
  },
  {
   "cell_type": "code",
   "execution_count": 4,
   "metadata": {},
   "outputs": [
    {
     "ename": "ConnectionError",
     "evalue": "HTTPSConnectionPool(host='api.twilio.com', port=443): Max retries exceeded with url: /2010-04-01/Accounts/AC9f033cbb8e66e73d582eef71c5db9dc9/Messages.json (Caused by NewConnectionError('<urllib3.connection.VerifiedHTTPSConnection object at 0x0000026EE67057C8>: Failed to establish a new connection: [Errno 11001] getaddrinfo failed'))",
     "output_type": "error",
     "traceback": [
      "\u001b[1;31m---------------------------------------------------------------------------\u001b[0m",
      "\u001b[1;31mgaierror\u001b[0m                                  Traceback (most recent call last)",
      "\u001b[1;32m~\\AppData\\Local\\Continuum\\anaconda3\\lib\\site-packages\\urllib3\\connection.py\u001b[0m in \u001b[0;36m_new_conn\u001b[1;34m(self)\u001b[0m\n\u001b[0;32m    158\u001b[0m             conn = connection.create_connection(\n\u001b[1;32m--> 159\u001b[1;33m                 (self._dns_host, self.port), self.timeout, **extra_kw)\n\u001b[0m\u001b[0;32m    160\u001b[0m \u001b[1;33m\u001b[0m\u001b[0m\n",
      "\u001b[1;32m~\\AppData\\Local\\Continuum\\anaconda3\\lib\\site-packages\\urllib3\\util\\connection.py\u001b[0m in \u001b[0;36mcreate_connection\u001b[1;34m(address, timeout, source_address, socket_options)\u001b[0m\n\u001b[0;32m     56\u001b[0m \u001b[1;33m\u001b[0m\u001b[0m\n\u001b[1;32m---> 57\u001b[1;33m     \u001b[1;32mfor\u001b[0m \u001b[0mres\u001b[0m \u001b[1;32min\u001b[0m \u001b[0msocket\u001b[0m\u001b[1;33m.\u001b[0m\u001b[0mgetaddrinfo\u001b[0m\u001b[1;33m(\u001b[0m\u001b[0mhost\u001b[0m\u001b[1;33m,\u001b[0m \u001b[0mport\u001b[0m\u001b[1;33m,\u001b[0m \u001b[0mfamily\u001b[0m\u001b[1;33m,\u001b[0m \u001b[0msocket\u001b[0m\u001b[1;33m.\u001b[0m\u001b[0mSOCK_STREAM\u001b[0m\u001b[1;33m)\u001b[0m\u001b[1;33m:\u001b[0m\u001b[1;33m\u001b[0m\u001b[1;33m\u001b[0m\u001b[0m\n\u001b[0m\u001b[0;32m     58\u001b[0m         \u001b[0maf\u001b[0m\u001b[1;33m,\u001b[0m \u001b[0msocktype\u001b[0m\u001b[1;33m,\u001b[0m \u001b[0mproto\u001b[0m\u001b[1;33m,\u001b[0m \u001b[0mcanonname\u001b[0m\u001b[1;33m,\u001b[0m \u001b[0msa\u001b[0m \u001b[1;33m=\u001b[0m \u001b[0mres\u001b[0m\u001b[1;33m\u001b[0m\u001b[1;33m\u001b[0m\u001b[0m\n",
      "\u001b[1;32m~\\AppData\\Local\\Continuum\\anaconda3\\lib\\socket.py\u001b[0m in \u001b[0;36mgetaddrinfo\u001b[1;34m(host, port, family, type, proto, flags)\u001b[0m\n\u001b[0;32m    747\u001b[0m     \u001b[0maddrlist\u001b[0m \u001b[1;33m=\u001b[0m \u001b[1;33m[\u001b[0m\u001b[1;33m]\u001b[0m\u001b[1;33m\u001b[0m\u001b[1;33m\u001b[0m\u001b[0m\n\u001b[1;32m--> 748\u001b[1;33m     \u001b[1;32mfor\u001b[0m \u001b[0mres\u001b[0m \u001b[1;32min\u001b[0m \u001b[0m_socket\u001b[0m\u001b[1;33m.\u001b[0m\u001b[0mgetaddrinfo\u001b[0m\u001b[1;33m(\u001b[0m\u001b[0mhost\u001b[0m\u001b[1;33m,\u001b[0m \u001b[0mport\u001b[0m\u001b[1;33m,\u001b[0m \u001b[0mfamily\u001b[0m\u001b[1;33m,\u001b[0m \u001b[0mtype\u001b[0m\u001b[1;33m,\u001b[0m \u001b[0mproto\u001b[0m\u001b[1;33m,\u001b[0m \u001b[0mflags\u001b[0m\u001b[1;33m)\u001b[0m\u001b[1;33m:\u001b[0m\u001b[1;33m\u001b[0m\u001b[1;33m\u001b[0m\u001b[0m\n\u001b[0m\u001b[0;32m    749\u001b[0m         \u001b[0maf\u001b[0m\u001b[1;33m,\u001b[0m \u001b[0msocktype\u001b[0m\u001b[1;33m,\u001b[0m \u001b[0mproto\u001b[0m\u001b[1;33m,\u001b[0m \u001b[0mcanonname\u001b[0m\u001b[1;33m,\u001b[0m \u001b[0msa\u001b[0m \u001b[1;33m=\u001b[0m \u001b[0mres\u001b[0m\u001b[1;33m\u001b[0m\u001b[1;33m\u001b[0m\u001b[0m\n",
      "\u001b[1;31mgaierror\u001b[0m: [Errno 11001] getaddrinfo failed",
      "\nDuring handling of the above exception, another exception occurred:\n",
      "\u001b[1;31mNewConnectionError\u001b[0m                        Traceback (most recent call last)",
      "\u001b[1;32m~\\AppData\\Local\\Continuum\\anaconda3\\lib\\site-packages\\urllib3\\connectionpool.py\u001b[0m in \u001b[0;36murlopen\u001b[1;34m(self, method, url, body, headers, retries, redirect, assert_same_host, timeout, pool_timeout, release_conn, chunked, body_pos, **response_kw)\u001b[0m\n\u001b[0;32m    599\u001b[0m                                                   \u001b[0mbody\u001b[0m\u001b[1;33m=\u001b[0m\u001b[0mbody\u001b[0m\u001b[1;33m,\u001b[0m \u001b[0mheaders\u001b[0m\u001b[1;33m=\u001b[0m\u001b[0mheaders\u001b[0m\u001b[1;33m,\u001b[0m\u001b[1;33m\u001b[0m\u001b[1;33m\u001b[0m\u001b[0m\n\u001b[1;32m--> 600\u001b[1;33m                                                   chunked=chunked)\n\u001b[0m\u001b[0;32m    601\u001b[0m \u001b[1;33m\u001b[0m\u001b[0m\n",
      "\u001b[1;32m~\\AppData\\Local\\Continuum\\anaconda3\\lib\\site-packages\\urllib3\\connectionpool.py\u001b[0m in \u001b[0;36m_make_request\u001b[1;34m(self, conn, method, url, timeout, chunked, **httplib_request_kw)\u001b[0m\n\u001b[0;32m    342\u001b[0m         \u001b[1;32mtry\u001b[0m\u001b[1;33m:\u001b[0m\u001b[1;33m\u001b[0m\u001b[1;33m\u001b[0m\u001b[0m\n\u001b[1;32m--> 343\u001b[1;33m             \u001b[0mself\u001b[0m\u001b[1;33m.\u001b[0m\u001b[0m_validate_conn\u001b[0m\u001b[1;33m(\u001b[0m\u001b[0mconn\u001b[0m\u001b[1;33m)\u001b[0m\u001b[1;33m\u001b[0m\u001b[1;33m\u001b[0m\u001b[0m\n\u001b[0m\u001b[0;32m    344\u001b[0m         \u001b[1;32mexcept\u001b[0m \u001b[1;33m(\u001b[0m\u001b[0mSocketTimeout\u001b[0m\u001b[1;33m,\u001b[0m \u001b[0mBaseSSLError\u001b[0m\u001b[1;33m)\u001b[0m \u001b[1;32mas\u001b[0m \u001b[0me\u001b[0m\u001b[1;33m:\u001b[0m\u001b[1;33m\u001b[0m\u001b[1;33m\u001b[0m\u001b[0m\n",
      "\u001b[1;32m~\\AppData\\Local\\Continuum\\anaconda3\\lib\\site-packages\\urllib3\\connectionpool.py\u001b[0m in \u001b[0;36m_validate_conn\u001b[1;34m(self, conn)\u001b[0m\n\u001b[0;32m    838\u001b[0m         \u001b[1;32mif\u001b[0m \u001b[1;32mnot\u001b[0m \u001b[0mgetattr\u001b[0m\u001b[1;33m(\u001b[0m\u001b[0mconn\u001b[0m\u001b[1;33m,\u001b[0m \u001b[1;34m'sock'\u001b[0m\u001b[1;33m,\u001b[0m \u001b[1;32mNone\u001b[0m\u001b[1;33m)\u001b[0m\u001b[1;33m:\u001b[0m  \u001b[1;31m# AppEngine might not have  `.sock`\u001b[0m\u001b[1;33m\u001b[0m\u001b[1;33m\u001b[0m\u001b[0m\n\u001b[1;32m--> 839\u001b[1;33m             \u001b[0mconn\u001b[0m\u001b[1;33m.\u001b[0m\u001b[0mconnect\u001b[0m\u001b[1;33m(\u001b[0m\u001b[1;33m)\u001b[0m\u001b[1;33m\u001b[0m\u001b[1;33m\u001b[0m\u001b[0m\n\u001b[0m\u001b[0;32m    840\u001b[0m \u001b[1;33m\u001b[0m\u001b[0m\n",
      "\u001b[1;32m~\\AppData\\Local\\Continuum\\anaconda3\\lib\\site-packages\\urllib3\\connection.py\u001b[0m in \u001b[0;36mconnect\u001b[1;34m(self)\u001b[0m\n\u001b[0;32m    300\u001b[0m         \u001b[1;31m# Add certificate verification\u001b[0m\u001b[1;33m\u001b[0m\u001b[1;33m\u001b[0m\u001b[1;33m\u001b[0m\u001b[0m\n\u001b[1;32m--> 301\u001b[1;33m         \u001b[0mconn\u001b[0m \u001b[1;33m=\u001b[0m \u001b[0mself\u001b[0m\u001b[1;33m.\u001b[0m\u001b[0m_new_conn\u001b[0m\u001b[1;33m(\u001b[0m\u001b[1;33m)\u001b[0m\u001b[1;33m\u001b[0m\u001b[1;33m\u001b[0m\u001b[0m\n\u001b[0m\u001b[0;32m    302\u001b[0m         \u001b[0mhostname\u001b[0m \u001b[1;33m=\u001b[0m \u001b[0mself\u001b[0m\u001b[1;33m.\u001b[0m\u001b[0mhost\u001b[0m\u001b[1;33m\u001b[0m\u001b[1;33m\u001b[0m\u001b[0m\n",
      "\u001b[1;32m~\\AppData\\Local\\Continuum\\anaconda3\\lib\\site-packages\\urllib3\\connection.py\u001b[0m in \u001b[0;36m_new_conn\u001b[1;34m(self)\u001b[0m\n\u001b[0;32m    167\u001b[0m             raise NewConnectionError(\n\u001b[1;32m--> 168\u001b[1;33m                 self, \"Failed to establish a new connection: %s\" % e)\n\u001b[0m\u001b[0;32m    169\u001b[0m \u001b[1;33m\u001b[0m\u001b[0m\n",
      "\u001b[1;31mNewConnectionError\u001b[0m: <urllib3.connection.VerifiedHTTPSConnection object at 0x0000026EE67057C8>: Failed to establish a new connection: [Errno 11001] getaddrinfo failed",
      "\nDuring handling of the above exception, another exception occurred:\n",
      "\u001b[1;31mMaxRetryError\u001b[0m                             Traceback (most recent call last)",
      "\u001b[1;32m~\\AppData\\Local\\Continuum\\anaconda3\\lib\\site-packages\\requests\\adapters.py\u001b[0m in \u001b[0;36msend\u001b[1;34m(self, request, stream, timeout, verify, cert, proxies)\u001b[0m\n\u001b[0;32m    448\u001b[0m                     \u001b[0mretries\u001b[0m\u001b[1;33m=\u001b[0m\u001b[0mself\u001b[0m\u001b[1;33m.\u001b[0m\u001b[0mmax_retries\u001b[0m\u001b[1;33m,\u001b[0m\u001b[1;33m\u001b[0m\u001b[1;33m\u001b[0m\u001b[0m\n\u001b[1;32m--> 449\u001b[1;33m                     \u001b[0mtimeout\u001b[0m\u001b[1;33m=\u001b[0m\u001b[0mtimeout\u001b[0m\u001b[1;33m\u001b[0m\u001b[1;33m\u001b[0m\u001b[0m\n\u001b[0m\u001b[0;32m    450\u001b[0m                 )\n",
      "\u001b[1;32m~\\AppData\\Local\\Continuum\\anaconda3\\lib\\site-packages\\urllib3\\connectionpool.py\u001b[0m in \u001b[0;36murlopen\u001b[1;34m(self, method, url, body, headers, retries, redirect, assert_same_host, timeout, pool_timeout, release_conn, chunked, body_pos, **response_kw)\u001b[0m\n\u001b[0;32m    637\u001b[0m             retries = retries.increment(method, url, error=e, _pool=self,\n\u001b[1;32m--> 638\u001b[1;33m                                         _stacktrace=sys.exc_info()[2])\n\u001b[0m\u001b[0;32m    639\u001b[0m             \u001b[0mretries\u001b[0m\u001b[1;33m.\u001b[0m\u001b[0msleep\u001b[0m\u001b[1;33m(\u001b[0m\u001b[1;33m)\u001b[0m\u001b[1;33m\u001b[0m\u001b[1;33m\u001b[0m\u001b[0m\n",
      "\u001b[1;32m~\\AppData\\Local\\Continuum\\anaconda3\\lib\\site-packages\\urllib3\\util\\retry.py\u001b[0m in \u001b[0;36mincrement\u001b[1;34m(self, method, url, response, error, _pool, _stacktrace)\u001b[0m\n\u001b[0;32m    398\u001b[0m         \u001b[1;32mif\u001b[0m \u001b[0mnew_retry\u001b[0m\u001b[1;33m.\u001b[0m\u001b[0mis_exhausted\u001b[0m\u001b[1;33m(\u001b[0m\u001b[1;33m)\u001b[0m\u001b[1;33m:\u001b[0m\u001b[1;33m\u001b[0m\u001b[1;33m\u001b[0m\u001b[0m\n\u001b[1;32m--> 399\u001b[1;33m             \u001b[1;32mraise\u001b[0m \u001b[0mMaxRetryError\u001b[0m\u001b[1;33m(\u001b[0m\u001b[0m_pool\u001b[0m\u001b[1;33m,\u001b[0m \u001b[0murl\u001b[0m\u001b[1;33m,\u001b[0m \u001b[0merror\u001b[0m \u001b[1;32mor\u001b[0m \u001b[0mResponseError\u001b[0m\u001b[1;33m(\u001b[0m\u001b[0mcause\u001b[0m\u001b[1;33m)\u001b[0m\u001b[1;33m)\u001b[0m\u001b[1;33m\u001b[0m\u001b[1;33m\u001b[0m\u001b[0m\n\u001b[0m\u001b[0;32m    400\u001b[0m \u001b[1;33m\u001b[0m\u001b[0m\n",
      "\u001b[1;31mMaxRetryError\u001b[0m: HTTPSConnectionPool(host='api.twilio.com', port=443): Max retries exceeded with url: /2010-04-01/Accounts/AC9f033cbb8e66e73d582eef71c5db9dc9/Messages.json (Caused by NewConnectionError('<urllib3.connection.VerifiedHTTPSConnection object at 0x0000026EE67057C8>: Failed to establish a new connection: [Errno 11001] getaddrinfo failed'))",
      "\nDuring handling of the above exception, another exception occurred:\n",
      "\u001b[1;31mConnectionError\u001b[0m                           Traceback (most recent call last)",
      "\u001b[1;32m<ipython-input-4-b04a14ce704f>\u001b[0m in \u001b[0;36m<module>\u001b[1;34m\u001b[0m\n\u001b[0;32m     11\u001b[0m                      \u001b[0mbody\u001b[0m\u001b[1;33m=\u001b[0m\u001b[1;34m\"hello from python\"\u001b[0m\u001b[1;33m,\u001b[0m\u001b[1;33m\u001b[0m\u001b[1;33m\u001b[0m\u001b[0m\n\u001b[0;32m     12\u001b[0m                      \u001b[0mfrom_\u001b[0m\u001b[1;33m=\u001b[0m\u001b[1;34m\"+18504033486\"\u001b[0m\u001b[1;33m,\u001b[0m\u001b[1;33m\u001b[0m\u001b[1;33m\u001b[0m\u001b[0m\n\u001b[1;32m---> 13\u001b[1;33m                      \u001b[0mto\u001b[0m\u001b[1;33m=\u001b[0m\u001b[1;34m\"+918126603042\"\u001b[0m\u001b[1;33m\u001b[0m\u001b[1;33m\u001b[0m\u001b[0m\n\u001b[0m\u001b[0;32m     14\u001b[0m                  )\n\u001b[0;32m     15\u001b[0m \u001b[1;33m\u001b[0m\u001b[0m\n",
      "\u001b[1;32m~\\AppData\\Local\\Continuum\\anaconda3\\lib\\site-packages\\twilio\\rest\\api\\v2010\\account\\message\\__init__.py\u001b[0m in \u001b[0;36mcreate\u001b[1;34m(self, to, status_callback, application_sid, max_price, provide_feedback, validity_period, force_delivery, content_retention, address_retention, smart_encoded, persistent_action, from_, messaging_service_sid, body, media_url)\u001b[0m\n\u001b[0;32m     84\u001b[0m         })\n\u001b[0;32m     85\u001b[0m \u001b[1;33m\u001b[0m\u001b[0m\n\u001b[1;32m---> 86\u001b[1;33m         \u001b[0mpayload\u001b[0m \u001b[1;33m=\u001b[0m \u001b[0mself\u001b[0m\u001b[1;33m.\u001b[0m\u001b[0m_version\u001b[0m\u001b[1;33m.\u001b[0m\u001b[0mcreate\u001b[0m\u001b[1;33m(\u001b[0m\u001b[0mmethod\u001b[0m\u001b[1;33m=\u001b[0m\u001b[1;34m'POST'\u001b[0m\u001b[1;33m,\u001b[0m \u001b[0muri\u001b[0m\u001b[1;33m=\u001b[0m\u001b[0mself\u001b[0m\u001b[1;33m.\u001b[0m\u001b[0m_uri\u001b[0m\u001b[1;33m,\u001b[0m \u001b[0mdata\u001b[0m\u001b[1;33m=\u001b[0m\u001b[0mdata\u001b[0m\u001b[1;33m,\u001b[0m \u001b[1;33m)\u001b[0m\u001b[1;33m\u001b[0m\u001b[1;33m\u001b[0m\u001b[0m\n\u001b[0m\u001b[0;32m     87\u001b[0m \u001b[1;33m\u001b[0m\u001b[0m\n\u001b[0;32m     88\u001b[0m         \u001b[1;32mreturn\u001b[0m \u001b[0mMessageInstance\u001b[0m\u001b[1;33m(\u001b[0m\u001b[0mself\u001b[0m\u001b[1;33m.\u001b[0m\u001b[0m_version\u001b[0m\u001b[1;33m,\u001b[0m \u001b[0mpayload\u001b[0m\u001b[1;33m,\u001b[0m \u001b[0maccount_sid\u001b[0m\u001b[1;33m=\u001b[0m\u001b[0mself\u001b[0m\u001b[1;33m.\u001b[0m\u001b[0m_solution\u001b[0m\u001b[1;33m[\u001b[0m\u001b[1;34m'account_sid'\u001b[0m\u001b[1;33m]\u001b[0m\u001b[1;33m,\u001b[0m \u001b[1;33m)\u001b[0m\u001b[1;33m\u001b[0m\u001b[1;33m\u001b[0m\u001b[0m\n",
      "\u001b[1;32m~\\AppData\\Local\\Continuum\\anaconda3\\lib\\site-packages\\twilio\\base\\version.py\u001b[0m in \u001b[0;36mcreate\u001b[1;34m(self, method, uri, params, data, headers, auth, timeout, allow_redirects)\u001b[0m\n\u001b[0;32m    203\u001b[0m             \u001b[0mauth\u001b[0m\u001b[1;33m=\u001b[0m\u001b[0mauth\u001b[0m\u001b[1;33m,\u001b[0m\u001b[1;33m\u001b[0m\u001b[1;33m\u001b[0m\u001b[0m\n\u001b[0;32m    204\u001b[0m             \u001b[0mtimeout\u001b[0m\u001b[1;33m=\u001b[0m\u001b[0mtimeout\u001b[0m\u001b[1;33m,\u001b[0m\u001b[1;33m\u001b[0m\u001b[1;33m\u001b[0m\u001b[0m\n\u001b[1;32m--> 205\u001b[1;33m             \u001b[0mallow_redirects\u001b[0m\u001b[1;33m=\u001b[0m\u001b[0mallow_redirects\u001b[0m\u001b[1;33m,\u001b[0m\u001b[1;33m\u001b[0m\u001b[1;33m\u001b[0m\u001b[0m\n\u001b[0m\u001b[0;32m    206\u001b[0m         )\n\u001b[0;32m    207\u001b[0m \u001b[1;33m\u001b[0m\u001b[0m\n",
      "\u001b[1;32m~\\AppData\\Local\\Continuum\\anaconda3\\lib\\site-packages\\twilio\\base\\version.py\u001b[0m in \u001b[0;36mrequest\u001b[1;34m(self, method, uri, params, data, headers, auth, timeout, allow_redirects)\u001b[0m\n\u001b[0;32m     45\u001b[0m             \u001b[0mauth\u001b[0m\u001b[1;33m=\u001b[0m\u001b[0mauth\u001b[0m\u001b[1;33m,\u001b[0m\u001b[1;33m\u001b[0m\u001b[1;33m\u001b[0m\u001b[0m\n\u001b[0;32m     46\u001b[0m             \u001b[0mtimeout\u001b[0m\u001b[1;33m=\u001b[0m\u001b[0mtimeout\u001b[0m\u001b[1;33m,\u001b[0m\u001b[1;33m\u001b[0m\u001b[1;33m\u001b[0m\u001b[0m\n\u001b[1;32m---> 47\u001b[1;33m             \u001b[0mallow_redirects\u001b[0m\u001b[1;33m=\u001b[0m\u001b[0mallow_redirects\u001b[0m\u001b[1;33m\u001b[0m\u001b[1;33m\u001b[0m\u001b[0m\n\u001b[0m\u001b[0;32m     48\u001b[0m         )\n\u001b[0;32m     49\u001b[0m \u001b[1;33m\u001b[0m\u001b[0m\n",
      "\u001b[1;32m~\\AppData\\Local\\Continuum\\anaconda3\\lib\\site-packages\\twilio\\base\\domain.py\u001b[0m in \u001b[0;36mrequest\u001b[1;34m(self, method, uri, params, data, headers, auth, timeout, allow_redirects)\u001b[0m\n\u001b[0;32m     44\u001b[0m             \u001b[0mauth\u001b[0m\u001b[1;33m=\u001b[0m\u001b[0mauth\u001b[0m\u001b[1;33m,\u001b[0m\u001b[1;33m\u001b[0m\u001b[1;33m\u001b[0m\u001b[0m\n\u001b[0;32m     45\u001b[0m             \u001b[0mtimeout\u001b[0m\u001b[1;33m=\u001b[0m\u001b[0mtimeout\u001b[0m\u001b[1;33m,\u001b[0m\u001b[1;33m\u001b[0m\u001b[1;33m\u001b[0m\u001b[0m\n\u001b[1;32m---> 46\u001b[1;33m             \u001b[0mallow_redirects\u001b[0m\u001b[1;33m=\u001b[0m\u001b[0mallow_redirects\u001b[0m\u001b[1;33m\u001b[0m\u001b[1;33m\u001b[0m\u001b[0m\n\u001b[0m\u001b[0;32m     47\u001b[0m         )\n\u001b[0;32m     48\u001b[0m \u001b[1;33m\u001b[0m\u001b[0m\n",
      "\u001b[1;32m~\\AppData\\Local\\Continuum\\anaconda3\\lib\\site-packages\\twilio\\rest\\__init__.py\u001b[0m in \u001b[0;36mrequest\u001b[1;34m(self, method, uri, params, data, headers, auth, timeout, allow_redirects)\u001b[0m\n\u001b[0;32m    131\u001b[0m             \u001b[0mauth\u001b[0m\u001b[1;33m=\u001b[0m\u001b[0mauth\u001b[0m\u001b[1;33m,\u001b[0m\u001b[1;33m\u001b[0m\u001b[1;33m\u001b[0m\u001b[0m\n\u001b[0;32m    132\u001b[0m             \u001b[0mtimeout\u001b[0m\u001b[1;33m=\u001b[0m\u001b[0mtimeout\u001b[0m\u001b[1;33m,\u001b[0m\u001b[1;33m\u001b[0m\u001b[1;33m\u001b[0m\u001b[0m\n\u001b[1;32m--> 133\u001b[1;33m             \u001b[0mallow_redirects\u001b[0m\u001b[1;33m=\u001b[0m\u001b[0mallow_redirects\u001b[0m\u001b[1;33m\u001b[0m\u001b[1;33m\u001b[0m\u001b[0m\n\u001b[0m\u001b[0;32m    134\u001b[0m         )\n\u001b[0;32m    135\u001b[0m \u001b[1;33m\u001b[0m\u001b[0m\n",
      "\u001b[1;32m~\\AppData\\Local\\Continuum\\anaconda3\\lib\\site-packages\\twilio\\http\\http_client.py\u001b[0m in \u001b[0;36mrequest\u001b[1;34m(self, method, url, params, data, headers, auth, timeout, allow_redirects)\u001b[0m\n\u001b[0;32m     90\u001b[0m             \u001b[0mprepped_request\u001b[0m\u001b[1;33m,\u001b[0m\u001b[1;33m\u001b[0m\u001b[1;33m\u001b[0m\u001b[0m\n\u001b[0;32m     91\u001b[0m             \u001b[0mallow_redirects\u001b[0m\u001b[1;33m=\u001b[0m\u001b[0mallow_redirects\u001b[0m\u001b[1;33m,\u001b[0m\u001b[1;33m\u001b[0m\u001b[1;33m\u001b[0m\u001b[0m\n\u001b[1;32m---> 92\u001b[1;33m             \u001b[0mtimeout\u001b[0m\u001b[1;33m=\u001b[0m\u001b[0mtimeout\u001b[0m \u001b[1;32mif\u001b[0m \u001b[0mtimeout\u001b[0m \u001b[1;32mis\u001b[0m \u001b[1;32mnot\u001b[0m \u001b[1;32mNone\u001b[0m \u001b[1;32melse\u001b[0m \u001b[0mself\u001b[0m\u001b[1;33m.\u001b[0m\u001b[0mtimeout\u001b[0m\u001b[1;33m,\u001b[0m\u001b[1;33m\u001b[0m\u001b[1;33m\u001b[0m\u001b[0m\n\u001b[0m\u001b[0;32m     93\u001b[0m         )\n\u001b[0;32m     94\u001b[0m \u001b[1;33m\u001b[0m\u001b[0m\n",
      "\u001b[1;32m~\\AppData\\Local\\Continuum\\anaconda3\\lib\\site-packages\\requests\\sessions.py\u001b[0m in \u001b[0;36msend\u001b[1;34m(self, request, **kwargs)\u001b[0m\n\u001b[0;32m    644\u001b[0m \u001b[1;33m\u001b[0m\u001b[0m\n\u001b[0;32m    645\u001b[0m         \u001b[1;31m# Send the request\u001b[0m\u001b[1;33m\u001b[0m\u001b[1;33m\u001b[0m\u001b[1;33m\u001b[0m\u001b[0m\n\u001b[1;32m--> 646\u001b[1;33m         \u001b[0mr\u001b[0m \u001b[1;33m=\u001b[0m \u001b[0madapter\u001b[0m\u001b[1;33m.\u001b[0m\u001b[0msend\u001b[0m\u001b[1;33m(\u001b[0m\u001b[0mrequest\u001b[0m\u001b[1;33m,\u001b[0m \u001b[1;33m**\u001b[0m\u001b[0mkwargs\u001b[0m\u001b[1;33m)\u001b[0m\u001b[1;33m\u001b[0m\u001b[1;33m\u001b[0m\u001b[0m\n\u001b[0m\u001b[0;32m    647\u001b[0m \u001b[1;33m\u001b[0m\u001b[0m\n\u001b[0;32m    648\u001b[0m         \u001b[1;31m# Total elapsed time of the request (approximately)\u001b[0m\u001b[1;33m\u001b[0m\u001b[1;33m\u001b[0m\u001b[1;33m\u001b[0m\u001b[0m\n",
      "\u001b[1;32m~\\AppData\\Local\\Continuum\\anaconda3\\lib\\site-packages\\requests\\adapters.py\u001b[0m in \u001b[0;36msend\u001b[1;34m(self, request, stream, timeout, verify, cert, proxies)\u001b[0m\n\u001b[0;32m    514\u001b[0m                 \u001b[1;32mraise\u001b[0m \u001b[0mSSLError\u001b[0m\u001b[1;33m(\u001b[0m\u001b[0me\u001b[0m\u001b[1;33m,\u001b[0m \u001b[0mrequest\u001b[0m\u001b[1;33m=\u001b[0m\u001b[0mrequest\u001b[0m\u001b[1;33m)\u001b[0m\u001b[1;33m\u001b[0m\u001b[1;33m\u001b[0m\u001b[0m\n\u001b[0;32m    515\u001b[0m \u001b[1;33m\u001b[0m\u001b[0m\n\u001b[1;32m--> 516\u001b[1;33m             \u001b[1;32mraise\u001b[0m \u001b[0mConnectionError\u001b[0m\u001b[1;33m(\u001b[0m\u001b[0me\u001b[0m\u001b[1;33m,\u001b[0m \u001b[0mrequest\u001b[0m\u001b[1;33m=\u001b[0m\u001b[0mrequest\u001b[0m\u001b[1;33m)\u001b[0m\u001b[1;33m\u001b[0m\u001b[1;33m\u001b[0m\u001b[0m\n\u001b[0m\u001b[0;32m    517\u001b[0m \u001b[1;33m\u001b[0m\u001b[0m\n\u001b[0;32m    518\u001b[0m         \u001b[1;32mexcept\u001b[0m \u001b[0mClosedPoolError\u001b[0m \u001b[1;32mas\u001b[0m \u001b[0me\u001b[0m\u001b[1;33m:\u001b[0m\u001b[1;33m\u001b[0m\u001b[1;33m\u001b[0m\u001b[0m\n",
      "\u001b[1;31mConnectionError\u001b[0m: HTTPSConnectionPool(host='api.twilio.com', port=443): Max retries exceeded with url: /2010-04-01/Accounts/AC9f033cbb8e66e73d582eef71c5db9dc9/Messages.json (Caused by NewConnectionError('<urllib3.connection.VerifiedHTTPSConnection object at 0x0000026EE67057C8>: Failed to establish a new connection: [Errno 11001] getaddrinfo failed'))"
     ]
    }
   ],
   "source": [
    "#AC9f033cbb8e66e73d582eef71c5db9dc9\n",
    "#548c976d013c126edb5d46e5c28b448d\n",
    "#+18504033486\n",
    " \n",
    "from twilio.rest import Client\n",
    "account_sid = 'AC9f033cbb8e66e73d582eef71c5db9dc9'\n",
    "auth_token = '548c976d013c126edb5d46e5c28b448d'\n",
    "client = Client(account_sid, auth_token)\n",
    "\n",
    "message = client.messages.create(\n",
    "                     body=\"hello from python\",\n",
    "                     from_=\"+18504033486\",\n",
    "                     to=\"+918126603042\"\n",
    "                 )\n",
    "\n",
    "print(message.sid)"
   ]
  },
  {
   "cell_type": "code",
   "execution_count": 3,
   "metadata": {},
   "outputs": [
    {
     "name": "stdout",
     "output_type": "stream",
     "text": [
      "<pymysql.connections.Connection object at 0x0000025F24162808>\n",
      "@@@@ welcome to student management system@@@@\n",
      "1:add data 2: modify 3: del 4:show\n",
      "Enter choice :3\n",
      "Enter Id :4\n",
      "Id not in database\n",
      "@@@@ welcome to student management system@@@@\n",
      "1:add data 2: modify 3: del 4:show\n",
      "Enter choice :4\n",
      "Enter Id :6\n",
      "Id not present in database\n",
      "@@@@ welcome to student management system@@@@\n",
      "1:add data 2: modify 3: del 4:show\n",
      "Enter choice :2\n",
      "Enter Id :6\n",
      "Id not in database\n",
      "@@@@ welcome to student management system@@@@\n",
      "1:add data 2: modify 3: del 4:show\n",
      "Enter choice :4\n",
      "Enter Id :1\n",
      "Id not present in database\n",
      "@@@@ welcome to student management system@@@@\n",
      "1:add data 2: modify 3: del 4:show\n",
      "Enter choice :5\n",
      "Program ended\n"
     ]
    }
   ],
   "source": [
    "import pymysql\n",
    "conn=pymysql.connect('localhost',\n",
    "                     'root',\n",
    "                     '',\n",
    "                     'pyreg')\n",
    "print(conn)\n",
    "cur=conn.cursor()\n",
    "\n",
    "while(True):\n",
    "    print(\"@@@@ welcome to student management system@@@@\")\n",
    "    print(\"1:add data 2: modify 3: del 4:show\")\n",
    "    ch=int(input(\"Enter choice :\"))\n",
    "    if(ch==1):\n",
    "           i=str(input(\"Enter id :\"))\n",
    "           n=str(input(\"Enter name :\"))\n",
    "           c=str(input(\"Enter Course :\"))\n",
    "           f=int(input(\"Enter Fees :\"))\n",
    "           q=\"insert into sms(Id,name,course,fees) values(%s,%s,%s,%s)\"\n",
    "           val=(i,n,c,f)\n",
    "           cur.execute(q,val)\n",
    "           print(\"Data Added sucessfully\")\n",
    "           conn.commit()\n",
    "    elif(ch==2):\n",
    "        q=\"select Id from sms\"\n",
    "        cur.execute(q)\n",
    "        li=[]\n",
    "        for i in cur:\n",
    "            li.append(i)\n",
    "        i=str(input(\"Enter Id :\"))\n",
    "        i_f=(i,)\n",
    "        if i_f in li:\n",
    "            print(\"Start process of modification\")\n",
    "            nn=str(input(\"Enter Modify name :\"))\n",
    "            nc=str(input(\"Enter modify course :\"))\n",
    "            nf=int(input(\"Enter Modify Fees :\"))\n",
    "            q=\"update sms set name=%s,course=%s,fees=%s where Id=%s\"\n",
    "            val=(nn,nc,nf,i)\n",
    "            cur.execute(q,val)\n",
    "            conn.commit()\n",
    "            print(\"Data modify sucessfully\")\n",
    "        else:\n",
    "            print(\"Id not in database\")\n",
    "    elif(ch==3):\n",
    "        q=\"select Id from sms\"\n",
    "        cur.execute(q)\n",
    "        li=[]\n",
    "        for i in cur:\n",
    "            li.append(i)\n",
    "        i=str(input(\"Enter Id :\"))\n",
    "        i_f=(i,)\n",
    "        if i_f in li:\n",
    "            print(\"Data Deleting Process Started\")\n",
    "            q=\"delete from sms where Id=%s\"\n",
    "            val=(i)\n",
    "            cur.execute(q,val)\n",
    "            conn.commit()\n",
    "            print(\"Process ended\")\n",
    "        else:\n",
    "            print(\"Id not in database\")            \n",
    "        \n",
    "    elif(ch==4):\n",
    "        q=\"select Id from sms\"\n",
    "        cur.execute(q)\n",
    "        li=[]\n",
    "        for i in cur:\n",
    "            li.append(i)\n",
    "        i=str(input(\"Enter Id :\"))\n",
    "        i_f=(i,)\n",
    "        if i_f in li:\n",
    "            sd=[]\n",
    "            q=\"select * from sms where Id=%s\"\n",
    "            val=(i)\n",
    "            cur.execute(q,val)\n",
    "            for i in cur:\n",
    "                   sd.append(i)\n",
    "            print(\"---------------------------------\")\n",
    "            print(\"Student Id is :\",sd[0])\n",
    "            print(\"Name of student is :\",sd[1])\n",
    "            print(\"Course of student is :\",sd[2])\n",
    "            print(\"fees of student is :\",sd[3])\n",
    "            print(\" \")\n",
    "            print(\"-----------------------------------\")\n",
    "        else:\n",
    "            print(\"Id not present in database\")\n",
    "    elif(ch==5):\n",
    "        conn.close()\n",
    "        print(\"Program ended\")\n",
    "        break\n",
    "    else:\n",
    "        print(\"Invalid choice 5: exit\")\n",
    "\n"
   ]
  },
  {
   "cell_type": "markdown",
   "metadata": {},
   "source": []
  },
  {
   "cell_type": "code",
   "execution_count": 31,
   "metadata": {},
   "outputs": [
    {
     "ename": "TclError",
     "evalue": "can't use \"pyimage17\" as iconphoto: not a photo image",
     "output_type": "error",
     "traceback": [
      "\u001b[1;31m---------------------------------------------------------------------------\u001b[0m",
      "\u001b[1;31mTclError\u001b[0m                                  Traceback (most recent call last)",
      "\u001b[1;32m<ipython-input-31-7533b878f496>\u001b[0m in \u001b[0;36m<module>\u001b[1;34m\u001b[0m\n\u001b[0;32m      5\u001b[0m \u001b[0mwind\u001b[0m\u001b[1;33m.\u001b[0m\u001b[0mtitle\u001b[0m\u001b[1;33m(\u001b[0m\u001b[1;34m\"my first gui\"\u001b[0m\u001b[1;33m)\u001b[0m\u001b[1;33m\u001b[0m\u001b[1;33m\u001b[0m\u001b[0m\n\u001b[0;32m      6\u001b[0m \u001b[0mphoto\u001b[0m\u001b[1;33m=\u001b[0m\u001b[0mPhotoImage\u001b[0m\u001b[1;33m(\u001b[0m\u001b[0mfile\u001b[0m\u001b[1;33m=\u001b[0m\u001b[1;34mr\"C:\\Users\\vinay\\Downloads\\logo.png\"\u001b[0m\u001b[1;33m)\u001b[0m\u001b[1;33m\u001b[0m\u001b[1;33m\u001b[0m\u001b[0m\n\u001b[1;32m----> 7\u001b[1;33m \u001b[0mwind\u001b[0m\u001b[1;33m.\u001b[0m\u001b[0miconphoto\u001b[0m\u001b[1;33m(\u001b[0m\u001b[1;32mFalse\u001b[0m\u001b[1;33m,\u001b[0m\u001b[0mphoto\u001b[0m\u001b[1;33m)\u001b[0m\u001b[1;33m\u001b[0m\u001b[1;33m\u001b[0m\u001b[0m\n\u001b[0m\u001b[0;32m      8\u001b[0m \u001b[0mwind\u001b[0m\u001b[1;33m.\u001b[0m\u001b[0mmainloop\u001b[0m\u001b[1;33m(\u001b[0m\u001b[1;33m)\u001b[0m\u001b[1;33m\u001b[0m\u001b[1;33m\u001b[0m\u001b[0m\n",
      "\u001b[1;32m~\\AppData\\Local\\Continuum\\anaconda3\\lib\\tkinter\\__init__.py\u001b[0m in \u001b[0;36mwm_iconphoto\u001b[1;34m(self, default, *args)\u001b[0m\n\u001b[0;32m   1908\u001b[0m             \u001b[0mself\u001b[0m\u001b[1;33m.\u001b[0m\u001b[0mtk\u001b[0m\u001b[1;33m.\u001b[0m\u001b[0mcall\u001b[0m\u001b[1;33m(\u001b[0m\u001b[1;34m'wm'\u001b[0m\u001b[1;33m,\u001b[0m \u001b[1;34m'iconphoto'\u001b[0m\u001b[1;33m,\u001b[0m \u001b[0mself\u001b[0m\u001b[1;33m.\u001b[0m\u001b[0m_w\u001b[0m\u001b[1;33m,\u001b[0m \u001b[1;34m\"-default\"\u001b[0m\u001b[1;33m,\u001b[0m \u001b[1;33m*\u001b[0m\u001b[0margs\u001b[0m\u001b[1;33m)\u001b[0m\u001b[1;33m\u001b[0m\u001b[1;33m\u001b[0m\u001b[0m\n\u001b[0;32m   1909\u001b[0m         \u001b[1;32melse\u001b[0m\u001b[1;33m:\u001b[0m\u001b[1;33m\u001b[0m\u001b[1;33m\u001b[0m\u001b[0m\n\u001b[1;32m-> 1910\u001b[1;33m             \u001b[0mself\u001b[0m\u001b[1;33m.\u001b[0m\u001b[0mtk\u001b[0m\u001b[1;33m.\u001b[0m\u001b[0mcall\u001b[0m\u001b[1;33m(\u001b[0m\u001b[1;34m'wm'\u001b[0m\u001b[1;33m,\u001b[0m \u001b[1;34m'iconphoto'\u001b[0m\u001b[1;33m,\u001b[0m \u001b[0mself\u001b[0m\u001b[1;33m.\u001b[0m\u001b[0m_w\u001b[0m\u001b[1;33m,\u001b[0m \u001b[1;33m*\u001b[0m\u001b[0margs\u001b[0m\u001b[1;33m)\u001b[0m\u001b[1;33m\u001b[0m\u001b[1;33m\u001b[0m\u001b[0m\n\u001b[0m\u001b[0;32m   1911\u001b[0m     \u001b[0miconphoto\u001b[0m \u001b[1;33m=\u001b[0m \u001b[0mwm_iconphoto\u001b[0m\u001b[1;33m\u001b[0m\u001b[1;33m\u001b[0m\u001b[0m\n\u001b[0;32m   1912\u001b[0m     \u001b[1;32mdef\u001b[0m \u001b[0mwm_iconposition\u001b[0m\u001b[1;33m(\u001b[0m\u001b[0mself\u001b[0m\u001b[1;33m,\u001b[0m \u001b[0mx\u001b[0m\u001b[1;33m=\u001b[0m\u001b[1;32mNone\u001b[0m\u001b[1;33m,\u001b[0m \u001b[0my\u001b[0m\u001b[1;33m=\u001b[0m\u001b[1;32mNone\u001b[0m\u001b[1;33m)\u001b[0m\u001b[1;33m:\u001b[0m\u001b[1;33m\u001b[0m\u001b[1;33m\u001b[0m\u001b[0m\n",
      "\u001b[1;31mTclError\u001b[0m: can't use \"pyimage17\" as iconphoto: not a photo image"
     ]
    }
   ],
   "source": [
    "#gui \n",
    "#module tkinter\n",
    "from tkinter import *\n",
    "wind=Tk()\n",
    "wind.title(\"my first gui\")\n",
    "photo=PhotoImage(file=r\"C:\\Users\\vinay\\Downloads\\logo.png\")\n",
    "wind.iconphoto(False,photo)\n",
    "wind.mainloop()"
   ]
  },
  {
   "cell_type": "code",
   "execution_count": 11,
   "metadata": {},
   "outputs": [
    {
     "ename": "SyntaxError",
     "evalue": "invalid syntax (<ipython-input-11-e58b952f81d5>, line 11)",
     "output_type": "error",
     "traceback": [
      "\u001b[1;36m  File \u001b[1;32m\"<ipython-input-11-e58b952f81d5>\"\u001b[1;36m, line \u001b[1;32m11\u001b[0m\n\u001b[1;33m    font=('Helvetica',15,'bold'),bg='green',fg=\"blue\",relief=\"solid\").place(x=70,y=100)\u001b[0m\n\u001b[1;37m                                                                    ^\u001b[0m\n\u001b[1;31mSyntaxError\u001b[0m\u001b[1;31m:\u001b[0m invalid syntax\n"
     ]
    }
   ],
   "source": [
    "#we hve to change title and image icon\n",
    "import pymysql\n",
    "from tkinter import*\n",
    "win=Tk()\n",
    "win.title(\"my first gui\")\n",
    "photo=PhotoImage(file=r\"C:\\Users\\vinay\\Downloads\\vj.png\")\n",
    "win.iconphoto(False,photo)\n",
    "win.configure(background=\"green\")\n",
    "win.geometry('400x600')\n",
    "Label(win,text=\"**Bmi Calculator**\"),\n",
    "font=('Helvetica',15,'bold'),bg='green',fg=\"blue\",relief=\"solid\").place(x=70,y=100) \n",
    "Label(win,text=\"email-userid\",font=('Helvetica',10,'bold'),width=15,relief='solid').place(x=70,y=140)\n",
    "Label(win,text=\"contact-no\",font=('Helvetica',10,'bold'),width=15,relief='solid').place(x=70,y=180)\n",
    "Label(win,text=\"gender\",font=('Helvetica',10,'bold'),width=15,relief='solid').place(x=70,y=220)\n",
    "Label(win,text=\"height in meter\",font=('Helvetica',10,'bold'),width=15,relief='solid').place(x=70,y=240)\n",
    "Label(win,text=\"weight in kgs\",font=('Helvetica',10,'bold'),width=15,relief='solid').place(x=70,y=280)\n",
    "Label(win,text=\"area\",font=('Helvetica',10,'bold'),width=15,relief='solid').place(x=70,y=320)\n",
    "Label(win,text=\"result\",font=('Helvetica',10,'bold'),width=15,relief='solid').place(x=70,y=340)\n",
    "uid=StringVar()\n",
    "mob=StringVar()\n",
    "h=StringVar()\n",
    "w=StringVar()\n",
    "Entry(win,textvariable=uid).place(x=280,y=100)\n",
    "Entry(win,textvariable=mob).place(x=280,y=140)\n",
    "Entry(win,textvariable=h).place(x=280,y=180)\n",
    "Entry(win,textvariable=w).place(x=280,y=220)\n",
    "gen=StringVar(win)\n",
    "gen.set('gender')\n",
    "OptionMenu(win,gen,\"male\",\"female\").place(x=280,y=220)\n",
    "loc=StringVar(win)\n",
    "loc.set('location')\n",
    "OptionMenu(win,loc,\"noida\",\"delhi\").place(x=280,y=240)\n",
    "\n",
    "def close_gui():\n",
    "    win.destroy()\n",
    "def print_entry():\n",
    "    wt=float(w.get())\n",
    "    ht=float(h.get())\n",
    "    est=wt/(ht**2)\n",
    "    if(est<17.9):\n",
    "        Label(win,text=\"unfit & bmi is -{}\".format(est)).place(x=280,y=230)\n",
    "    elif(est>18):\n",
    "        Label(win,text=\"fit & bmi is -{}\".format(est)).place(x=280,y=250)\n",
    "    elif(est>25 and est<29.9):\n",
    "        Label(win,text=\"overweight & bmi is -{}\".format(est)).place(x=280,y=250)\n",
    "    else:\n",
    "        Label(win,text=\"critical & bmi is -{}\".format(est)).place(x=280,y=260)\n",
    "    conn=pymysql.connect('localhost','root','','bmi')\n",
    "    cur=conn.cursor()\n",
    "    q=\"insert into bmi values(%s,%s,%s,%s,%s,%s,%s)\"\n",
    "    v=(uid.get(),mob.get(),gen.get(),ht,wt,loc.get(),est)\n",
    "    cur.execute(q,v)\n",
    "    conn.commit()\n",
    "    conn.close()\n",
    "        \n",
    "    subgui=Tk()\n",
    "   # subgui=Tk()\n",
    "    #print(\"email addres is:{}\".format(uid.get()))\n",
    "    Label(subgui,text=\"unfit & bmi is:{}\".format(uid.get())).pack()\n",
    "    \n",
    "    \n",
    "    subgui.mainloop()\n",
    "Button(win,text=\"submit\" width=20,fg=\"green\",command=print_entry).place(x=60,y=400)\n",
    "Button(win,text=\"submit\" width=20,fg=\"red\",command=gui_close).place(x=150,y=400)\n",
    "win.mainloop()"
   ]
  },
  {
   "cell_type": "code",
   "execution_count": 10,
   "metadata": {},
   "outputs": [
    {
     "ename": "TclError",
     "evalue": "couldn't recognize data in image file \"C:\\Users\\vinay\\Desktop\\jj.png\"",
     "output_type": "error",
     "traceback": [
      "\u001b[1;31m---------------------------------------------------------------------------\u001b[0m",
      "\u001b[1;31mTclError\u001b[0m                                  Traceback (most recent call last)",
      "\u001b[1;32m<ipython-input-10-e9427dcf56c8>\u001b[0m in \u001b[0;36m<module>\u001b[1;34m\u001b[0m\n\u001b[0;32m      2\u001b[0m \u001b[0mwin1\u001b[0m\u001b[1;33m=\u001b[0m\u001b[0mTk\u001b[0m\u001b[1;33m(\u001b[0m\u001b[1;33m)\u001b[0m\u001b[1;33m\u001b[0m\u001b[1;33m\u001b[0m\u001b[0m\n\u001b[0;32m      3\u001b[0m \u001b[0mwin1\u001b[0m\u001b[1;33m.\u001b[0m\u001b[0mtitle\u001b[0m\u001b[1;33m(\u001b[0m\u001b[1;34m\"my first gui\"\u001b[0m\u001b[1;33m)\u001b[0m\u001b[1;33m\u001b[0m\u001b[1;33m\u001b[0m\u001b[0m\n\u001b[1;32m----> 4\u001b[1;33m \u001b[0mphoto\u001b[0m\u001b[1;33m=\u001b[0m\u001b[0mPhotoImage\u001b[0m\u001b[1;33m(\u001b[0m\u001b[0mfile\u001b[0m\u001b[1;33m=\u001b[0m\u001b[1;34mr\"C:\\Users\\vinay\\Desktop\\jj.png\"\u001b[0m\u001b[1;33m)\u001b[0m\u001b[1;33m\u001b[0m\u001b[1;33m\u001b[0m\u001b[0m\n\u001b[0m\u001b[0;32m      5\u001b[0m \u001b[0mwin1\u001b[0m\u001b[1;33m.\u001b[0m\u001b[0miconphoto\u001b[0m\u001b[1;33m(\u001b[0m\u001b[1;32mFalse\u001b[0m\u001b[1;33m,\u001b[0m\u001b[0mphoto\u001b[0m\u001b[1;33m)\u001b[0m\u001b[1;33m\u001b[0m\u001b[1;33m\u001b[0m\u001b[0m\n\u001b[0;32m      6\u001b[0m \u001b[0mwin1\u001b[0m\u001b[1;33m.\u001b[0m\u001b[0mmainloop\u001b[0m\u001b[1;33m(\u001b[0m\u001b[1;33m)\u001b[0m\u001b[1;33m\u001b[0m\u001b[1;33m\u001b[0m\u001b[0m\n",
      "\u001b[1;32m~\\AppData\\Local\\Continuum\\anaconda3\\lib\\tkinter\\__init__.py\u001b[0m in \u001b[0;36m__init__\u001b[1;34m(self, name, cnf, master, **kw)\u001b[0m\n\u001b[0;32m   3543\u001b[0m         \u001b[0mValid\u001b[0m \u001b[0mresource\u001b[0m \u001b[0mnames\u001b[0m\u001b[1;33m:\u001b[0m \u001b[0mdata\u001b[0m\u001b[1;33m,\u001b[0m \u001b[0mformat\u001b[0m\u001b[1;33m,\u001b[0m \u001b[0mfile\u001b[0m\u001b[1;33m,\u001b[0m \u001b[0mgamma\u001b[0m\u001b[1;33m,\u001b[0m \u001b[0mheight\u001b[0m\u001b[1;33m,\u001b[0m \u001b[0mpalette\u001b[0m\u001b[1;33m,\u001b[0m\u001b[1;33m\u001b[0m\u001b[1;33m\u001b[0m\u001b[0m\n\u001b[0;32m   3544\u001b[0m         width.\"\"\"\n\u001b[1;32m-> 3545\u001b[1;33m         \u001b[0mImage\u001b[0m\u001b[1;33m.\u001b[0m\u001b[0m__init__\u001b[0m\u001b[1;33m(\u001b[0m\u001b[0mself\u001b[0m\u001b[1;33m,\u001b[0m \u001b[1;34m'photo'\u001b[0m\u001b[1;33m,\u001b[0m \u001b[0mname\u001b[0m\u001b[1;33m,\u001b[0m \u001b[0mcnf\u001b[0m\u001b[1;33m,\u001b[0m \u001b[0mmaster\u001b[0m\u001b[1;33m,\u001b[0m \u001b[1;33m**\u001b[0m\u001b[0mkw\u001b[0m\u001b[1;33m)\u001b[0m\u001b[1;33m\u001b[0m\u001b[1;33m\u001b[0m\u001b[0m\n\u001b[0m\u001b[0;32m   3546\u001b[0m     \u001b[1;32mdef\u001b[0m \u001b[0mblank\u001b[0m\u001b[1;33m(\u001b[0m\u001b[0mself\u001b[0m\u001b[1;33m)\u001b[0m\u001b[1;33m:\u001b[0m\u001b[1;33m\u001b[0m\u001b[1;33m\u001b[0m\u001b[0m\n\u001b[0;32m   3547\u001b[0m         \u001b[1;34m\"\"\"Display a transparent image.\"\"\"\u001b[0m\u001b[1;33m\u001b[0m\u001b[1;33m\u001b[0m\u001b[0m\n",
      "\u001b[1;32m~\\AppData\\Local\\Continuum\\anaconda3\\lib\\tkinter\\__init__.py\u001b[0m in \u001b[0;36m__init__\u001b[1;34m(self, imgtype, name, cnf, master, **kw)\u001b[0m\n\u001b[0;32m   3499\u001b[0m                 \u001b[0mv\u001b[0m \u001b[1;33m=\u001b[0m \u001b[0mself\u001b[0m\u001b[1;33m.\u001b[0m\u001b[0m_register\u001b[0m\u001b[1;33m(\u001b[0m\u001b[0mv\u001b[0m\u001b[1;33m)\u001b[0m\u001b[1;33m\u001b[0m\u001b[1;33m\u001b[0m\u001b[0m\n\u001b[0;32m   3500\u001b[0m             \u001b[0moptions\u001b[0m \u001b[1;33m=\u001b[0m \u001b[0moptions\u001b[0m \u001b[1;33m+\u001b[0m \u001b[1;33m(\u001b[0m\u001b[1;34m'-'\u001b[0m\u001b[1;33m+\u001b[0m\u001b[0mk\u001b[0m\u001b[1;33m,\u001b[0m \u001b[0mv\u001b[0m\u001b[1;33m)\u001b[0m\u001b[1;33m\u001b[0m\u001b[1;33m\u001b[0m\u001b[0m\n\u001b[1;32m-> 3501\u001b[1;33m         \u001b[0mself\u001b[0m\u001b[1;33m.\u001b[0m\u001b[0mtk\u001b[0m\u001b[1;33m.\u001b[0m\u001b[0mcall\u001b[0m\u001b[1;33m(\u001b[0m\u001b[1;33m(\u001b[0m\u001b[1;34m'image'\u001b[0m\u001b[1;33m,\u001b[0m \u001b[1;34m'create'\u001b[0m\u001b[1;33m,\u001b[0m \u001b[0mimgtype\u001b[0m\u001b[1;33m,\u001b[0m \u001b[0mname\u001b[0m\u001b[1;33m,\u001b[0m\u001b[1;33m)\u001b[0m \u001b[1;33m+\u001b[0m \u001b[0moptions\u001b[0m\u001b[1;33m)\u001b[0m\u001b[1;33m\u001b[0m\u001b[1;33m\u001b[0m\u001b[0m\n\u001b[0m\u001b[0;32m   3502\u001b[0m         \u001b[0mself\u001b[0m\u001b[1;33m.\u001b[0m\u001b[0mname\u001b[0m \u001b[1;33m=\u001b[0m \u001b[0mname\u001b[0m\u001b[1;33m\u001b[0m\u001b[1;33m\u001b[0m\u001b[0m\n\u001b[0;32m   3503\u001b[0m     \u001b[1;32mdef\u001b[0m \u001b[0m__str__\u001b[0m\u001b[1;33m(\u001b[0m\u001b[0mself\u001b[0m\u001b[1;33m)\u001b[0m\u001b[1;33m:\u001b[0m \u001b[1;32mreturn\u001b[0m \u001b[0mself\u001b[0m\u001b[1;33m.\u001b[0m\u001b[0mname\u001b[0m\u001b[1;33m\u001b[0m\u001b[1;33m\u001b[0m\u001b[0m\n",
      "\u001b[1;31mTclError\u001b[0m: couldn't recognize data in image file \"C:\\Users\\vinay\\Desktop\\jj.png\""
     ]
    }
   ],
   "source": [
    "from tkinter import*\n",
    "win=Tk()\n",
    "win.title(\"my first gui\")\n",
    "photo=PhotoImage(file=r\"C:\\Users\\vinay\\Desktop\\jj.png\")\n",
    "win.iconphoto(False,photo)\n",
    "win.mainloop()"
   ]
  },
  {
   "cell_type": "code",
   "execution_count": 14,
   "metadata": {},
   "outputs": [
    {
     "name": "stdout",
     "output_type": "stream",
     "text": [
      "enter mobile no.:+918126603042\n",
      "India\n",
      "Airtel\n"
     ]
    }
   ],
   "source": [
    "#phonenumbers module\n",
    "import phonenumbers\n",
    "from phonenumbers import geocoder\n",
    "from phonenumbers import carrier\n",
    "n=str(input(\"enter mobile no.:\"))\n",
    "v=phonenumbers.parse(n)\n",
    "print(geocoder.description_for_number(v,'en'))\n",
    "print(carrier.name_for_number(v,'en'))\n"
   ]
  },
  {
   "cell_type": "code",
   "execution_count": 17,
   "metadata": {},
   "outputs": [
    {
     "name": "stdout",
     "output_type": "stream",
     "text": [
      "enter mobile no.:+918126603042\n"
     ]
    },
    {
     "ename": "NameError",
     "evalue": "name 'time_zone_for_number' is not defined",
     "output_type": "error",
     "traceback": [
      "\u001b[1;31m---------------------------------------------------------------------------\u001b[0m",
      "\u001b[1;31mNameError\u001b[0m                                 Traceback (most recent call last)",
      "\u001b[1;32m<ipython-input-17-7b999e204712>\u001b[0m in \u001b[0;36m<module>\u001b[1;34m\u001b[0m\n\u001b[0;32m      8\u001b[0m \u001b[1;31m#print(geocoder.description_for_number(v,'en'))\u001b[0m\u001b[1;33m\u001b[0m\u001b[1;33m\u001b[0m\u001b[1;33m\u001b[0m\u001b[0m\n\u001b[0;32m      9\u001b[0m \u001b[1;31m#print(carrier.name_for_number(v,'en'))\u001b[0m\u001b[1;33m\u001b[0m\u001b[1;33m\u001b[0m\u001b[1;33m\u001b[0m\u001b[0m\n\u001b[1;32m---> 10\u001b[1;33m \u001b[0mprint\u001b[0m\u001b[1;33m(\u001b[0m\u001b[0mtime_zone_for_number\u001b[0m\u001b[1;33m(\u001b[0m\u001b[0mv\u001b[0m\u001b[1;33m)\u001b[0m\u001b[1;33m)\u001b[0m\u001b[1;33m\u001b[0m\u001b[1;33m\u001b[0m\u001b[0m\n\u001b[0m",
      "\u001b[1;31mNameError\u001b[0m: name 'time_zone_for_number' is not defined"
     ]
    }
   ],
   "source": [
    "from phonenumbers import*\n",
    "from phonenumbers import timezone\n",
    "from phonenumbers import geocoder\n",
    "from phonenumbers import carrier\n",
    "phonenumbers.PhoneMetadata.load_all()\n",
    "n=str(input(\"enter mobile no.:\"))\n",
    "v=phonenumbers.parse(n)\n",
    "#print(geocoder.description_for_number(v,'en'))\n",
    "#print(carrier.name_for_number(v,'en'))\n",
    "print(time_zone_for_number(v))\n"
   ]
  },
  {
   "cell_type": "code",
   "execution_count": 48,
   "metadata": {},
   "outputs": [],
   "source": [
    "from tkinter import*\n",
    "rt=Tk()\n",
    "rt.title(\"calculator\")\n",
    "rt.geometry(\"400x600\")\n",
    "rt.configure(background=\"light green\")\n",
    "Label(rt,text=\"Calculator\",font=(\"helvetica\",18,\"bold\")).pack()\n",
    "Label(rt,text=\"Result\",font=('helvitica',8,'bold')).place(x=50,y=50)\n",
    "result=StringVar()\n",
    "Entry(rt,text=\"result\",width=45).place(x=100,y=50)\n",
    "Button(rt,text='1',width=5,height=1).place(x=50,y=120)\n",
    "rt.mainloop()"
   ]
  },
  {
   "cell_type": "code",
   "execution_count": 5,
   "metadata": {},
   "outputs": [
    {
     "name": "stdout",
     "output_type": "stream",
     "text": [
      "hello\n",
      "hello\n",
      "9 1\n"
     ]
    }
   ],
   "source": [
    "#functions:function is a block where u will hve to achieve one task \n",
    "#defining a function\n",
    "def grt():\n",
    "    print(\"hello\")\n",
    "#function calling\n",
    "grt()\n",
    "grt()\n",
    "def add_sub(x,y):\n",
    "    c=x+y\n",
    "    d=x-y\n",
    "    return c,d\n",
    "result1,result2=add_sub(5,4)\n",
    "print(result1,result2)\n"
   ]
  },
  {
   "cell_type": "code",
   "execution_count": 3,
   "metadata": {},
   "outputs": [
    {
     "name": "stdout",
     "output_type": "stream",
     "text": [
      "9\n"
     ]
    }
   ],
   "source": [
    "def add(x,y):\n",
    "    c=x+y\n",
    "    print(c)\n",
    "add(4,5)\n",
    "\n",
    "    "
   ]
  },
  {
   "cell_type": "code",
   "execution_count": 8,
   "metadata": {},
   "outputs": [
    {
     "name": "stdout",
     "output_type": "stream",
     "text": [
      "8\n",
      "10\n"
     ]
    }
   ],
   "source": [
    "def update(x):\n",
    "    x=8\n",
    "    print(x)\n",
    "a=10\n",
    "update(a)\n",
    "print(a)"
   ]
  },
  {
   "cell_type": "code",
   "execution_count": 10,
   "metadata": {},
   "outputs": [
    {
     "name": "stdout",
     "output_type": "stream",
     "text": [
      "navi\n",
      "18\n"
     ]
    }
   ],
   "source": [
    "def person(name,age=18):\n",
    "    print(name)\n",
    "    print(age)\n",
    "person(name='navi')"
   ]
  },
  {
   "cell_type": "code",
   "execution_count": 13,
   "metadata": {},
   "outputs": [
    {
     "name": "stdout",
     "output_type": "stream",
     "text": [
      "5\n",
      "8\n",
      "12\n",
      "19\n"
     ]
    }
   ],
   "source": [
    "def sum(*b):#*b it means it hve multiple values\n",
    "    c=0\n",
    "    for i in b:\n",
    "        c=c+i\n",
    "        print(c)\n",
    "sum(5,3,4,7)"
   ]
  },
  {
   "cell_type": "code",
   "execution_count": 19,
   "metadata": {},
   "outputs": [
    {
     "name": "stdout",
     "output_type": "stream",
     "text": [
      "navi\n",
      "age 34\n",
      "city mumbai\n",
      "mob 714740940943\n"
     ]
    }
   ],
   "source": [
    "def person(name,**data):#**data means we r passing multiple arguments with the help of keyword\n",
    "    print(name)\n",
    "    for i,j in data.items():\n",
    "        print(i,j)\n",
    "person(name='navi',age=34,city='mumbai',mob=714740940943)"
   ]
  },
  {
   "cell_type": "code",
   "execution_count": 120,
   "metadata": {},
   "outputs": [],
   "source": [
    "import tkinter\n",
    "from tkinter import*\n",
    "a=\"\"\n",
    "def btclick(numbers):\n",
    "    global a\n",
    "    a=a+str(numbers)\n",
    "    data.set(a)\n",
    "def btClear():\n",
    "    global a\n",
    "    a=\"\" \n",
    "    data.set(\"\")\n",
    "def btEquals():\n",
    "    global a\n",
    "    sumup=str(eval(a)) \n",
    "    data.set(sumup)\n",
    "    a=\"\"\n",
    "win=Tk()\n",
    "win.title(\"calculator\")\n",
    "win.geometry(\"300x400+300+300\")\n",
    "win.configure(background=\"light blue\")\n",
    "win.resizable(0,0)\n",
    "\n",
    "data=StringVar()\n",
    "td=Entry(win,textvariable=data,justify='right',font=('arial',18,'bold'),insertwidth=3,bd=22,bg='cyan').grid(columnspan=4)\n",
    "\n",
    "bt1=Button(win,padx=18,pady=18,fg='black',relief=GROOVE,border=0,font=('arial',18,'bold'),text='1',command=lambda:btclick(\"1\")).grid(row=1,column=0)\n",
    "bt2=Button(win,padx=18,pady=18,fg='black',relief=GROOVE,border=0,font=('arial',18,'bold'),text='2',command=lambda:btclick(\"2\")).grid(row=1,column=1)\n",
    "bt3=Button(win,padx=18,pady=18,fg='black',relief=GROOVE,border=0,font=('arial',18,'bold'),text='3',command=lambda:btclick(\"3\")).grid(row=1,column=2)\n",
    "bt4=Button(win,padx=18,pady=18,fg='black',relief=GROOVE,border=0,font=('arial',18,'bold'),text='+',command=lambda:btclick(\"+\")).grid(row=1,column=3)\n",
    "bt5=Button(win,padx=18,pady=18,fg='black',relief=GROOVE,border=0,font=('arial',18,'bold'),text='4',command=lambda:btclick(\"4\")).grid(row=2,column=0)\n",
    "bt6=Button(win,padx=18,pady=18,fg='black',relief=GROOVE,border=0,font=('arial',18,'bold'),text='5',command=lambda:btclick(\"5\")).grid(row=2,column=1)\n",
    "bt7=Button(win,padx=18,pady=18,fg='black',relief=GROOVE,border=0,font=('arial',18,'bold'),text='6',command=lambda:btclick(\"6\")).grid(row=2,column=2)\n",
    "bt8=Button(win,padx=18,pady=18,fg='black',relief=GROOVE,border=0,font=('arial',18,'bold'),text='-',command=lambda:btclick(\"-\")).grid(row=2,column=3)\n",
    "bt9=Button(win,padx=18,pady=18,fg='black',relief=GROOVE,border=0,font=('arial',18,'bold'),text='7',command=lambda:btclick(\"7\")).grid(row=3,column=0)\n",
    "bt10=Button(win,padx=18,pady=18,fg='black',relief=GROOVE,border=0,font=('arial',18,'bold'),text='8',command=lambda:btclick(\"8\")).grid(row=3,column=1)\n",
    "bt11=Button(win,padx=18,pady=18,fg='black',relief=GROOVE,border=0,font=('arial',18,'bold'),text='9',command=lambda:btclick(\"9\")).grid(row=3,column=2)\n",
    "bt12=Button(win,padx=18,pady=18,fg='black',relief=GROOVE,border=0,font=('arial',18,'bold'),text='*',command=lambda:btclick(\"*\")).grid(row=3,column=3)\n",
    "bt13=Button(win,padx=18,pady=18,fg='black',relief=GROOVE,border=0,font=('arial',18,'bold'),text='c',command=btClear).grid(row=4,column=0)\n",
    "bt14=Button(win,padx=18,pady=18,fg='black',relief=GROOVE,border=0,font=('arial',18,'bold'),text='0',command=lambda:btclick(\"0\")).grid(row=4,column=1)\n",
    "bt15=Button(win,padx=18,pady=18,fg='black',relief=GROOVE,border=0,font=('arial',18,'bold'),text='=',command=btEquals).grid(row=4,column=2)\n",
    "bt16=Button(win,padx=18,pady=18,fg='black',relief=GROOVE,border=0,font=('arial',18,'bold'),text='/',command=lambda:btclick(\"/\")).grid(row=4,column=3)\n",
    "win.mainloop()"
   ]
  },
  {
   "cell_type": "code",
   "execution_count": 4,
   "metadata": {},
   "outputs": [],
   "source": [
    "from tkinter import*\n",
    "import tkinter.messagebox\n",
    "w=Tk()\n",
    "w.title(\"tic tac\")\n",
    "w.geometry(\"300x300\")\n",
    "w.resizable(0,0)\n",
    "w.configure(background=\"light green\")\n",
    "tops=Frame(w,bg=\"grey\",pady=2,width=1350,height=100,relief=RIDGE).grid(row=0,column=0)\n",
    "lb=Label(tops,text=\"tic tac\",font=(\"helvetica\",18,'bold'),bd=21,bg=\"grey\",fg=\"black\",justify=CENTER).grid(row=0,column=0)\n",
    "mf=Frame(w,bg=\"powder blue\",bd=10,width=1350,height=600,relief=RIDGE).grid(row=0,column=0)\n",
    "lf=Frame(mf,bd=10,width=750,height=500,pady=2,padx=10,bg=\"light green\",relief=RIDGE).pack(side=LEFT)\n",
    "w.mainloop()\n",
    "w.mainloop()\n"
   ]
  },
  {
   "cell_type": "code",
   "execution_count": 2,
   "metadata": {},
   "outputs": [
    {
     "name": "stdout",
     "output_type": "stream",
     "text": [
      "*\n",
      "**\n",
      "***\n",
      "****\n",
      "*****\n"
     ]
    }
   ],
   "source": [
    "for i in range(1,6):\n",
    "    for j in range(1,i+1):\n",
    "        print(\"*\",end=\"\")\n",
    "    print(\"\\n\",end=\"\")"
   ]
  },
  {
   "cell_type": "code",
   "execution_count": 13,
   "metadata": {},
   "outputs": [
    {
     "name": "stdout",
     "output_type": "stream",
     "text": [
      "*****\n",
      "****\n",
      "***\n",
      "**\n",
      "*\n"
     ]
    }
   ],
   "source": [
    "for i in range(1,6):\n",
    "    for j in range(1,6):\n",
    "        if (j<=6-i):\n",
    "            print(\"*\",end=\"\")\n",
    "        else:\n",
    "            print(\"\",end=\"\")\n",
    "    print()\n",
    "    \n",
    "            "
   ]
  },
  {
   "cell_type": "code",
   "execution_count": 11,
   "metadata": {},
   "outputs": [
    {
     "name": "stdout",
     "output_type": "stream",
     "text": [
      "*    \n",
      "**   \n",
      "***  \n",
      "**** \n",
      "*****\n"
     ]
    }
   ],
   "source": [
    "for i in range(1,6):\n",
    "    for j in range(1,6):\n",
    "        if (i>=j):\n",
    "            print(\"*\",end=\"\")\n",
    "        else:\n",
    "            print(\" \",end=\"\")\n",
    "    print()\n",
    "            "
   ]
  },
  {
   "cell_type": "code",
   "execution_count": 14,
   "metadata": {},
   "outputs": [
    {
     "name": "stdout",
     "output_type": "stream",
     "text": [
      "    *\n",
      "   **\n",
      "  ***\n",
      " ****\n",
      "*****\n"
     ]
    }
   ],
   "source": [
    "for i in range(1,6):\n",
    "    for j in range(1,6):\n",
    "        if (j>=6-i):\n",
    "            print(\"*\",end=\"\")\n",
    "        else:\n",
    "            print(\" \",end=\"\")\n",
    "    print()\n",
    "            "
   ]
  },
  {
   "cell_type": "code",
   "execution_count": 17,
   "metadata": {},
   "outputs": [
    {
     "name": "stdout",
     "output_type": "stream",
     "text": [
      "*****\n",
      "****\n",
      "***\n",
      "**\n",
      "*\n"
     ]
    }
   ],
   "source": [
    "for i in range(1,6):\n",
    "    for j in range(1,6):\n",
    "        if (j>=i):\n",
    "            print(\"*\",end=\"\")\n",
    "        else:\n",
    "            print(\"\",end=\"\")\n",
    "    print()\n",
    "            "
   ]
  },
  {
   "cell_type": "code",
   "execution_count": 18,
   "metadata": {},
   "outputs": [
    {
     "name": "stdout",
     "output_type": "stream",
     "text": [
      "****\n",
      "***\n",
      "**\n",
      "*\n"
     ]
    }
   ],
   "source": [
    "for i in range(1,5):\n",
    "    for j in range(1,5):\n",
    "        if j>=i:\n",
    "            print(\"*\",end=\"\")\n",
    "        else:\n",
    "            print(\"\",end='')\n",
    "    print()"
   ]
  },
  {
   "cell_type": "code",
   "execution_count": 22,
   "metadata": {},
   "outputs": [
    {
     "name": "stdout",
     "output_type": "stream",
     "text": [
      "enter a number8\n",
      "the no is even 8\n"
     ]
    }
   ],
   "source": [
    "n=int(input(\"enter a number\"))\n",
    "if n%2==0:\n",
    "    print(\"the no is even\",+n)\n",
    "else:\n",
    "    print(\"the no is odd\",+n)"
   ]
  },
  {
   "cell_type": "code",
   "execution_count": 24,
   "metadata": {},
   "outputs": [
    {
     "name": "stdout",
     "output_type": "stream",
     "text": [
      "enter a number1980\n",
      "not a ly 1980\n"
     ]
    }
   ],
   "source": [
    "n=int(input(\"enter a number\"))\n",
    "if n%400==0 and n%4==0:5\n",
    "    \n",
    "    print(\"no. is ly\",+n)\n",
    "    \n",
    "else:\n",
    "    print(\"not a ly\",+n)\n",
    "    "
   ]
  },
  {
   "cell_type": "code",
   "execution_count": 25,
   "metadata": {},
   "outputs": [
    {
     "name": "stdout",
     "output_type": "stream",
     "text": [
      "enter a number5\n",
      "enter a number6\n",
      "the sum is 11\n"
     ]
    }
   ],
   "source": [
    "a=int(input(\"enter a number\"))\n",
    "b=int(input(\"enter a number\"))\n",
    "c=a+b\n",
    "print(\"the sum is\",+c)"
   ]
  },
  {
   "cell_type": "code",
   "execution_count": 28,
   "metadata": {},
   "outputs": [
    {
     "name": "stdout",
     "output_type": "stream",
     "text": [
      "the name is viny\n",
      "the name is viny\n"
     ]
    }
   ],
   "source": [
    "#function\n",
    "def dis():\n",
    "    name=\"viny\"\n",
    "    print(\"the name is\",name)\n",
    "dis()\n",
    "dis()"
   ]
  },
  {
   "cell_type": "code",
   "execution_count": 29,
   "metadata": {},
   "outputs": [
    {
     "name": "stdout",
     "output_type": "stream",
     "text": [
      "30\n"
     ]
    }
   ],
   "source": [
    "def add(y):\n",
    "    x=10\n",
    "    c=x+y\n",
    "    return c\n",
    "sum=add(20)\n",
    "print(sum)"
   ]
  },
  {
   "cell_type": "code",
   "execution_count": 30,
   "metadata": {},
   "outputs": [
    {
     "name": "stdout",
     "output_type": "stream",
     "text": [
      "20\n"
     ]
    }
   ],
   "source": [
    "#return statement\n",
    "def add(y):\n",
    "    x=10\n",
    "    return x+y\n",
    "sum=add(10)\n",
    "print(sum)"
   ]
  },
  {
   "cell_type": "code",
   "execution_count": 31,
   "metadata": {},
   "outputs": [
    {
     "name": "stdout",
     "output_type": "stream",
     "text": [
      "30\n",
      "10\n"
     ]
    }
   ],
   "source": [
    "#return statement multiple value\n",
    "def add_sub(y):\n",
    "    x=20\n",
    "    c=x+y\n",
    "    d=x-y\n",
    "    return c,d\n",
    "sum,sub=add_sub(10)\n",
    "print(sum)\n",
    "print(sub)"
   ]
  },
  {
   "cell_type": "code",
   "execution_count": 32,
   "metadata": {},
   "outputs": [
    {
     "name": "stdout",
     "output_type": "stream",
     "text": [
      "dis function\n",
      "show function\n"
     ]
    }
   ],
   "source": [
    "#function return another function\n",
    "def dis():\n",
    "    def show():\n",
    "        return \"show function\"\n",
    "    print(\"dis function\")\n",
    "    return show\n",
    "rs=dis()\n",
    "print(rs())"
   ]
  },
  {
   "cell_type": "code",
   "execution_count": 34,
   "metadata": {},
   "outputs": [
    {
     "name": "stdout",
     "output_type": "stream",
     "text": [
      "dis function\n",
      "show function\n"
     ]
    }
   ],
   "source": [
    "def dis(sh):\n",
    "    print(\"dis function\")\n",
    "    return sh\n",
    "def show():\n",
    "    return \"show function\"\n",
    "rs=dis(show)\n",
    "print(rs())"
   ]
  },
  {
   "cell_type": "code",
   "execution_count": 35,
   "metadata": {},
   "outputs": [
    {
     "name": "stdout",
     "output_type": "stream",
     "text": [
      "dis function\n",
      "show function\n"
     ]
    }
   ],
   "source": [
    "#nested function\n",
    "def dis():\n",
    "    def show(): \n",
    "        print(\"show function\")\n",
    "    print(\"dis function\")\n",
    "    show()\n",
    "dis()"
   ]
  },
  {
   "cell_type": "code",
   "execution_count": 38,
   "metadata": {},
   "outputs": [
    {
     "name": "stdout",
     "output_type": "stream",
     "text": [
      "show function dis function\n"
     ]
    }
   ],
   "source": [
    "def dis():\n",
    "    def show():\n",
    "        return \"show function\"\n",
    "    a=show() +\" dis function\"\n",
    "    return a\n",
    "b=dis()\n",
    "print()"
   ]
  },
  {
   "cell_type": "code",
   "execution_count": 42,
   "metadata": {},
   "outputs": [
    {
     "name": "stdout",
     "output_type": "stream",
     "text": [
      "show function dis function\n"
     ]
    }
   ],
   "source": [
    "def dis(s):\n",
    "    def show():\n",
    "        return \"show function\"\n",
    "    a=show() + s\n",
    "    return a\n",
    "b=dis(\" dis function\")\n",
    "print(b)"
   ]
  },
  {
   "cell_type": "code",
   "execution_count": 43,
   "metadata": {},
   "outputs": [
    {
     "name": "stdout",
     "output_type": "stream",
     "text": [
      "fun 1\n",
      "fun 2\n",
      "fun 3\n",
      "fun 4\n",
      "fun 5\n",
      "fun 6\n",
      "fun 7\n",
      "fun 8\n",
      "fun 9\n",
      "fun 10\n",
      "fun 11\n",
      "fun 12\n",
      "fun 13\n",
      "fun 14\n",
      "fun 15\n",
      "fun 16\n",
      "fun 17\n",
      "fun 18\n",
      "fun 19\n",
      "fun 20\n",
      "fun 21\n",
      "fun 22\n",
      "fun 23\n",
      "fun 24\n",
      "fun 25\n",
      "fun 26\n",
      "fun 27\n",
      "fun 28\n",
      "fun 29\n",
      "fun 30\n",
      "fun 31\n",
      "fun 32\n",
      "fun 33\n",
      "fun 34\n",
      "fun 35\n",
      "fun 36\n",
      "fun 37\n",
      "fun 38\n",
      "fun 39\n",
      "fun 40\n",
      "fun 41\n",
      "fun 42\n",
      "fun 43\n",
      "fun 44\n",
      "fun 45\n",
      "fun 46\n",
      "fun 47\n",
      "fun 48\n",
      "fun 49\n",
      "fun 50\n",
      "fun 51\n",
      "fun 52\n",
      "fun 53\n",
      "fun 54\n",
      "fun 55\n",
      "fun 56\n",
      "fun 57\n",
      "fun 58\n",
      "fun 59\n",
      "fun 60\n",
      "fun 61\n",
      "fun 62\n",
      "fun 63\n",
      "fun 64\n",
      "fun 65\n",
      "fun 66\n",
      "fun 67\n",
      "fun 68\n",
      "fun 69\n",
      "fun 70\n",
      "fun 71\n",
      "fun 72\n",
      "fun 73\n",
      "fun 74\n",
      "fun 75\n",
      "fun 76\n",
      "fun 77\n",
      "fun 78\n",
      "fun 79\n",
      "fun 80\n",
      "fun 81\n",
      "fun 82\n",
      "fun 83\n",
      "fun 84\n",
      "fun 85\n",
      "fun 86\n",
      "fun 87\n",
      "fun 88\n",
      "fun 89\n",
      "fun 90\n",
      "fun 91\n",
      "fun 92\n",
      "fun 93\n",
      "fun 94\n",
      "fun 95\n",
      "fun 96\n",
      "fun 97\n",
      "fun 98\n",
      "fun 99\n",
      "fun 100\n",
      "fun 101\n",
      "fun 102\n",
      "fun 103\n",
      "fun 104\n",
      "fun 105\n",
      "fun 106\n",
      "fun 107\n",
      "fun 108\n",
      "fun 109\n",
      "fun 110\n",
      "fun 111\n",
      "fun 112\n",
      "fun 113\n",
      "fun 114\n",
      "fun 115\n",
      "fun 116\n",
      "fun 117\n",
      "fun 118\n",
      "fun 119\n",
      "fun 120\n",
      "fun 121\n",
      "fun 122\n",
      "fun 123\n",
      "fun 124\n",
      "fun 125\n",
      "fun 126\n",
      "fun 127\n",
      "fun 128\n",
      "fun 129\n",
      "fun 130\n",
      "fun 131\n",
      "fun 132\n",
      "fun 133\n",
      "fun 134\n",
      "fun 135\n",
      "fun 136\n",
      "fun 137\n",
      "fun 138\n",
      "fun 139\n",
      "fun 140\n",
      "fun 141\n",
      "fun 142\n",
      "fun 143\n",
      "fun 144\n",
      "fun 145\n",
      "fun 146\n",
      "fun 147\n",
      "fun 148\n",
      "fun 149\n",
      "fun 150\n",
      "fun 151\n",
      "fun 152\n",
      "fun 153\n",
      "fun 154\n",
      "fun 155\n",
      "fun 156\n",
      "fun 157\n",
      "fun 158\n",
      "fun 159\n",
      "fun 160\n",
      "fun 161\n",
      "fun 162\n",
      "fun 163\n",
      "fun 164\n",
      "fun 165\n",
      "fun 166\n",
      "fun 167\n",
      "fun 168\n",
      "fun 169\n",
      "fun 170\n",
      "fun 171\n",
      "fun 172\n",
      "fun 173\n",
      "fun 174\n",
      "fun 175\n",
      "fun 176\n",
      "fun 177\n",
      "fun 178\n",
      "fun 179\n",
      "fun 180\n",
      "fun 181\n",
      "fun 182\n",
      "fun 183\n",
      "fun 184\n",
      "fun 185\n",
      "fun 186\n",
      "fun 187\n",
      "fun 188\n",
      "fun 189\n",
      "fun 190\n",
      "fun 191\n",
      "fun 192\n",
      "fun 193\n",
      "fun 194\n",
      "fun 195\n",
      "fun 196\n",
      "fun 197\n",
      "fun 198\n",
      "fun 199\n",
      "fun 200\n",
      "fun 201\n",
      "fun 202\n",
      "fun 203\n",
      "fun 204\n",
      "fun 205\n",
      "fun 206\n",
      "fun 207\n",
      "fun 208\n",
      "fun 209\n",
      "fun 210\n",
      "fun 211\n",
      "fun 212\n",
      "fun 213\n",
      "fun 214\n",
      "fun 215\n",
      "fun 216\n",
      "fun 217\n",
      "fun 218\n",
      "fun 219\n",
      "fun 220\n",
      "fun 221\n",
      "fun 222\n",
      "fun 223\n",
      "fun 224\n",
      "fun 225\n",
      "fun 226\n",
      "fun 227\n",
      "fun 228\n",
      "fun 229\n",
      "fun 230\n",
      "fun 231\n",
      "fun 232\n",
      "fun 233\n",
      "fun 234\n",
      "fun 235\n",
      "fun 236\n",
      "fun 237\n",
      "fun 238\n",
      "fun 239\n",
      "fun 240\n",
      "fun 241\n",
      "fun 242\n",
      "fun 243\n",
      "fun 244\n",
      "fun 245\n",
      "fun 246\n",
      "fun 247\n",
      "fun 248\n",
      "fun 249\n",
      "fun 250\n",
      "fun 251\n",
      "fun 252\n",
      "fun 253\n",
      "fun 254\n",
      "fun 255\n",
      "fun 256\n",
      "fun 257\n",
      "fun 258\n",
      "fun 259\n",
      "fun 260\n",
      "fun 261\n",
      "fun 262\n",
      "fun 263\n",
      "fun 264\n",
      "fun 265\n",
      "fun 266\n",
      "fun 267\n",
      "fun 268\n",
      "fun 269\n",
      "fun 270\n",
      "fun 271\n",
      "fun 272\n",
      "fun 273\n",
      "fun 274\n",
      "fun 275\n",
      "fun 276\n",
      "fun 277\n",
      "fun 278\n",
      "fun 279\n",
      "fun 280\n",
      "fun 281\n",
      "fun 282\n",
      "fun 283\n",
      "fun 284\n",
      "fun 285\n",
      "fun 286\n",
      "fun 287\n",
      "fun 288\n",
      "fun 289\n",
      "fun 290\n",
      "fun 291\n",
      "fun 292\n",
      "fun 293\n",
      "fun 294\n",
      "fun 295\n",
      "fun 296\n",
      "fun 297\n",
      "fun 298\n",
      "fun 299\n",
      "fun 300\n",
      "fun 301\n",
      "fun 302\n",
      "fun 303\n",
      "fun 304\n",
      "fun 305\n",
      "fun 306\n",
      "fun 307\n",
      "fun 308\n",
      "fun 309\n",
      "fun 310\n",
      "fun 311\n",
      "fun 312\n",
      "fun 313\n",
      "fun 314\n",
      "fun 315\n",
      "fun 316\n",
      "fun 317\n",
      "fun 318\n",
      "fun 319\n",
      "fun 320\n",
      "fun 321\n",
      "fun 322\n",
      "fun 323\n",
      "fun 324\n",
      "fun 325\n",
      "fun 326\n",
      "fun 327\n",
      "fun 328\n",
      "fun 329\n",
      "fun 330\n",
      "fun 331\n",
      "fun 332\n",
      "fun 333\n",
      "fun 334\n",
      "fun 335\n",
      "fun 336\n",
      "fun 337\n",
      "fun 338\n",
      "fun 339\n",
      "fun 340\n",
      "fun 341\n",
      "fun 342\n",
      "fun 343\n",
      "fun 344\n",
      "fun 345\n",
      "fun 346\n",
      "fun 347\n",
      "fun 348\n",
      "fun 349\n",
      "fun 350\n",
      "fun 351\n",
      "fun 352\n",
      "fun 353\n",
      "fun 354\n",
      "fun 355\n",
      "fun 356\n",
      "fun 357\n",
      "fun 358\n",
      "fun 359\n",
      "fun 360\n",
      "fun 361\n",
      "fun 362\n",
      "fun 363\n",
      "fun 364\n",
      "fun 365\n",
      "fun 366\n",
      "fun 367\n",
      "fun 368\n",
      "fun 369\n",
      "fun 370\n",
      "fun 371\n",
      "fun 372\n",
      "fun 373\n",
      "fun 374\n",
      "fun 375\n",
      "fun 376\n",
      "fun 377\n",
      "fun 378\n",
      "fun 379\n",
      "fun 380\n",
      "fun 381\n",
      "fun 382\n",
      "fun 383\n",
      "fun 384\n",
      "fun 385\n",
      "fun 386\n",
      "fun 387\n",
      "fun 388\n",
      "fun 389\n",
      "fun 390\n",
      "fun 391\n",
      "fun 392\n",
      "fun 393\n",
      "fun 394\n",
      "fun 395\n",
      "fun 396\n",
      "fun 397\n",
      "fun 398\n",
      "fun 399\n",
      "fun 400\n",
      "fun 401\n",
      "fun 402\n",
      "fun 403\n",
      "fun 404\n",
      "fun 405\n",
      "fun 406\n",
      "fun 407\n",
      "fun 408\n",
      "fun 409\n",
      "fun 410\n",
      "fun 411\n",
      "fun 412\n",
      "fun 413\n",
      "fun 414\n",
      "fun 415\n",
      "fun 416\n",
      "fun 417\n",
      "fun 418\n",
      "fun 419\n",
      "fun 420\n",
      "fun 421\n",
      "fun 422\n",
      "fun 423\n",
      "fun 424\n",
      "fun 425\n",
      "fun 426\n",
      "fun 427\n",
      "fun 428\n",
      "fun 429\n",
      "fun 430\n",
      "fun 431\n",
      "fun 432\n",
      "fun 433\n",
      "fun 434\n",
      "fun 435\n",
      "fun 436\n",
      "fun 437\n",
      "fun 438\n",
      "fun 439\n",
      "fun 440\n",
      "fun 441\n",
      "fun 442\n",
      "fun 443\n",
      "fun 444\n",
      "fun 445\n",
      "fun 446\n",
      "fun 447\n",
      "fun 448\n",
      "fun 449\n",
      "fun 450\n",
      "fun 451\n",
      "fun 452\n",
      "fun 453\n",
      "fun 454\n",
      "fun 455\n",
      "fun 456\n",
      "fun 457\n",
      "fun 458\n",
      "fun 459\n",
      "fun 460\n",
      "fun 461\n",
      "fun 462\n",
      "fun 463\n",
      "fun 464\n",
      "fun 465\n",
      "fun 466\n",
      "fun 467\n",
      "fun 468\n",
      "fun 469\n",
      "fun 470\n",
      "fun 471\n",
      "fun 472\n",
      "fun 473\n",
      "fun 474\n",
      "fun 475\n",
      "fun 476\n",
      "fun 477\n",
      "fun 478\n",
      "fun 479\n",
      "fun 480\n",
      "fun 481\n",
      "fun 482\n",
      "fun 483\n",
      "fun 484\n",
      "fun 485\n",
      "fun 486\n",
      "fun 487\n",
      "fun 488\n",
      "fun 489\n",
      "fun 490\n",
      "fun 491\n",
      "fun 492\n",
      "fun 493\n",
      "fun 494\n",
      "fun 495\n",
      "fun 496\n",
      "fun 497\n",
      "fun 498\n",
      "fun 499\n",
      "fun 500\n",
      "fun 501\n",
      "fun 502\n",
      "fun 503\n",
      "fun 504\n",
      "fun 505\n",
      "fun 506\n",
      "fun 507\n",
      "fun 508\n",
      "fun 509\n",
      "fun 510\n",
      "fun 511\n",
      "fun 512\n",
      "fun 513\n",
      "fun 514\n",
      "fun 515\n",
      "fun 516\n",
      "fun 517\n",
      "fun 518\n",
      "fun 519\n",
      "fun 520\n",
      "fun 521\n",
      "fun 522\n",
      "fun 523\n",
      "fun 524\n",
      "fun 525\n",
      "fun 526\n",
      "fun 527\n",
      "fun 528\n",
      "fun 529\n",
      "fun 530\n",
      "fun 531\n",
      "fun 532\n",
      "fun 533\n",
      "fun 534\n",
      "fun 535\n",
      "fun 536\n",
      "fun 537\n",
      "fun 538\n",
      "fun 539\n",
      "fun 540\n",
      "fun 541\n",
      "fun 542\n",
      "fun 543\n",
      "fun 544\n",
      "fun 545\n",
      "fun 546\n",
      "fun 547\n",
      "fun 548\n",
      "fun 549\n",
      "fun 550\n",
      "fun 551\n",
      "fun 552\n",
      "fun 553\n",
      "fun 554\n",
      "fun 555\n",
      "fun 556\n",
      "fun 557\n",
      "fun 558\n",
      "fun 559\n",
      "fun 560\n",
      "fun 561\n",
      "fun 562\n",
      "fun 563\n",
      "fun 564\n",
      "fun 565\n",
      "fun 566\n",
      "fun 567\n",
      "fun 568\n",
      "fun 569\n",
      "fun 570\n",
      "fun 571\n",
      "fun 572\n",
      "fun 573\n",
      "fun 574\n",
      "fun 575\n",
      "fun 576\n",
      "fun 577\n",
      "fun 578\n",
      "fun 579\n",
      "fun 580\n",
      "fun 581\n",
      "fun 582\n",
      "fun 583\n",
      "fun 584\n",
      "fun 585\n",
      "fun 586\n",
      "fun 587\n",
      "fun 588\n",
      "fun 589\n",
      "fun 590\n",
      "fun 591\n",
      "fun 592\n",
      "fun 593\n",
      "fun 594\n",
      "fun 595\n",
      "fun 596\n",
      "fun 597\n",
      "fun 598\n",
      "fun 599\n",
      "fun 600\n",
      "fun 601\n",
      "fun 602\n",
      "fun 603\n",
      "fun 604\n",
      "fun 605\n",
      "fun 606\n",
      "fun 607\n",
      "fun 608\n",
      "fun 609\n",
      "fun 610\n",
      "fun 611\n",
      "fun 612\n",
      "fun 613\n",
      "fun 614\n",
      "fun 615\n",
      "fun 616\n",
      "fun 617\n",
      "fun 618\n",
      "fun 619\n",
      "fun 620\n",
      "fun 621\n",
      "fun 622\n",
      "fun 623\n",
      "fun 624\n",
      "fun 625\n",
      "fun 626\n",
      "fun 627\n",
      "fun 628\n",
      "fun 629\n",
      "fun 630\n",
      "fun 631\n",
      "fun 632\n",
      "fun 633\n",
      "fun 634\n",
      "fun 635\n",
      "fun 636\n",
      "fun 637\n",
      "fun 638\n",
      "fun 639\n",
      "fun 640\n",
      "fun 641\n",
      "fun 642\n",
      "fun 643\n",
      "fun 644\n",
      "fun 645\n",
      "fun 646\n",
      "fun 647\n",
      "fun 648\n",
      "fun 649\n",
      "fun 650\n",
      "fun 651\n",
      "fun 652\n",
      "fun 653\n",
      "fun 654\n",
      "fun 655\n",
      "fun 656\n",
      "fun 657\n",
      "fun 658\n",
      "fun 659\n",
      "fun 660\n",
      "fun 661\n",
      "fun 662\n",
      "fun 663\n",
      "fun 664\n",
      "fun 665\n",
      "fun 666\n",
      "fun 667\n",
      "fun 668\n",
      "fun 669\n",
      "fun 670\n",
      "fun 671\n",
      "fun 672\n",
      "fun 673\n",
      "fun 674\n",
      "fun 675\n",
      "fun 676\n",
      "fun 677\n",
      "fun 678\n",
      "fun 679\n",
      "fun 680\n",
      "fun 681\n",
      "fun 682\n",
      "fun 683\n",
      "fun 684\n",
      "fun 685\n",
      "fun 686\n",
      "fun 687\n",
      "fun 688\n",
      "fun 689\n",
      "fun 690\n",
      "fun 691\n",
      "fun 692\n",
      "fun 693\n",
      "fun 694\n",
      "fun 695\n",
      "fun 696\n",
      "fun 697\n",
      "fun 698\n",
      "fun 699\n",
      "fun 700\n",
      "fun 701\n",
      "fun 702\n",
      "fun 703\n",
      "fun 704\n",
      "fun 705\n",
      "fun 706\n",
      "fun 707\n",
      "fun 708\n",
      "fun 709\n",
      "fun 710\n",
      "fun 711\n",
      "fun 712\n",
      "fun 713\n",
      "fun 714\n",
      "fun 715\n",
      "fun 716\n",
      "fun 717\n",
      "fun 718\n",
      "fun 719\n",
      "fun 720\n",
      "fun 721\n",
      "fun 722\n",
      "fun 723\n",
      "fun 724\n",
      "fun 725\n",
      "fun 726\n",
      "fun 727\n",
      "fun 728\n",
      "fun 729\n",
      "fun 730\n",
      "fun 731\n",
      "fun 732\n",
      "fun 733\n",
      "fun 734\n",
      "fun 735\n",
      "fun 736\n",
      "fun 737\n",
      "fun 738\n",
      "fun 739\n",
      "fun 740\n",
      "fun 741\n",
      "fun 742\n",
      "fun 743\n",
      "fun 744\n",
      "fun 745\n",
      "fun 746\n",
      "fun 747\n",
      "fun 748\n",
      "fun 749\n",
      "fun 750\n",
      "fun 751\n",
      "fun 752\n",
      "fun 753\n",
      "fun 754\n",
      "fun 755\n",
      "fun 756\n",
      "fun 757\n",
      "fun 758\n",
      "fun 759\n",
      "fun 760\n",
      "fun 761\n",
      "fun 762\n",
      "fun 763\n",
      "fun 764\n",
      "fun 765\n",
      "fun 766\n",
      "fun 767\n",
      "fun 768\n",
      "fun 769\n",
      "fun 770\n",
      "fun 771\n",
      "fun 772\n",
      "fun 773\n",
      "fun 774\n",
      "fun 775\n",
      "fun 776\n",
      "fun 777\n",
      "fun 778\n",
      "fun 779\n",
      "fun 780\n",
      "fun 781\n",
      "fun 782\n",
      "fun 783\n",
      "fun 784\n",
      "fun 785\n",
      "fun 786\n",
      "fun 787\n",
      "fun 788\n",
      "fun 789\n",
      "fun 790\n",
      "fun 791\n",
      "fun 792\n",
      "fun 793\n",
      "fun 794\n",
      "fun 795\n",
      "fun 796\n",
      "fun 797\n",
      "fun 798\n",
      "fun 799\n",
      "fun 800\n",
      "fun 801\n",
      "fun 802\n",
      "fun 803\n",
      "fun 804\n",
      "fun 805\n",
      "fun 806\n",
      "fun 807\n",
      "fun 808\n",
      "fun 809\n",
      "fun 810\n",
      "fun 811\n",
      "fun 812\n",
      "fun 813\n",
      "fun 814\n",
      "fun 815\n",
      "fun 816\n",
      "fun 817\n",
      "fun 818\n",
      "fun 819\n",
      "fun 820\n",
      "fun 821\n",
      "fun 822\n",
      "fun 823\n",
      "fun 824\n",
      "fun 825\n",
      "fun 826\n",
      "fun 827\n",
      "fun 828\n",
      "fun 829\n",
      "fun 830\n",
      "fun 831\n",
      "fun 832\n",
      "fun 833\n",
      "fun 834\n",
      "fun 835\n",
      "fun 836\n",
      "fun 837\n",
      "fun 838\n",
      "fun 839\n",
      "fun 840\n",
      "fun 841\n",
      "fun 842\n",
      "fun 843\n",
      "fun 844\n",
      "fun 845\n",
      "fun 846\n",
      "fun 847\n",
      "fun 848\n",
      "fun 849\n",
      "fun 850\n",
      "fun 851\n",
      "fun 852\n",
      "fun 853\n",
      "fun 854\n",
      "fun 855\n",
      "fun 856\n",
      "fun 857\n",
      "fun 858\n",
      "fun 859\n",
      "fun 860\n",
      "fun 861\n",
      "fun 862\n",
      "fun 863\n",
      "fun 864\n",
      "fun 865\n",
      "fun 866\n",
      "fun 867\n",
      "fun 868\n",
      "fun 869\n",
      "fun 870\n",
      "fun 871\n",
      "fun 872\n",
      "fun 873\n",
      "fun 874\n",
      "fun 875\n",
      "fun 876\n",
      "fun 877\n",
      "fun 878\n",
      "fun 879\n",
      "fun 880\n",
      "fun 881\n",
      "fun 882\n",
      "fun 883\n",
      "fun 884\n",
      "fun 885\n",
      "fun 886\n",
      "fun 887\n",
      "fun 888\n",
      "fun 889\n",
      "fun 890\n",
      "fun 891\n",
      "fun 892\n",
      "fun 893\n",
      "fun 894\n",
      "fun 895\n",
      "fun 896\n",
      "fun 897\n",
      "fun 898\n",
      "fun 899\n",
      "fun 900\n",
      "fun 901\n",
      "fun 902\n",
      "fun 903\n",
      "fun 904\n",
      "fun 905\n",
      "fun 906\n",
      "fun 907\n",
      "fun 908\n",
      "fun 909\n",
      "fun 910\n",
      "fun 911\n",
      "fun 912\n",
      "fun 913\n",
      "fun 914\n",
      "fun 915\n",
      "fun 916\n",
      "fun 917\n",
      "fun 918\n",
      "fun 919\n",
      "fun 920\n",
      "fun 921\n",
      "fun 922\n",
      "fun 923\n",
      "fun 924\n",
      "fun 925\n",
      "fun 926\n",
      "fun 927\n",
      "fun 928\n",
      "fun 929\n",
      "fun 930\n",
      "fun 931\n",
      "fun 932\n",
      "fun 933\n",
      "fun 934\n",
      "fun 935\n",
      "fun 936\n",
      "fun 937\n",
      "fun 938\n",
      "fun 939\n",
      "fun 940\n",
      "fun 941\n",
      "fun 942\n",
      "fun 943\n",
      "fun 944\n",
      "fun 945\n",
      "fun 946\n",
      "fun 947\n",
      "fun 948\n",
      "fun 949\n",
      "fun 950\n",
      "fun 951\n",
      "fun 952\n",
      "fun 953\n",
      "fun 954\n",
      "fun 955\n",
      "fun 956\n",
      "fun 957\n",
      "fun 958\n",
      "fun 959\n",
      "fun 960\n",
      "fun 961\n",
      "fun 962\n",
      "fun 963\n",
      "fun 964\n",
      "fun 965\n",
      "fun 966\n",
      "fun 967\n",
      "fun 968\n",
      "fun 969\n",
      "fun 970\n",
      "fun 971\n",
      "fun 972\n",
      "fun 973\n",
      "fun 974\n",
      "fun 975\n",
      "fun 976\n",
      "fun 977\n",
      "fun 978\n",
      "fun 979\n",
      "fun 980\n",
      "fun 981\n",
      "fun 982\n",
      "fun 983\n",
      "fun 984\n",
      "fun 985\n",
      "fun 986\n",
      "fun 987\n",
      "fun 988\n",
      "fun 989\n",
      "fun 990\n",
      "fun 991\n",
      "fun 992\n",
      "fun 993\n",
      "fun 994\n",
      "fun 995\n",
      "fun 996\n",
      "fun 997\n",
      "fun 998\n",
      "fun 999\n",
      "fun 1000\n",
      "fun 1001\n",
      "fun 1002\n",
      "fun 1003\n",
      "fun 1004\n",
      "fun 1005\n",
      "fun 1006\n",
      "fun 1007\n",
      "fun 1008\n",
      "fun 1009\n",
      "fun 1010\n",
      "fun 1011\n",
      "fun 1012\n",
      "fun 1013\n",
      "fun 1014\n",
      "fun 1015\n",
      "fun 1016\n",
      "fun 1017\n",
      "fun 1018\n",
      "fun 1019\n",
      "fun 1020\n",
      "fun 1021\n",
      "fun 1022\n",
      "fun 1023\n",
      "fun 1024\n",
      "fun 1025\n",
      "fun 1026\n",
      "fun 1027\n",
      "fun 1028\n",
      "fun 1029\n",
      "fun 1030\n",
      "fun 1031\n",
      "fun 1032\n",
      "fun 1033\n",
      "fun 1034\n",
      "fun 1035\n",
      "fun 1036\n",
      "fun 1037\n",
      "fun 1038\n",
      "fun 1039\n",
      "fun 1040\n",
      "fun 1041\n",
      "fun 1042\n",
      "fun 1043\n",
      "fun 1044\n",
      "fun 1045\n",
      "fun 1046\n",
      "fun 1047\n",
      "fun 1048\n",
      "fun 1049\n",
      "fun 1050\n",
      "fun 1051\n",
      "fun 1052\n",
      "fun 1053\n",
      "fun 1054\n",
      "fun 1055\n",
      "fun 1056\n",
      "fun 1057\n",
      "fun 1058\n",
      "fun 1059\n",
      "fun 1060\n",
      "fun 1061\n",
      "fun 1062\n",
      "fun 1063\n",
      "fun 1064\n",
      "fun 1065\n",
      "fun 1066\n",
      "fun 1067\n",
      "fun 1068\n",
      "fun 1069\n",
      "fun 1070\n",
      "fun 1071\n",
      "fun 1072\n",
      "fun 1073\n",
      "fun 1074\n",
      "fun 1075\n",
      "fun 1076\n",
      "fun 1077\n",
      "fun 1078\n",
      "fun 1079\n",
      "fun 1080\n",
      "fun 1081\n",
      "fun 1082\n",
      "fun 1083\n",
      "fun 1084\n",
      "fun 1085\n",
      "fun 1086\n",
      "fun 1087\n",
      "fun 1088\n",
      "fun 1089\n",
      "fun 1090\n",
      "fun 1091\n",
      "fun 1092\n",
      "fun 1093\n",
      "fun 1094\n",
      "fun 1095\n",
      "fun 1096\n",
      "fun 1097\n",
      "fun 1098\n",
      "fun 1099\n",
      "fun 1100\n",
      "fun 1101\n",
      "fun 1102\n",
      "fun 1103\n",
      "fun 1104\n",
      "fun 1105\n",
      "fun 1106\n",
      "fun 1107\n",
      "fun 1108\n",
      "fun 1109\n",
      "fun 1110\n",
      "fun 1111\n",
      "fun 1112\n",
      "fun 1113\n",
      "fun 1114\n",
      "fun 1115\n",
      "fun 1116\n",
      "fun 1117\n",
      "fun 1118\n",
      "fun 1119\n",
      "fun 1120\n",
      "fun 1121\n",
      "fun 1122\n",
      "fun 1123\n",
      "fun 1124\n",
      "fun 1125\n",
      "fun 1126\n",
      "fun 1127\n",
      "fun 1128\n",
      "fun 1129\n",
      "fun 1130\n",
      "fun 1131\n",
      "fun 1132\n",
      "fun 1133\n",
      "fun 1134\n",
      "fun 1135\n",
      "fun 1136\n",
      "fun 1137\n",
      "fun 1138\n",
      "fun 1139\n",
      "fun 1140\n",
      "fun 1141\n",
      "fun 1142\n",
      "fun 1143\n",
      "fun 1144\n",
      "fun 1145\n",
      "fun 1146\n",
      "fun 1147\n",
      "fun 1148\n",
      "fun 1149\n",
      "fun 1150\n",
      "fun 1151\n",
      "fun 1152\n",
      "fun 1153\n",
      "fun 1154\n",
      "fun 1155\n",
      "fun 1156\n",
      "fun 1157\n",
      "fun 1158\n",
      "fun 1159\n",
      "fun 1160\n",
      "fun 1161\n",
      "fun 1162\n",
      "fun 1163\n",
      "fun 1164\n",
      "fun 1165\n",
      "fun 1166\n",
      "fun 1167\n",
      "fun 1168\n",
      "fun 1169\n",
      "fun 1170\n",
      "fun 1171\n",
      "fun 1172\n",
      "fun 1173\n",
      "fun 1174\n",
      "fun 1175\n",
      "fun 1176\n",
      "fun 1177\n",
      "fun 1178\n",
      "fun 1179\n",
      "fun 1180\n",
      "fun 1181\n",
      "fun 1182\n",
      "fun 1183\n",
      "fun 1184\n",
      "fun 1185\n",
      "fun 1186\n",
      "fun 1187\n",
      "fun 1188\n",
      "fun 1189\n",
      "fun 1190\n",
      "fun 1191\n",
      "fun 1192\n",
      "fun 1193\n",
      "fun 1194\n",
      "fun 1195\n",
      "fun 1196\n",
      "fun 1197\n",
      "fun 1198\n",
      "fun 1199\n",
      "fun 1200\n",
      "fun 1201\n",
      "fun 1202\n",
      "fun 1203\n",
      "fun 1204\n",
      "fun 1205\n",
      "fun 1206\n",
      "fun 1207\n",
      "fun 1208\n",
      "fun 1209\n",
      "fun 1210\n",
      "fun 1211\n",
      "fun 1212\n",
      "fun 1213\n",
      "fun 1214\n",
      "fun 1215\n",
      "fun 1216\n",
      "fun 1217\n",
      "fun 1218\n",
      "fun 1219\n",
      "fun 1220\n",
      "fun 1221\n",
      "fun 1222\n",
      "fun 1223\n",
      "fun 1224\n",
      "fun 1225\n",
      "fun 1226\n",
      "fun 1227\n",
      "fun 1228\n",
      "fun 1229\n",
      "fun 1230\n",
      "fun 1231\n",
      "fun 1232\n",
      "fun 1233\n",
      "fun 1234\n",
      "fun 1235\n",
      "fun 1236\n",
      "fun 1237\n",
      "fun 1238\n",
      "fun 1239\n",
      "fun 1240\n",
      "fun 1241\n",
      "fun 1242\n",
      "fun 1243\n",
      "fun 1244\n",
      "fun 1245\n",
      "fun 1246\n",
      "fun 1247\n",
      "fun 1248\n",
      "fun 1249\n",
      "fun 1250\n",
      "fun 1251\n",
      "fun 1252\n",
      "fun 1253\n",
      "fun 1254\n",
      "fun 1255\n",
      "fun 1256\n",
      "fun 1257\n",
      "fun 1258\n",
      "fun 1259\n",
      "fun 1260\n",
      "fun 1261\n",
      "fun 1262\n",
      "fun 1263\n",
      "fun 1264\n",
      "fun 1265\n",
      "fun 1266\n",
      "fun 1267\n",
      "fun 1268\n",
      "fun 1269\n",
      "fun 1270\n",
      "fun 1271\n",
      "fun 1272\n",
      "fun 1273\n",
      "fun 1274\n",
      "fun 1275\n",
      "fun 1276\n",
      "fun 1277\n",
      "fun 1278\n",
      "fun 1279\n",
      "fun 1280\n",
      "fun 1281\n",
      "fun 1282\n",
      "fun 1283\n",
      "fun 1284\n",
      "fun 1285\n",
      "fun 1286\n",
      "fun 1287\n",
      "fun 1288\n",
      "fun 1289\n",
      "fun 1290\n",
      "fun 1291\n",
      "fun 1292\n",
      "fun 1293\n",
      "fun 1294\n",
      "fun 1295\n",
      "fun 1296\n",
      "fun 1297\n",
      "fun 1298\n",
      "fun 1299\n",
      "fun 1300\n",
      "fun 1301\n",
      "fun 1302\n",
      "fun 1303\n",
      "fun 1304\n",
      "fun 1305\n",
      "fun 1306\n",
      "fun 1307\n",
      "fun 1308\n",
      "fun 1309\n",
      "fun 1310\n",
      "fun 1311\n",
      "fun 1312\n",
      "fun 1313\n",
      "fun 1314\n",
      "fun 1315\n",
      "fun 1316\n",
      "fun 1317\n",
      "fun 1318\n",
      "fun 1319\n",
      "fun 1320\n",
      "fun 1321\n",
      "fun 1322\n",
      "fun 1323\n",
      "fun 1324\n",
      "fun 1325\n",
      "fun 1326\n",
      "fun 1327\n",
      "fun 1328\n",
      "fun 1329\n",
      "fun 1330\n",
      "fun 1331\n",
      "fun 1332\n",
      "fun 1333\n",
      "fun 1334\n",
      "fun 1335\n",
      "fun 1336\n",
      "fun 1337\n",
      "fun 1338\n",
      "fun 1339\n",
      "fun 1340\n",
      "fun 1341\n",
      "fun 1342\n",
      "fun 1343\n",
      "fun 1344\n",
      "fun 1345\n",
      "fun 1346\n",
      "fun 1347\n",
      "fun 1348\n",
      "fun 1349\n",
      "fun 1350\n",
      "fun 1351\n",
      "fun 1352\n",
      "fun 1353\n",
      "fun 1354\n",
      "fun 1355\n",
      "fun 1356\n",
      "fun 1357\n",
      "fun 1358\n",
      "fun 1359\n",
      "fun 1360\n",
      "fun 1361\n",
      "fun 1362\n",
      "fun 1363\n",
      "fun 1364\n",
      "fun 1365\n",
      "fun 1366\n",
      "fun 1367\n"
     ]
    },
    {
     "name": "stdout",
     "output_type": "stream",
     "text": [
      "fun 1368\n",
      "fun 1369\n",
      "fun 1370\n",
      "fun 1371\n",
      "fun 1372\n",
      "fun 1373\n",
      "fun 1374\n",
      "fun 1375\n",
      "fun 1376\n",
      "fun 1377\n",
      "fun 1378\n",
      "fun 1379\n",
      "fun 1380\n",
      "fun 1381\n",
      "fun 1382\n",
      "fun 1383\n",
      "fun 1384\n",
      "fun 1385\n",
      "fun 1386\n",
      "fun 1387\n",
      "fun 1388\n",
      "fun 1389\n",
      "fun 1390\n",
      "fun 1391\n",
      "fun 1392\n",
      "fun 1393\n",
      "fun 1394\n",
      "fun 1395\n",
      "fun 1396\n",
      "fun 1397\n",
      "fun 1398\n",
      "fun 1399\n",
      "fun 1400\n",
      "fun 1401\n",
      "fun 1402\n",
      "fun 1403\n",
      "fun 1404\n",
      "fun 1405\n",
      "fun 1406\n",
      "fun 1407\n",
      "fun 1408\n",
      "fun 1409\n",
      "fun 1410\n",
      "fun 1411\n",
      "fun 1412\n",
      "fun 1413\n",
      "fun 1414\n",
      "fun 1415\n",
      "fun 1416\n",
      "fun 1417\n",
      "fun 1418\n",
      "fun 1419\n",
      "fun 1420\n",
      "fun 1421\n",
      "fun 1422\n",
      "fun 1423\n",
      "fun 1424\n",
      "fun 1425\n",
      "fun 1426\n",
      "fun 1427\n",
      "fun 1428\n",
      "fun 1429\n",
      "fun 1430\n",
      "fun 1431\n",
      "fun 1432\n",
      "fun 1433\n",
      "fun 1434\n",
      "fun 1435\n",
      "fun 1436\n",
      "fun 1437\n",
      "fun 1438\n",
      "fun 1439\n",
      "fun 1440\n",
      "fun 1441\n",
      "fun 1442\n",
      "fun 1443\n",
      "fun 1444\n",
      "fun 1445\n",
      "fun 1446\n",
      "fun 1447\n",
      "fun 1448\n",
      "fun 1449\n",
      "fun 1450\n",
      "fun 1451\n",
      "fun 1452\n",
      "fun 1453\n",
      "fun 1454\n",
      "fun 1455\n",
      "fun 1456\n",
      "fun 1457\n",
      "fun 1458\n",
      "fun 1459\n",
      "fun 1460\n",
      "fun 1461\n",
      "fun 1462\n",
      "fun 1463\n",
      "fun 1464\n",
      "fun 1465\n",
      "fun 1466\n",
      "fun 1467\n",
      "fun 1468\n",
      "fun 1469\n",
      "fun 1470\n",
      "fun 1471\n",
      "fun 1472\n",
      "fun 1473\n",
      "fun 1474\n",
      "fun 1475\n",
      "fun 1476\n",
      "fun 1477\n",
      "fun 1478\n",
      "fun 1479\n",
      "fun 1480\n",
      "fun 1481\n",
      "fun 1482\n",
      "fun 1483\n",
      "fun 1484\n",
      "fun 1485\n",
      "fun 1486\n",
      "fun 1487\n",
      "fun 1488\n",
      "fun 1489\n",
      "fun 1490\n",
      "fun 1491\n",
      "fun 1492\n",
      "fun 1493\n",
      "fun 1494\n",
      "fun 1495\n",
      "fun 1496\n",
      "fun 1497\n",
      "fun 1498\n",
      "fun 1499\n",
      "fun 1500\n",
      "fun 1501\n",
      "fun 1502\n",
      "fun 1503\n",
      "fun 1504\n",
      "fun 1505\n",
      "fun 1506\n",
      "fun 1507\n",
      "fun 1508\n",
      "fun 1509\n",
      "fun 1510\n",
      "fun 1511\n",
      "fun 1512\n",
      "fun 1513\n",
      "fun 1514\n",
      "fun 1515\n",
      "fun 1516\n",
      "fun 1517\n",
      "fun 1518\n",
      "fun 1519\n",
      "fun 1520\n",
      "fun 1521\n",
      "fun 1522\n",
      "fun 1523\n",
      "fun 1524\n",
      "fun 1525\n",
      "fun 1526\n",
      "fun 1527\n",
      "fun 1528\n",
      "fun 1529\n",
      "fun 1530\n",
      "fun 1531\n",
      "fun 1532\n",
      "fun 1533\n",
      "fun 1534\n",
      "fun 1535\n",
      "fun 1536\n",
      "fun 1537\n",
      "fun 1538\n",
      "fun 1539\n",
      "fun 1540\n",
      "fun 1541\n",
      "fun 1542\n",
      "fun 1543\n",
      "fun 1544\n",
      "fun 1545\n",
      "fun 1546\n",
      "fun 1547\n",
      "fun 1548\n",
      "fun 1549\n",
      "fun 1550\n",
      "fun 1551\n",
      "fun 1552\n",
      "fun 1553\n",
      "fun 1554\n",
      "fun 1555\n",
      "fun 1556\n",
      "fun 1557\n",
      "fun 1558\n",
      "fun 1559\n",
      "fun 1560\n",
      "fun 1561\n",
      "fun 1562\n",
      "fun 1563\n",
      "fun 1564\n",
      "fun 1565\n",
      "fun 1566\n",
      "fun 1567\n",
      "fun 1568\n",
      "fun 1569\n",
      "fun 1570\n",
      "fun 1571\n",
      "fun 1572\n",
      "fun 1573\n",
      "fun 1574\n",
      "fun 1575\n",
      "fun 1576\n",
      "fun 1577\n",
      "fun 1578\n",
      "fun 1579\n",
      "fun 1580\n",
      "fun 1581\n",
      "fun 1582\n",
      "fun 1583\n",
      "fun 1584\n",
      "fun 1585\n",
      "fun 1586\n",
      "fun 1587\n",
      "fun 1588\n",
      "fun 1589\n",
      "fun 1590\n",
      "fun 1591\n",
      "fun 1592\n",
      "fun 1593\n",
      "fun 1594\n",
      "fun 1595\n",
      "fun 1596\n",
      "fun 1597\n",
      "fun 1598\n",
      "fun 1599\n",
      "fun 1600\n",
      "fun 1601\n",
      "fun 1602\n",
      "fun 1603\n",
      "fun 1604\n",
      "fun 1605\n",
      "fun 1606\n",
      "fun 1607\n",
      "fun 1608\n",
      "fun 1609\n",
      "fun 1610\n",
      "fun 1611\n",
      "fun 1612\n",
      "fun 1613\n",
      "fun 1614\n",
      "fun 1615\n",
      "fun 1616\n",
      "fun 1617\n",
      "fun 1618\n",
      "fun 1619\n",
      "fun 1620\n",
      "fun 1621\n",
      "fun 1622\n",
      "fun 1623\n",
      "fun 1624\n",
      "fun 1625\n",
      "fun 1626\n",
      "fun 1627\n",
      "fun 1628\n",
      "fun 1629\n",
      "fun 1630\n",
      "fun 1631\n",
      "fun 1632\n",
      "fun 1633\n",
      "fun 1634\n",
      "fun 1635\n",
      "fun 1636\n",
      "fun 1637\n",
      "fun 1638\n",
      "fun 1639\n",
      "fun 1640\n",
      "fun 1641\n",
      "fun 1642\n",
      "fun 1643\n",
      "fun 1644\n",
      "fun 1645\n",
      "fun 1646\n",
      "fun 1647\n",
      "fun 1648\n",
      "fun 1649\n",
      "fun 1650\n",
      "fun 1651\n",
      "fun 1652\n",
      "fun 1653\n",
      "fun 1654\n",
      "fun 1655\n",
      "fun 1656\n",
      "fun 1657\n",
      "fun 1658\n",
      "fun 1659\n",
      "fun 1660\n",
      "fun 1661\n",
      "fun 1662\n",
      "fun 1663\n",
      "fun 1664\n",
      "fun 1665\n",
      "fun 1666\n",
      "fun 1667\n",
      "fun 1668\n",
      "fun 1669\n",
      "fun 1670\n",
      "fun 1671\n",
      "fun 1672\n",
      "fun 1673\n",
      "fun 1674\n",
      "fun 1675\n",
      "fun 1676\n",
      "fun 1677\n",
      "fun 1678\n",
      "fun 1679\n",
      "fun 1680\n",
      "fun 1681\n",
      "fun 1682\n",
      "fun 1683\n",
      "fun 1684\n",
      "fun 1685\n",
      "fun 1686\n",
      "fun 1687\n",
      "fun 1688\n",
      "fun 1689\n",
      "fun 1690\n",
      "fun 1691\n",
      "fun 1692\n",
      "fun 1693\n",
      "fun 1694\n",
      "fun 1695\n",
      "fun 1696\n",
      "fun 1697\n",
      "fun 1698\n",
      "fun 1699\n",
      "fun 1700\n",
      "fun 1701\n",
      "fun 1702\n",
      "fun 1703\n",
      "fun 1704\n",
      "fun 1705\n",
      "fun 1706\n",
      "fun 1707\n",
      "fun 1708\n",
      "fun 1709\n",
      "fun 1710\n",
      "fun 1711\n",
      "fun 1712\n",
      "fun 1713\n",
      "fun 1714\n",
      "fun 1715\n",
      "fun 1716\n",
      "fun 1717\n",
      "fun 1718\n",
      "fun 1719\n",
      "fun 1720\n",
      "fun 1721\n",
      "fun 1722\n",
      "fun 1723\n",
      "fun 1724\n",
      "fun 1725\n",
      "fun 1726\n",
      "fun 1727\n",
      "fun 1728\n",
      "fun 1729\n",
      "fun 1730\n",
      "fun 1731\n",
      "fun 1732\n",
      "fun 1733\n",
      "fun 1734\n",
      "fun 1735\n",
      "fun 1736\n",
      "fun 1737\n",
      "fun 1738\n",
      "fun 1739\n",
      "fun 1740\n",
      "fun 1741\n",
      "fun 1742\n",
      "fun 1743\n",
      "fun 1744\n",
      "fun 1745\n",
      "fun 1746\n",
      "fun 1747\n",
      "fun 1748\n",
      "fun 1749\n",
      "fun 1750\n",
      "fun 1751\n",
      "fun 1752\n",
      "fun 1753\n",
      "fun 1754\n",
      "fun 1755\n",
      "fun 1756\n",
      "fun 1757\n",
      "fun 1758\n",
      "fun 1759\n",
      "fun 1760\n",
      "fun 1761\n",
      "fun 1762\n",
      "fun 1763\n",
      "fun 1764\n",
      "fun 1765\n",
      "fun 1766\n",
      "fun 1767\n",
      "fun 1768\n",
      "fun 1769\n",
      "fun 1770\n",
      "fun 1771\n",
      "fun 1772\n",
      "fun 1773\n",
      "fun 1774\n",
      "fun 1775\n",
      "fun 1776\n",
      "fun 1777\n",
      "fun 1778\n",
      "fun 1779\n",
      "fun 1780\n",
      "fun 1781\n",
      "fun 1782\n",
      "fun 1783\n",
      "fun 1784\n",
      "fun 1785\n",
      "fun 1786\n",
      "fun 1787\n",
      "fun 1788\n",
      "fun 1789\n",
      "fun 1790\n",
      "fun 1791\n",
      "fun 1792\n",
      "fun 1793\n",
      "fun 1794\n",
      "fun 1795\n",
      "fun 1796\n",
      "fun 1797\n",
      "fun 1798\n",
      "fun 1799\n",
      "fun 1800\n",
      "fun 1801\n",
      "fun 1802\n",
      "fun 1803\n",
      "fun 1804\n",
      "fun 1805\n",
      "fun 1806\n",
      "fun 1807\n",
      "fun 1808\n",
      "fun 1809\n",
      "fun 1810\n",
      "fun 1811\n",
      "fun 1812\n",
      "fun 1813\n",
      "fun 1814\n",
      "fun 1815\n",
      "fun 1816\n",
      "fun 1817\n",
      "fun 1818\n",
      "fun 1819\n",
      "fun 1820\n",
      "fun 1821\n",
      "fun 1822\n",
      "fun 1823\n",
      "fun 1824\n",
      "fun 1825\n",
      "fun 1826\n",
      "fun 1827\n",
      "fun 1828\n",
      "fun 1829\n",
      "fun 1830\n",
      "fun 1831\n",
      "fun 1832\n",
      "fun 1833\n",
      "fun 1834\n",
      "fun 1835\n",
      "fun 1836\n",
      "fun 1837\n",
      "fun 1838\n",
      "fun 1839\n",
      "fun 1840\n",
      "fun 1841\n",
      "fun 1842\n",
      "fun 1843\n",
      "fun 1844\n",
      "fun 1845\n",
      "fun 1846\n",
      "fun 1847\n",
      "fun 1848\n",
      "fun 1849\n",
      "fun 1850\n",
      "fun 1851\n",
      "fun 1852\n",
      "fun 1853\n",
      "fun 1854\n",
      "fun 1855\n",
      "fun 1856\n",
      "fun 1857\n",
      "fun 1858\n",
      "fun 1859\n",
      "fun 1860\n",
      "fun 1861\n",
      "fun 1862\n",
      "fun 1863\n",
      "fun 1864\n",
      "fun 1865\n",
      "fun 1866\n",
      "fun 1867\n",
      "fun 1868\n",
      "fun 1869\n",
      "fun 1870\n",
      "fun 1871\n",
      "fun 1872\n",
      "fun 1873\n",
      "fun 1874\n",
      "fun 1875\n",
      "fun 1876\n",
      "fun 1877\n",
      "fun 1878\n",
      "fun 1879\n",
      "fun 1880\n",
      "fun 1881\n",
      "fun 1882\n",
      "fun 1883\n",
      "fun 1884\n",
      "fun 1885\n",
      "fun 1886\n",
      "fun 1887\n",
      "fun 1888\n",
      "fun 1889\n",
      "fun 1890\n",
      "fun 1891\n",
      "fun 1892\n",
      "fun 1893\n",
      "fun 1894\n",
      "fun 1895\n",
      "fun 1896\n",
      "fun 1897\n",
      "fun 1898\n",
      "fun 1899\n",
      "fun 1900\n",
      "fun 1901\n",
      "fun 1902\n",
      "fun 1903\n",
      "fun 1904\n",
      "fun 1905\n",
      "fun 1906\n",
      "fun 1907\n",
      "fun 1908\n",
      "fun 1909\n",
      "fun 1910\n",
      "fun 1911\n",
      "fun 1912\n",
      "fun 1913\n",
      "fun 1914\n",
      "fun 1915\n",
      "fun 1916\n",
      "fun 1917\n",
      "fun 1918\n",
      "fun 1919\n",
      "fun 1920\n",
      "fun 1921\n",
      "fun 1922\n",
      "fun 1923\n",
      "fun 1924\n",
      "fun 1925\n",
      "fun 1926\n",
      "fun 1927\n",
      "fun 1928\n",
      "fun 1929\n",
      "fun 1930\n",
      "fun 1931\n",
      "fun 1932\n",
      "fun 1933\n",
      "fun 1934\n",
      "fun 1935\n",
      "fun 1936\n",
      "fun 1937\n",
      "fun 1938\n",
      "fun 1939\n",
      "fun 1940\n",
      "fun 1941\n",
      "fun 1942\n",
      "fun 1943\n",
      "fun 1944\n",
      "fun 1945\n",
      "fun 1946\n",
      "fun 1947\n",
      "fun 1948\n",
      "fun 1949\n",
      "fun 1950\n",
      "fun 1951\n",
      "fun 1952\n",
      "fun 1953\n",
      "fun 1954\n",
      "fun 1955\n",
      "fun 1956\n",
      "fun 1957\n",
      "fun 1958\n",
      "fun 1959\n",
      "fun 1960\n",
      "fun 1961\n",
      "fun 1962\n",
      "fun 1963\n",
      "fun 1964\n",
      "fun 1965\n",
      "fun 1966\n",
      "fun 1967\n",
      "fun 1968\n",
      "fun 1969\n",
      "fun 1970\n",
      "fun 1971\n",
      "fun 1972\n",
      "fun 1973\n",
      "fun 1974\n",
      "fun 1975\n",
      "fun 1976\n",
      "fun 1977\n",
      "fun 1978\n",
      "fun 1979\n",
      "fun 1980\n",
      "fun 1981\n",
      "fun 1982\n",
      "fun 1983\n",
      "fun 1984\n",
      "fun 1985\n",
      "fun 1986\n",
      "fun 1987\n",
      "fun 1988\n",
      "fun 1989\n",
      "fun 1990\n",
      "fun 1991\n",
      "fun 1992\n",
      "fun 1993\n",
      "fun 1994\n",
      "fun 1995\n",
      "fun 1996\n",
      "fun 1997\n",
      "fun 1998\n",
      "fun 1999\n",
      "fun 2000\n",
      "fun 2001\n",
      "fun 2002\n",
      "fun 2003\n",
      "fun 2004\n",
      "fun 2005\n",
      "fun 2006\n",
      "fun 2007\n",
      "fun 2008\n",
      "fun 2009\n",
      "fun 2010\n",
      "fun 2011\n",
      "fun 2012\n",
      "fun 2013\n",
      "fun 2014\n",
      "fun 2015\n",
      "fun 2016\n",
      "fun 2017\n",
      "fun 2018\n",
      "fun 2019\n",
      "fun 2020\n",
      "fun 2021\n",
      "fun 2022\n",
      "fun 2023\n",
      "fun 2024\n",
      "fun 2025\n",
      "fun 2026\n",
      "fun 2027\n",
      "fun 2028\n",
      "fun 2029\n",
      "fun 2030\n",
      "fun 2031\n",
      "fun 2032\n",
      "fun 2033\n",
      "fun 2034\n",
      "fun 2035\n",
      "fun 2036\n",
      "fun 2037\n",
      "fun 2038\n",
      "fun 2039\n",
      "fun 2040\n",
      "fun 2041\n",
      "fun 2042\n",
      "fun 2043\n",
      "fun 2044\n",
      "fun 2045\n",
      "fun 2046\n",
      "fun 2047\n",
      "fun 2048\n",
      "fun 2049\n",
      "fun 2050\n",
      "fun 2051\n",
      "fun 2052\n",
      "fun 2053\n",
      "fun 2054\n",
      "fun 2055\n",
      "fun 2056\n",
      "fun 2057\n",
      "fun 2058\n",
      "fun 2059\n",
      "fun 2060\n",
      "fun 2061\n",
      "fun 2062\n",
      "fun 2063\n",
      "fun 2064\n",
      "fun 2065\n",
      "fun 2066\n",
      "fun 2067\n",
      "fun 2068\n",
      "fun 2069\n",
      "fun 2070\n",
      "fun 2071\n",
      "fun 2072\n",
      "fun 2073\n",
      "fun 2074\n",
      "fun 2075\n",
      "fun 2076\n",
      "fun 2077\n",
      "fun 2078\n",
      "fun 2079\n",
      "fun 2080\n",
      "fun 2081\n",
      "fun 2082\n",
      "fun 2083\n",
      "fun 2084\n",
      "fun 2085\n",
      "fun 2086\n",
      "fun 2087\n",
      "fun 2088\n",
      "fun 2089\n",
      "fun 2090\n",
      "fun 2091\n",
      "fun 2092\n",
      "fun 2093\n",
      "fun 2094\n",
      "fun 2095\n",
      "fun 2096\n",
      "fun 2097\n",
      "fun 2098\n",
      "fun 2099\n",
      "fun 2100\n",
      "fun 2101\n",
      "fun 2102\n",
      "fun 2103\n",
      "fun 2104\n",
      "fun 2105\n",
      "fun 2106\n",
      "fun 2107\n",
      "fun 2108\n",
      "fun 2109\n",
      "fun 2110\n",
      "fun 2111\n",
      "fun 2112\n",
      "fun 2113\n",
      "fun 2114\n",
      "fun 2115\n",
      "fun 2116\n",
      "fun 2117\n",
      "fun 2118\n",
      "fun 2119\n",
      "fun 2120\n",
      "fun 2121\n",
      "fun 2122\n",
      "fun 2123\n",
      "fun 2124\n",
      "fun 2125\n",
      "fun 2126\n",
      "fun 2127\n",
      "fun 2128\n",
      "fun 2129\n",
      "fun 2130\n",
      "fun 2131\n",
      "fun 2132\n",
      "fun 2133\n",
      "fun 2134\n",
      "fun 2135\n",
      "fun 2136\n",
      "fun 2137\n",
      "fun 2138\n",
      "fun 2139\n",
      "fun 2140\n",
      "fun 2141\n",
      "fun 2142\n",
      "fun 2143\n",
      "fun 2144\n",
      "fun 2145\n",
      "fun 2146\n",
      "fun 2147\n",
      "fun 2148\n",
      "fun 2149\n",
      "fun 2150\n",
      "fun 2151\n",
      "fun 2152\n",
      "fun 2153\n",
      "fun 2154\n",
      "fun 2155\n",
      "fun 2156\n",
      "fun 2157\n",
      "fun 2158\n",
      "fun 2159\n",
      "fun 2160\n",
      "fun 2161\n",
      "fun 2162\n",
      "fun 2163\n",
      "fun 2164\n",
      "fun 2165\n",
      "fun 2166\n",
      "fun 2167\n",
      "fun 2168\n",
      "fun 2169\n",
      "fun 2170\n",
      "fun 2171\n",
      "fun 2172\n",
      "fun 2173\n",
      "fun 2174\n",
      "fun 2175\n",
      "fun 2176\n",
      "fun 2177\n",
      "fun 2178\n",
      "fun 2179\n",
      "fun 2180\n",
      "fun 2181\n",
      "fun 2182\n",
      "fun 2183\n",
      "fun 2184\n",
      "fun 2185\n",
      "fun 2186\n",
      "fun 2187\n",
      "fun 2188\n",
      "fun 2189\n",
      "fun 2190\n",
      "fun 2191\n",
      "fun 2192\n",
      "fun 2193\n",
      "fun 2194\n",
      "fun 2195\n",
      "fun 2196\n",
      "fun 2197\n",
      "fun 2198\n",
      "fun 2199\n",
      "fun 2200\n",
      "fun 2201\n",
      "fun 2202\n",
      "fun 2203\n",
      "fun 2204\n",
      "fun 2205\n",
      "fun 2206\n",
      "fun 2207\n",
      "fun 2208\n",
      "fun 2209\n",
      "fun 2210\n",
      "fun 2211\n",
      "fun 2212\n",
      "fun 2213\n",
      "fun 2214\n",
      "fun 2215\n",
      "fun 2216\n",
      "fun 2217\n",
      "fun 2218\n",
      "fun 2219\n",
      "fun 2220\n",
      "fun 2221\n",
      "fun 2222\n",
      "fun 2223\n",
      "fun 2224\n",
      "fun 2225\n",
      "fun 2226\n",
      "fun 2227\n",
      "fun 2228\n",
      "fun 2229\n",
      "fun 2230\n",
      "fun 2231\n",
      "fun 2232\n",
      "fun 2233\n",
      "fun 2234\n",
      "fun 2235\n",
      "fun 2236\n",
      "fun 2237\n",
      "fun 2238\n",
      "fun 2239\n",
      "fun 2240\n",
      "fun 2241\n",
      "fun 2242\n",
      "fun 2243\n",
      "fun 2244\n",
      "fun 2245\n",
      "fun 2246\n",
      "fun 2247\n",
      "fun 2248\n",
      "fun 2249\n",
      "fun 2250\n",
      "fun 2251\n",
      "fun 2252\n",
      "fun 2253\n",
      "fun 2254\n",
      "fun 2255\n",
      "fun 2256\n",
      "fun 2257\n",
      "fun 2258\n",
      "fun 2259\n",
      "fun 2260\n",
      "fun 2261\n",
      "fun 2262\n",
      "fun 2263\n",
      "fun 2264\n",
      "fun 2265\n",
      "fun 2266\n",
      "fun 2267\n",
      "fun 2268\n",
      "fun 2269\n",
      "fun 2270\n",
      "fun 2271\n",
      "fun 2272\n",
      "fun 2273\n",
      "fun 2274\n",
      "fun 2275\n",
      "fun 2276\n",
      "fun 2277\n",
      "fun 2278\n",
      "fun 2279\n",
      "fun 2280\n",
      "fun 2281\n",
      "fun 2282\n",
      "fun 2283\n",
      "fun 2284\n",
      "fun 2285\n",
      "fun 2286\n",
      "fun 2287\n",
      "fun 2288\n",
      "fun 2289\n",
      "fun 2290\n",
      "fun 2291\n",
      "fun 2292\n",
      "fun 2293\n",
      "fun 2294\n",
      "fun 2295\n",
      "fun 2296\n",
      "fun 2297\n",
      "fun 2298\n",
      "fun 2299\n",
      "fun 2300\n",
      "fun 2301\n",
      "fun 2302\n",
      "fun 2303\n",
      "fun 2304\n",
      "fun 2305\n",
      "fun 2306\n",
      "fun 2307\n",
      "fun 2308\n",
      "fun 2309\n",
      "fun 2310\n",
      "fun 2311\n",
      "fun 2312\n",
      "fun 2313\n",
      "fun 2314\n",
      "fun 2315\n",
      "fun 2316\n",
      "fun 2317\n",
      "fun 2318\n",
      "fun 2319\n",
      "fun 2320\n",
      "fun 2321\n",
      "fun 2322\n",
      "fun 2323\n",
      "fun 2324\n",
      "fun 2325\n",
      "fun 2326\n",
      "fun 2327\n",
      "fun 2328\n",
      "fun 2329\n",
      "fun 2330\n",
      "fun 2331\n",
      "fun 2332\n",
      "fun 2333\n",
      "fun 2334\n",
      "fun 2335\n",
      "fun 2336\n",
      "fun 2337\n",
      "fun 2338\n",
      "fun 2339\n",
      "fun 2340\n",
      "fun 2341\n",
      "fun 2342\n",
      "fun 2343\n",
      "fun 2344\n",
      "fun 2345\n",
      "fun 2346\n",
      "fun 2347\n",
      "fun 2348\n",
      "fun 2349\n",
      "fun 2350\n",
      "fun 2351\n",
      "fun 2352\n",
      "fun 2353\n",
      "fun 2354\n",
      "fun 2355\n",
      "fun 2356\n",
      "fun 2357\n",
      "fun 2358\n",
      "fun 2359\n",
      "fun 2360\n",
      "fun 2361\n",
      "fun 2362\n",
      "fun 2363\n",
      "fun 2364\n",
      "fun 2365\n",
      "fun 2366\n",
      "fun 2367\n",
      "fun 2368\n",
      "fun 2369\n",
      "fun 2370\n",
      "fun 2371\n",
      "fun 2372\n",
      "fun 2373\n",
      "fun 2374\n",
      "fun 2375\n",
      "fun 2376\n",
      "fun 2377\n",
      "fun 2378\n",
      "fun 2379\n",
      "fun 2380\n",
      "fun 2381\n",
      "fun 2382\n",
      "fun 2383\n",
      "fun 2384\n",
      "fun 2385\n",
      "fun 2386\n",
      "fun 2387\n",
      "fun 2388\n",
      "fun 2389\n",
      "fun 2390\n",
      "fun 2391\n",
      "fun 2392\n",
      "fun 2393\n",
      "fun 2394\n",
      "fun 2395\n",
      "fun 2396\n",
      "fun 2397\n",
      "fun 2398\n",
      "fun 2399\n",
      "fun 2400\n",
      "fun 2401\n",
      "fun 2402\n",
      "fun 2403\n",
      "fun 2404\n",
      "fun 2405\n",
      "fun 2406\n",
      "fun 2407\n",
      "fun 2408\n",
      "fun 2409\n",
      "fun 2410\n",
      "fun 2411\n",
      "fun 2412\n",
      "fun 2413\n",
      "fun 2414\n",
      "fun 2415\n",
      "fun 2416\n",
      "fun 2417\n",
      "fun 2418\n",
      "fun 2419\n",
      "fun 2420\n",
      "fun 2421\n",
      "fun 2422\n",
      "fun 2423\n",
      "fun 2424\n",
      "fun 2425\n",
      "fun 2426\n",
      "fun 2427\n",
      "fun 2428\n",
      "fun 2429\n",
      "fun 2430\n",
      "fun 2431\n",
      "fun 2432\n",
      "fun 2433\n",
      "fun 2434\n",
      "fun 2435\n",
      "fun 2436\n",
      "fun 2437\n",
      "fun 2438\n",
      "fun 2439\n",
      "fun 2440\n",
      "fun 2441\n",
      "fun 2442\n",
      "fun 2443\n",
      "fun 2444\n",
      "fun 2445\n",
      "fun 2446\n",
      "fun 2447\n",
      "fun 2448\n",
      "fun 2449\n",
      "fun 2450\n",
      "fun 2451\n",
      "fun 2452\n",
      "fun 2453\n",
      "fun 2454\n",
      "fun 2455\n",
      "fun 2456\n",
      "fun 2457\n",
      "fun 2458\n",
      "fun 2459\n",
      "fun 2460\n",
      "fun 2461\n",
      "fun 2462\n",
      "fun 2463\n",
      "fun 2464\n",
      "fun 2465\n",
      "fun 2466\n",
      "fun 2467\n",
      "fun 2468\n",
      "fun 2469\n",
      "fun 2470\n",
      "fun 2471\n",
      "fun 2472\n",
      "fun 2473\n",
      "fun 2474\n",
      "fun 2475\n",
      "fun 2476\n",
      "fun 2477\n",
      "fun 2478\n",
      "fun 2479\n",
      "fun 2480\n",
      "fun 2481\n",
      "fun 2482\n",
      "fun 2483\n",
      "fun 2484\n",
      "fun 2485\n",
      "fun 2486\n",
      "fun 2487\n",
      "fun 2488\n",
      "fun 2489\n",
      "fun 2490\n",
      "fun 2491\n",
      "fun 2492\n",
      "fun 2493\n",
      "fun 2494\n",
      "fun 2495\n",
      "fun 2496\n",
      "fun 2497\n",
      "fun 2498\n",
      "fun 2499\n",
      "fun 2500\n",
      "fun 2501\n",
      "fun 2502\n",
      "fun 2503\n",
      "fun 2504\n",
      "fun 2505\n",
      "fun 2506\n",
      "fun 2507\n",
      "fun 2508\n",
      "fun 2509\n",
      "fun 2510\n",
      "fun 2511\n",
      "fun 2512\n",
      "fun 2513\n",
      "fun 2514\n",
      "fun 2515\n",
      "fun 2516\n",
      "fun 2517\n",
      "fun 2518\n",
      "fun 2519\n",
      "fun 2520\n",
      "fun 2521\n",
      "fun 2522\n",
      "fun 2523\n",
      "fun 2524\n",
      "fun 2525\n",
      "fun 2526\n",
      "fun 2527\n",
      "fun 2528\n",
      "fun 2529\n",
      "fun 2530\n",
      "fun 2531\n",
      "fun 2532\n",
      "fun 2533\n",
      "fun 2534\n",
      "fun 2535\n",
      "fun 2536\n",
      "fun 2537\n",
      "fun 2538\n",
      "fun 2539\n",
      "fun 2540\n",
      "fun 2541\n",
      "fun 2542\n",
      "fun 2543\n",
      "fun 2544\n",
      "fun 2545\n",
      "fun 2546\n",
      "fun 2547\n",
      "fun 2548\n",
      "fun 2549\n",
      "fun 2550\n",
      "fun 2551\n",
      "fun 2552\n",
      "fun 2553\n",
      "fun 2554\n",
      "fun 2555\n",
      "fun 2556\n",
      "fun 2557\n",
      "fun 2558\n",
      "fun 2559\n",
      "fun 2560\n",
      "fun 2561\n",
      "fun 2562\n",
      "fun 2563\n",
      "fun 2564\n",
      "fun 2565\n",
      "fun 2566\n",
      "fun 2567\n",
      "fun 2568\n",
      "fun 2569\n",
      "fun 2570\n",
      "fun 2571\n",
      "fun 2572\n",
      "fun 2573\n",
      "fun 2574\n",
      "fun 2575\n",
      "fun 2576\n",
      "fun 2577\n",
      "fun 2578\n",
      "fun 2579\n",
      "fun 2580\n",
      "fun 2581\n",
      "fun 2582\n",
      "fun 2583\n"
     ]
    },
    {
     "name": "stdout",
     "output_type": "stream",
     "text": [
      "fun 2584\n",
      "fun 2585\n",
      "fun 2586\n",
      "fun 2587\n",
      "fun 2588\n",
      "fun 2589\n",
      "fun 2590\n",
      "fun 2591\n",
      "fun 2592\n",
      "fun 2593\n",
      "fun 2594\n",
      "fun 2595\n",
      "fun 2596\n",
      "fun 2597\n",
      "fun 2598\n",
      "fun 2599\n",
      "fun 2600\n",
      "fun 2601\n",
      "fun 2602\n",
      "fun 2603\n",
      "fun 2604\n",
      "fun 2605\n",
      "fun 2606\n",
      "fun 2607\n",
      "fun 2608\n",
      "fun 2609\n",
      "fun 2610\n",
      "fun 2611\n",
      "fun 2612\n",
      "fun 2613\n",
      "fun 2614\n",
      "fun 2615\n",
      "fun 2616\n",
      "fun 2617\n",
      "fun 2618\n",
      "fun 2619\n",
      "fun 2620\n",
      "fun 2621\n",
      "fun 2622\n",
      "fun 2623\n",
      "fun 2624\n",
      "fun 2625\n",
      "fun 2626\n",
      "fun 2627\n",
      "fun 2628\n",
      "fun 2629\n",
      "fun 2630\n",
      "fun 2631\n",
      "fun 2632\n",
      "fun 2633\n",
      "fun 2634\n",
      "fun 2635\n",
      "fun 2636\n",
      "fun 2637\n",
      "fun 2638\n",
      "fun 2639\n",
      "fun 2640\n",
      "fun 2641\n",
      "fun 2642\n",
      "fun 2643\n",
      "fun 2644\n",
      "fun 2645\n",
      "fun 2646\n",
      "fun 2647\n",
      "fun 2648\n",
      "fun 2649\n",
      "fun 2650\n",
      "fun 2651\n",
      "fun 2652\n",
      "fun 2653\n",
      "fun 2654\n",
      "fun 2655\n",
      "fun 2656\n",
      "fun 2657\n",
      "fun 2658\n",
      "fun 2659\n",
      "fun 2660\n",
      "fun 2661\n",
      "fun 2662\n",
      "fun 2663\n",
      "fun 2664\n",
      "fun 2665\n",
      "fun 2666\n",
      "fun 2667\n",
      "fun 2668\n",
      "fun 2669\n",
      "fun 2670\n",
      "fun 2671\n",
      "fun 2672\n",
      "fun 2673\n",
      "fun 2674\n",
      "fun 2675\n",
      "fun 2676\n",
      "fun 2677\n",
      "fun 2678\n",
      "fun 2679\n",
      "fun 2680\n",
      "fun 2681\n",
      "fun 2682\n",
      "fun 2683\n",
      "fun 2684\n",
      "fun 2685\n",
      "fun 2686\n",
      "fun 2687\n",
      "fun 2688\n",
      "fun 2689\n",
      "fun 2690\n",
      "fun 2691\n",
      "fun 2692\n",
      "fun 2693\n",
      "fun 2694\n",
      "fun 2695\n",
      "fun 2696\n",
      "fun 2697\n",
      "fun 2698\n",
      "fun 2699\n",
      "fun 2700\n",
      "fun 2701\n",
      "fun 2702\n",
      "fun 2703\n",
      "fun 2704\n",
      "fun 2705\n",
      "fun 2706\n",
      "fun 2707\n",
      "fun 2708\n",
      "fun 2709\n",
      "fun 2710\n",
      "fun 2711\n",
      "fun 2712\n",
      "fun 2713\n",
      "fun 2714\n",
      "fun 2715\n",
      "fun 2716\n",
      "fun 2717\n",
      "fun 2718\n",
      "fun 2719\n",
      "fun 2720\n",
      "fun 2721\n",
      "fun 2722\n",
      "fun 2723\n",
      "fun 2724\n",
      "fun 2725\n",
      "fun 2726\n",
      "fun 2727\n",
      "fun 2728\n",
      "fun 2729\n",
      "fun 2730\n",
      "fun 2731\n",
      "fun 2732\n",
      "fun 2733\n",
      "fun 2734\n",
      "fun 2735\n",
      "fun 2736\n",
      "fun 2737\n",
      "fun 2738\n",
      "fun 2739\n",
      "fun 2740\n",
      "fun 2741\n",
      "fun 2742\n",
      "fun 2743\n",
      "fun 2744\n",
      "fun 2745\n",
      "fun 2746\n",
      "fun 2747\n",
      "fun 2748\n",
      "fun 2749\n",
      "fun 2750\n",
      "fun 2751\n",
      "fun 2752\n",
      "fun 2753\n",
      "fun 2754\n",
      "fun 2755\n",
      "fun 2756\n",
      "fun 2757\n",
      "fun 2758\n",
      "fun 2759\n",
      "fun 2760\n",
      "fun 2761\n",
      "fun 2762\n",
      "fun 2763\n",
      "fun 2764\n",
      "fun 2765\n",
      "fun 2766\n",
      "fun 2767\n",
      "fun 2768\n",
      "fun 2769\n",
      "fun 2770\n",
      "fun 2771\n",
      "fun 2772\n",
      "fun 2773\n",
      "fun 2774\n",
      "fun 2775\n",
      "fun 2776\n",
      "fun 2777\n",
      "fun 2778\n",
      "fun 2779\n",
      "fun 2780\n",
      "fun 2781\n",
      "fun 2782\n",
      "fun 2783\n",
      "fun 2784\n",
      "fun 2785\n",
      "fun 2786\n",
      "fun 2787\n",
      "fun 2788\n",
      "fun 2789\n",
      "fun 2790\n",
      "fun 2791\n",
      "fun 2792\n",
      "fun 2793\n",
      "fun 2794\n",
      "fun 2795\n",
      "fun 2796\n",
      "fun 2797\n",
      "fun 2798\n",
      "fun 2799\n",
      "fun 2800\n",
      "fun 2801\n",
      "fun 2802\n",
      "fun 2803\n",
      "fun 2804\n",
      "fun 2805\n",
      "fun 2806\n",
      "fun 2807\n",
      "fun 2808\n",
      "fun 2809\n",
      "fun 2810\n",
      "fun 2811\n",
      "fun 2812\n",
      "fun 2813\n",
      "fun 2814\n",
      "fun 2815\n",
      "fun 2816\n",
      "fun 2817\n",
      "fun 2818\n",
      "fun 2819\n",
      "fun 2820\n",
      "fun 2821\n",
      "fun 2822\n",
      "fun 2823\n",
      "fun 2824\n",
      "fun 2825\n",
      "fun 2826\n",
      "fun 2827\n",
      "fun 2828\n",
      "fun 2829\n",
      "fun 2830\n",
      "fun 2831\n",
      "fun 2832\n",
      "fun 2833\n",
      "fun 2834\n",
      "fun 2835\n",
      "fun 2836\n",
      "fun 2837\n",
      "fun 2838\n",
      "fun 2839\n",
      "fun 2840\n",
      "fun 2841\n",
      "fun 2842\n",
      "fun 2843\n",
      "fun 2844\n",
      "fun 2845\n",
      "fun 2846\n",
      "fun 2847\n",
      "fun 2848\n",
      "fun 2849\n",
      "fun 2850\n",
      "fun 2851\n",
      "fun 2852\n",
      "fun 2853\n",
      "fun 2854\n",
      "fun 2855\n",
      "fun 2856\n",
      "fun 2857\n",
      "fun 2858\n",
      "fun 2859\n",
      "fun 2860\n",
      "fun 2861\n",
      "fun 2862\n",
      "fun 2863\n",
      "fun 2864\n",
      "fun 2865\n",
      "fun 2866\n",
      "fun 2867\n",
      "fun 2868\n",
      "fun 2869\n",
      "fun 2870\n",
      "fun 2871\n",
      "fun 2872\n",
      "fun 2873\n",
      "fun 2874\n",
      "fun 2875\n",
      "fun 2876\n",
      "fun 2877\n",
      "fun 2878\n",
      "fun 2879\n",
      "fun 2880\n",
      "fun 2881\n",
      "fun 2882\n",
      "fun 2883\n",
      "fun 2884\n",
      "fun 2885\n",
      "fun 2886\n",
      "fun 2887\n",
      "fun 2888\n",
      "fun 2889\n",
      "fun 2890\n",
      "fun 2891\n",
      "fun 2892\n",
      "fun 2893\n",
      "fun 2894\n",
      "fun 2895\n",
      "fun 2896\n",
      "fun 2897\n",
      "fun 2898\n",
      "fun 2899\n",
      "fun 2900\n",
      "fun 2901\n",
      "fun 2902\n",
      "fun 2903\n",
      "fun 2904\n",
      "fun 2905\n",
      "fun 2906\n",
      "fun 2907\n",
      "fun 2908\n",
      "fun 2909\n",
      "fun 2910\n",
      "fun 2911\n",
      "fun 2912\n",
      "fun 2913\n",
      "fun 2914\n",
      "fun 2915\n",
      "fun 2916\n",
      "fun 2917\n",
      "fun 2918\n",
      "fun 2919\n",
      "fun 2920\n",
      "fun 2921\n",
      "fun 2922\n",
      "fun 2923\n",
      "fun 2924\n",
      "fun 2925\n",
      "fun 2926\n",
      "fun 2927\n",
      "fun 2928\n",
      "fun 2929\n",
      "fun 2930\n",
      "fun 2931\n",
      "fun 2932\n",
      "fun 2933\n",
      "fun 2934\n",
      "fun 2935\n",
      "fun 2936\n",
      "fun 2937\n",
      "fun 2938\n",
      "fun 2939\n",
      "fun 2940\n",
      "fun 2941\n",
      "fun 2942\n",
      "fun 2943\n",
      "fun 2944\n",
      "fun 2945\n",
      "fun 2946\n",
      "fun 2947\n",
      "fun 2948\n",
      "fun 2949\n",
      "fun 2950\n",
      "fun 2951\n",
      "fun 2952\n",
      "fun 2953\n",
      "fun 2954\n"
     ]
    },
    {
     "ename": "RecursionError",
     "evalue": "maximum recursion depth exceeded while calling a Python object",
     "output_type": "error",
     "traceback": [
      "\u001b[1;31m---------------------------------------------------------------------------\u001b[0m",
      "\u001b[1;31mRecursionError\u001b[0m                            Traceback (most recent call last)",
      "\u001b[1;32m<ipython-input-43-f4b7d6f428d1>\u001b[0m in \u001b[0;36m<module>\u001b[1;34m\u001b[0m\n\u001b[0;32m      6\u001b[0m     \u001b[0mprint\u001b[0m\u001b[1;33m(\u001b[0m\u001b[1;34m\"fun\"\u001b[0m\u001b[1;33m,\u001b[0m\u001b[0mi\u001b[0m\u001b[1;33m)\u001b[0m\u001b[1;33m\u001b[0m\u001b[1;33m\u001b[0m\u001b[0m\n\u001b[0;32m      7\u001b[0m     \u001b[0mfun\u001b[0m\u001b[1;33m(\u001b[0m\u001b[1;33m)\u001b[0m\u001b[1;33m\u001b[0m\u001b[1;33m\u001b[0m\u001b[0m\n\u001b[1;32m----> 8\u001b[1;33m \u001b[0mfun\u001b[0m\u001b[1;33m(\u001b[0m\u001b[1;33m)\u001b[0m\u001b[1;33m\u001b[0m\u001b[1;33m\u001b[0m\u001b[0m\n\u001b[0m",
      "\u001b[1;32m<ipython-input-43-f4b7d6f428d1>\u001b[0m in \u001b[0;36mfun\u001b[1;34m()\u001b[0m\n\u001b[0;32m      5\u001b[0m     \u001b[0mi\u001b[0m\u001b[1;33m=\u001b[0m\u001b[0mi\u001b[0m\u001b[1;33m+\u001b[0m\u001b[1;36m1\u001b[0m\u001b[1;33m\u001b[0m\u001b[1;33m\u001b[0m\u001b[0m\n\u001b[0;32m      6\u001b[0m     \u001b[0mprint\u001b[0m\u001b[1;33m(\u001b[0m\u001b[1;34m\"fun\"\u001b[0m\u001b[1;33m,\u001b[0m\u001b[0mi\u001b[0m\u001b[1;33m)\u001b[0m\u001b[1;33m\u001b[0m\u001b[1;33m\u001b[0m\u001b[0m\n\u001b[1;32m----> 7\u001b[1;33m     \u001b[0mfun\u001b[0m\u001b[1;33m(\u001b[0m\u001b[1;33m)\u001b[0m\u001b[1;33m\u001b[0m\u001b[1;33m\u001b[0m\u001b[0m\n\u001b[0m\u001b[0;32m      8\u001b[0m \u001b[0mfun\u001b[0m\u001b[1;33m(\u001b[0m\u001b[1;33m)\u001b[0m\u001b[1;33m\u001b[0m\u001b[1;33m\u001b[0m\u001b[0m\n",
      "... last 1 frames repeated, from the frame below ...\n",
      "\u001b[1;32m<ipython-input-43-f4b7d6f428d1>\u001b[0m in \u001b[0;36mfun\u001b[1;34m()\u001b[0m\n\u001b[0;32m      5\u001b[0m     \u001b[0mi\u001b[0m\u001b[1;33m=\u001b[0m\u001b[0mi\u001b[0m\u001b[1;33m+\u001b[0m\u001b[1;36m1\u001b[0m\u001b[1;33m\u001b[0m\u001b[1;33m\u001b[0m\u001b[0m\n\u001b[0;32m      6\u001b[0m     \u001b[0mprint\u001b[0m\u001b[1;33m(\u001b[0m\u001b[1;34m\"fun\"\u001b[0m\u001b[1;33m,\u001b[0m\u001b[0mi\u001b[0m\u001b[1;33m)\u001b[0m\u001b[1;33m\u001b[0m\u001b[1;33m\u001b[0m\u001b[0m\n\u001b[1;32m----> 7\u001b[1;33m     \u001b[0mfun\u001b[0m\u001b[1;33m(\u001b[0m\u001b[1;33m)\u001b[0m\u001b[1;33m\u001b[0m\u001b[1;33m\u001b[0m\u001b[0m\n\u001b[0m\u001b[0;32m      8\u001b[0m \u001b[0mfun\u001b[0m\u001b[1;33m(\u001b[0m\u001b[1;33m)\u001b[0m\u001b[1;33m\u001b[0m\u001b[1;33m\u001b[0m\u001b[0m\n",
      "\u001b[1;31mRecursionError\u001b[0m: maximum recursion depth exceeded while calling a Python object"
     ]
    }
   ],
   "source": [
    "#recursion\n",
    "i=0\n",
    "def fun():\n",
    "    global i\n",
    "    i=i+1\n",
    "    print(\"fun\",i)\n",
    "    fun()\n",
    "fun()    \n"
   ]
  },
  {
   "cell_type": "code",
   "execution_count": 54,
   "metadata": {},
   "outputs": [
    {
     "name": "stdout",
     "output_type": "stream",
     "text": [
      "set()\n"
     ]
    }
   ],
   "source": [
    "#set\n",
    "#empty set\n",
    "a=set()\n",
    "print(a)"
   ]
  },
  {
   "cell_type": "code",
   "execution_count": 55,
   "metadata": {},
   "outputs": [
    {
     "name": "stdout",
     "output_type": "stream",
     "text": [
      "{'rahul', 'rani'}\n",
      "{'raj', 'java', 'python', 'sonam', 'sumit', 'rahul', 'rani'}\n",
      "{'sonam', 'raj'}\n",
      "False\n"
     ]
    }
   ],
   "source": [
    "a={'rahul','rani','raj','sonam',}\n",
    "b={'sumit','rahul','rani','python','java',}\n",
    "ism=a.intersection(b)\n",
    "print(ism)\n",
    "i=a.union(b)\n",
    "print(i)\n",
    "i=a.difference(b)\n",
    "print(i)\n",
    "i=a.issubset(b)\n",
    "print(i)"
   ]
  },
  {
   "cell_type": "code",
   "execution_count": 53,
   "metadata": {},
   "outputs": [
    {
     "name": "stdout",
     "output_type": "stream",
     "text": [
      "{'java'}\n"
     ]
    }
   ],
   "source": [
    "a=set()\n",
    "a.add('java')\n",
    "print(a)"
   ]
  },
  {
   "cell_type": "code",
   "execution_count": 56,
   "metadata": {},
   "outputs": [
    {
     "name": "stdout",
     "output_type": "stream",
     "text": [
      "{1, 3, 4, 5}\n"
     ]
    }
   ],
   "source": [
    "a=set()\n",
    "a.update([1,3,4,5])\n",
    "print(a)"
   ]
  },
  {
   "cell_type": "code",
   "execution_count": 60,
   "metadata": {},
   "outputs": [
    {
     "name": "stdout",
     "output_type": "stream",
     "text": [
      "10\n",
      "20\n",
      "40\n",
      "raj\n"
     ]
    }
   ],
   "source": [
    "#list accessing list using for loop\n",
    "a=[10,20,40,'raj']\n",
    "for elemnt in a:\n",
    "    print(a[i])\n",
    "    i=i+1"
   ]
  },
  {
   "cell_type": "code",
   "execution_count": 59,
   "metadata": {},
   "outputs": [
    {
     "name": "stdout",
     "output_type": "stream",
     "text": [
      "0 10\n",
      "1 20\n",
      "2 40\n",
      "3 raj\n"
     ]
    }
   ],
   "source": [
    "a=[10,20,40,'raj']\n",
    "n=len(a)\n",
    "for elemnt in range(n):\n",
    "    print(elemnt,a[elemnt])"
   ]
  },
  {
   "cell_type": "code",
   "execution_count": 61,
   "metadata": {},
   "outputs": [
    {
     "name": "stdout",
     "output_type": "stream",
     "text": [
      "10\n",
      "20\n",
      "40\n",
      "raj\n"
     ]
    }
   ],
   "source": [
    "#accessing list using while loop\n",
    "a=[10,20,40,'raj']\n",
    "n=len(a)\n",
    "i=0\n",
    "while i<n:\n",
    "    print(a[i])\n",
    "    i=i+1"
   ]
  },
  {
   "cell_type": "code",
   "execution_count": 1,
   "metadata": {},
   "outputs": [
    {
     "name": "stdout",
     "output_type": "stream",
     "text": [
      "enter no.s5\n",
      "enter elements4\n",
      "enter elements5\n",
      "enter elements7\n",
      "enter elements8\n",
      "enter elements9\n",
      "list\n",
      "4\n",
      "5\n",
      "7\n",
      "8\n",
      "9\n"
     ]
    }
   ],
   "source": [
    "#user input for list in python\n",
    "a=[]\n",
    "n=int(input(\"enter no.s\"))\n",
    "for i in range(n):\n",
    "    a.append(int(input(\"enter elements\")))\n",
    "print(\"list\")\n",
    "for i in a:\n",
    "    print(i)"
   ]
  },
  {
   "cell_type": "code",
   "execution_count": 2,
   "metadata": {},
   "outputs": [
    {
     "name": "stdout",
     "output_type": "stream",
     "text": [
      "enter elements3\n",
      "76\n",
      "98\n",
      "90\n",
      "list\n",
      "76\n",
      "98\n",
      "90\n"
     ]
    }
   ],
   "source": [
    "a=[]\n",
    "n=int(input(\"enter elements\"))\n",
    "for i in range(n):\n",
    "    d=int(input())\n",
    "    a.append(d)\n",
    "print(\"list\")\n",
    "for i in a:\n",
    "    print(i)"
   ]
  },
  {
   "cell_type": "code",
   "execution_count": 4,
   "metadata": {},
   "outputs": [
    {
     "name": "stdout",
     "output_type": "stream",
     "text": [
      "20\n",
      "10\n",
      "10\n"
     ]
    }
   ],
   "source": [
    "#global variable\n",
    "a=10\n",
    "def show():\n",
    "    x=20\n",
    "    print(x)\n",
    "    print(a)\n",
    "show()\n",
    "print(a)"
   ]
  },
  {
   "cell_type": "code",
   "execution_count": 5,
   "metadata": {},
   "outputs": [
    {
     "name": "stdout",
     "output_type": "stream",
     "text": [
      "1\n",
      "1\n"
     ]
    }
   ],
   "source": [
    "#global keyword\n",
    "i=0\n",
    "def show():\n",
    "    global i\n",
    "    i=i+1\n",
    "    print(i)\n",
    "show()\n",
    "print(i)\n"
   ]
  },
  {
   "cell_type": "code",
   "execution_count": 6,
   "metadata": {},
   "outputs": [
    {
     "name": "stdout",
     "output_type": "stream",
     "text": [
      "A 50\n",
      "X 10\n",
      "A 10\n"
     ]
    }
   ],
   "source": [
    "#global function\n",
    "a=10\n",
    "def show():\n",
    "    a=50\n",
    "    print(\"A\",a)\n",
    "    x=globals()['a']\n",
    "    print(\"X\",x)\n",
    "show()\n",
    "print(\"A\",a)"
   ]
  },
  {
   "cell_type": "code",
   "execution_count": 8,
   "metadata": {},
   "outputs": [
    {
     "name": "stdout",
     "output_type": "stream",
     "text": [
      "10\n",
      "20\n",
      "raj\n",
      "suji\n",
      "30\n",
      "40\n"
     ]
    }
   ],
   "source": [
    "#insert()\n",
    "a=[10,20,'raj',30,40]\n",
    "a.insert(3,'suji')\n",
    "for i in a:\n",
    "    print(i)"
   ]
  },
  {
   "cell_type": "code",
   "execution_count": 9,
   "metadata": {},
   "outputs": [
    {
     "name": "stdout",
     "output_type": "stream",
     "text": [
      "[10, 20, 'raj', 30]\n"
     ]
    }
   ],
   "source": [
    "#pop()\n",
    "a=[10,20,'raj',30,40]\n",
    "a.pop()\n",
    "print(a)"
   ]
  },
  {
   "cell_type": "code",
   "execution_count": 10,
   "metadata": {},
   "outputs": [
    {
     "name": "stdout",
     "output_type": "stream",
     "text": [
      "10\n",
      "20\n",
      "30\n",
      "40\n",
      "removed element raj\n"
     ]
    }
   ],
   "source": [
    "#pop(n)\n",
    "a=[10,20,'raj',30,40]\n",
    "n=a.pop(2)\n",
    "for i in a:\n",
    "    print(i)\n",
    "print(\"removed element\",n)"
   ]
  },
  {
   "cell_type": "code",
   "execution_count": 11,
   "metadata": {},
   "outputs": [
    {
     "name": "stdout",
     "output_type": "stream",
     "text": [
      "20\n",
      "raj\n",
      "10\n",
      "40\n"
     ]
    }
   ],
   "source": [
    "#remove()\n",
    "a=[10,20,'raj',10,40]\n",
    "a.remove(10)\n",
    "for i in a:\n",
    "    print(i)"
   ]
  },
  {
   "cell_type": "code",
   "execution_count": 12,
   "metadata": {},
   "outputs": [
    {
     "name": "stdout",
     "output_type": "stream",
     "text": [
      "1\n"
     ]
    }
   ],
   "source": [
    "#index()\n",
    "a=[10,20,'raj',30,40]\n",
    "n=a.index(20)\n",
    "print(n)    "
   ]
  },
  {
   "cell_type": "code",
   "execution_count": 13,
   "metadata": {},
   "outputs": [
    {
     "name": "stdout",
     "output_type": "stream",
     "text": [
      "40\n",
      "30\n",
      "raj\n",
      "20\n",
      "10\n"
     ]
    }
   ],
   "source": [
    "#reverse\n",
    "a=[10,20,'raj',30,40]\n",
    "a.reverse()\n",
    "for i in a:\n",
    "    print(i)"
   ]
  },
  {
   "cell_type": "code",
   "execution_count": 16,
   "metadata": {},
   "outputs": [
    {
     "name": "stdout",
     "output_type": "stream",
     "text": [
      "[10, 20, 'raj', 30, 40, 70, 80, 90]\n",
      "10\n",
      "20\n",
      "raj\n",
      "30\n",
      "40\n",
      "70\n",
      "80\n",
      "90\n"
     ]
    }
   ],
   "source": [
    "#extend\n",
    "a=[10,20,'raj',30,40]\n",
    "b=[70,80,90]\n",
    "\n",
    "a.extend(b)\n",
    "print(a)\n",
    "for i in a:\n",
    "    print(i)"
   ]
  },
  {
   "cell_type": "code",
   "execution_count": 18,
   "metadata": {},
   "outputs": [
    {
     "name": "stdout",
     "output_type": "stream",
     "text": [
      "2\n"
     ]
    }
   ],
   "source": [
    "#count()\n",
    "a=[10,20,30,10,30]\n",
    "n=a.count(10)\n",
    "print(n)"
   ]
  },
  {
   "cell_type": "code",
   "execution_count": 19,
   "metadata": {},
   "outputs": [
    {
     "name": "stdout",
     "output_type": "stream",
     "text": [
      "[3, 8, 10, 20, 50]\n"
     ]
    }
   ],
   "source": [
    "#sort()\n",
    "a=[20,10,50,3,8,]\n",
    "a.sort()\n",
    "print(a)"
   ]
  },
  {
   "cell_type": "code",
   "execution_count": 20,
   "metadata": {},
   "outputs": [
    {
     "name": "stdout",
     "output_type": "stream",
     "text": [
      "[]\n"
     ]
    }
   ],
   "source": [
    "#clear()\n",
    "a=[10,20,30,10,30]\n",
    "a.clear()\n",
    "print(a)"
   ]
  },
  {
   "cell_type": "code",
   "execution_count": 32,
   "metadata": {},
   "outputs": [
    {
     "name": "stdout",
     "output_type": "stream",
     "text": [
      "0 = 10\n",
      "1 = 20\n",
      "2 = 30\n",
      "3 = 40\n",
      "4 = 50\n",
      "\n",
      "20\n",
      "30\n",
      "40\n",
      "50\n",
      "\n",
      "10\n",
      "20\n",
      "30\n",
      "40\n",
      "50\n",
      "\n",
      "[20, 30, 40, 50]\n",
      "[10, 30, 50]\n",
      "[10, 40]\n",
      "[10, 20]\n"
     ]
    }
   ],
   "source": [
    "#slicing on the list\n",
    "a=[10,20,30,40,50]\n",
    "n=len(a)\n",
    "for i in range(n):\n",
    "    print(i,\"=\",a[i])\n",
    "print()\n",
    "x=a[1:5]\n",
    "for i in x:\n",
    "    print(i)\n",
    "print()\n",
    "b=a[0:]\n",
    "for i in b:\n",
    "    print(i)\n",
    "c=a[:5]\n",
    "print()\n",
    "d=a[-4:]\n",
    "print(d)\n",
    "e=a[0:5:2]\n",
    "print(e)\n",
    "f=a[0:5:3]\n",
    "print(f)\n",
    "g=a[-5:-3]\n",
    "print(g)"
   ]
  },
  {
   "cell_type": "code",
   "execution_count": 33,
   "metadata": {},
   "outputs": [
    {
     "name": "stdout",
     "output_type": "stream",
     "text": [
      "[1, 2, 3, 4, 5, 6, 7, 8]\n"
     ]
    }
   ],
   "source": [
    "#list concatenation\n",
    "a=[1,2,3,4]\n",
    "b=[5,6,7,8]\n",
    "r=a+b\n",
    "print(r)\n"
   ]
  },
  {
   "cell_type": "code",
   "execution_count": 34,
   "metadata": {},
   "outputs": [
    {
     "name": "stdout",
     "output_type": "stream",
     "text": [
      "[2, 3, 4, 2, 3, 4, 2, 3, 4]\n"
     ]
    }
   ],
   "source": [
    "#repetation of list\n",
    "a=[2,3,4]\n",
    "r=a*3\n",
    "print(r)"
   ]
  },
  {
   "cell_type": "code",
   "execution_count": 3,
   "metadata": {},
   "outputs": [
    {
     "name": "stdout",
     "output_type": "stream",
     "text": [
      "[1, 2, 3, 4]\n"
     ]
    }
   ],
   "source": [
    "#aliasing list\n",
    "a=[1,2,3,4]\n",
    "b=a\n",
    "print(b)"
   ]
  },
  {
   "cell_type": "code",
   "execution_count": 6,
   "metadata": {},
   "outputs": [
    {
     "name": "stdout",
     "output_type": "stream",
     "text": [
      "A [10, 20, 30, 40]\n",
      "B [10, 20, 30, 40]\n",
      "\n",
      "modification of A\n",
      "A [10, 55, 30, 40]\n",
      "B [10, 20, 30, 40]\n",
      "A [10, 20, 30, 40]\n",
      "B [10, 20, 30, 40]\n",
      "\n",
      "modification of A\n",
      "A [10, 20, 60, 40]\n",
      "B [10, 20, 30, 40]\n"
     ]
    }
   ],
   "source": [
    "#copy and cloning list\n",
    "a=[10,20,30,40]\n",
    "b=a.copy()\n",
    "print(\"A\",a)\n",
    "print(\"B\",b)\n",
    "print()\n",
    "print(\"modification of A\")\n",
    "a[1]=55\n",
    "print(\"A\",a)\n",
    "print(\"B\",b)\n",
    "a=[10,20,30,40]\n",
    "b=a[:]\n",
    "print(\"A\",a)\n",
    "print(\"B\",b)\n",
    "print()\n",
    "print(\"modification of A\")\n",
    "a[2]=60\n",
    "print(\"A\",a)\n",
    "print(\"B\",b)\n"
   ]
  },
  {
   "cell_type": "code",
   "execution_count": null,
   "metadata": {},
   "outputs": [],
   "source": []
  },
  {
   "cell_type": "code",
   "execution_count": 9,
   "metadata": {},
   "outputs": [
    {
     "name": "stdout",
     "output_type": "stream",
     "text": [
      "10\n",
      "50\n",
      "[4, 20, 30, [50, 57]]\n"
     ]
    }
   ],
   "source": [
    "#nested list in python accessing and modifying list\n",
    "a=[10,20,30,[50,60]]\n",
    "print(a[0])\n",
    "print(a[3][0])\n",
    "a[0]=4\n",
    "a[3][1]=57\n",
    "print(a)\n"
   ]
  },
  {
   "cell_type": "code",
   "execution_count": 10,
   "metadata": {},
   "outputs": [
    {
     "name": "stdout",
     "output_type": "stream",
     "text": [
      "0 10\n",
      "1 20\n",
      "2 30\n",
      "3 40\n",
      "4 0 50\n",
      "4 1 60\n"
     ]
    }
   ],
   "source": [
    "#accessing nested list using for loop\n",
    "a=[10,20,30,40,[50,60]]\n",
    "n=len(a)\n",
    "for i in range(n):\n",
    "    if type(a[i]) is list:\n",
    "        if len(a[i])>1:\n",
    "            m=len(a[i])\n",
    "            for j in range(m):\n",
    "                print(i,j,a[i][j])\n",
    "    else:\n",
    "        print(i,a[i])"
   ]
  },
  {
   "cell_type": "code",
   "execution_count": 18,
   "metadata": {},
   "outputs": [
    {
     "name": "stdout",
     "output_type": "stream",
     "text": [
      "0 10\n",
      "1 20\n",
      "2 30\n",
      "3 40\n",
      "4 0 50\n",
      "4 1 60\n"
     ]
    }
   ],
   "source": [
    "#accessing nested list using while loop\n",
    "a=[10,20,30,40,[50,60]]\n",
    "n=len(a)\n",
    "i=0\n",
    "while i<n:\n",
    "    if type (a[i]) is list:\n",
    "        if len(a[i])>1:\n",
    "            m=len(a[i])\n",
    "            j=0\n",
    "            while j<m:\n",
    "                print(i,j,a[i][j])\n",
    "                j=j+1\n",
    "            i=i+1\n",
    "    else:\n",
    "        print(i,a[i])\n",
    "        i=i+1\n"
   ]
  },
  {
   "cell_type": "code",
   "execution_count": 19,
   "metadata": {},
   "outputs": [
    {
     "name": "stdout",
     "output_type": "stream",
     "text": [
      "[10, 20, 30, 40, [50, 60]]\n",
      "<class 'list'>\n"
     ]
    }
   ],
   "source": [
    "#passing list to function\n",
    "def show(l):\n",
    "    print(l)\n",
    "    print(type(l))\n",
    "a=[10,20,30,40,[50,60]]\n",
    "show(a)"
   ]
  },
  {
   "cell_type": "code",
   "execution_count": 21,
   "metadata": {},
   "outputs": [
    {
     "name": "stdout",
     "output_type": "stream",
     "text": [
      "<class 'list'>\n",
      "10\n",
      "20\n",
      "30\n",
      "40\n",
      "[50, 60]\n",
      "<class 'list'>\n",
      "[10, 20, 30, 40, [50, 60]]\n"
     ]
    }
   ],
   "source": [
    "#returning list from function\n",
    "def show(l):\n",
    "    print(type(l))\n",
    "    for i in l:\n",
    "        print(i)\n",
    "    return l\n",
    "a=[10,20,30,40,[50,60]]\n",
    "nl=show(a)\n",
    "print(type(nl))\n",
    "print(nl)"
   ]
  },
  {
   "cell_type": "code",
   "execution_count": 24,
   "metadata": {},
   "outputs": [
    {
     "name": "stdout",
     "output_type": "stream",
     "text": [
      "<class 'list'>\n",
      "[0, 1, 2, 3, 4, 5]\n"
     ]
    }
   ],
   "source": [
    "#list function\n",
    "a=list(range(0,6))\n",
    "print(type(a))\n",
    "print(a)"
   ]
  },
  {
   "cell_type": "code",
   "execution_count": 45,
   "metadata": {},
   "outputs": [
    {
     "name": "stdout",
     "output_type": "stream",
     "text": [
      "[[4, 5, 6], [7, 8, 9], [10, 11, 12]]\n",
      "\n",
      "[[1, 2, 3], [4, 5, 6], [7, 8, 9], [10, 11, 12]]\n",
      "\n",
      "[[1, 2, 3], [4, 5, 6], [7, 8, 9]]\n",
      "\n",
      "[[1, 2, 3], [7, 8, 9]]\n",
      "\n",
      "[[1, 2, 3], [4, 5, 6]]\n",
      "[[7, 8, 9]]\n",
      "[7, 8, 9]\n",
      "7\n",
      "8\n",
      "7\n",
      "8\n",
      "9\n",
      "[[4, 5, 6], [7, 8, 9], [10, 11, 12]]\n",
      "[7, 8, 9]\n",
      "7\n",
      "8\n",
      "9\n",
      "[[1, 2, 3], [4, 5, 6], [7, 8, 9], [10, 11, 12]]\n",
      "4\n",
      "5\n",
      "6\n"
     ]
    }
   ],
   "source": [
    "#slicing nested list\n",
    "x=[[1,2,3],[4,5,6],[7,8,9],[10,11,12]]\n",
    "a=x[1:4]\n",
    "print(a)\n",
    "print()\n",
    "b=x[0:]\n",
    "print(b)\n",
    "print()\n",
    "c=x[:3]\n",
    "print(c)\n",
    "print()\n",
    "d=x[0:3:2]\n",
    "print(d)\n",
    "print()\n",
    "e=x[-4:-2]\n",
    "print(e)\n",
    "m=x[2:3]\n",
    "print(m)\n",
    "h=x[2:3][0]\n",
    "print(h)\n",
    "h=x[2:3][0][0]\n",
    "print(h)\n",
    "h=x[2:3][0][1]\n",
    "print(h)\n",
    "i=x[2:3][0]\n",
    "for e in i:\n",
    "    print(e)\n",
    "j=x[-3:]\n",
    "print(j)\n",
    "k=x[-3:][1]\n",
    "print(k)\n",
    "l=x[-3:][1]\n",
    "for e in l:\n",
    "    print(e)\n",
    "f=x[-4:]\n",
    "print(f)\n",
    "n=x[-4:][1]\n",
    "for i in n:\n",
    "    print(i)"
   ]
  },
  {
   "cell_type": "code",
   "execution_count": 48,
   "metadata": {},
   "outputs": [
    {
     "name": "stdout",
     "output_type": "stream",
     "text": [
      "<class 'tuple'>\n",
      "(10,)\n",
      "10\n",
      "20\n",
      "10\n",
      "40\n"
     ]
    }
   ],
   "source": [
    "#tuple\n",
    "a=(10,)\n",
    "print(type(a))\n",
    "print(a)\n",
    "b=(10,20,30,40)\n",
    "print(b[0])\n",
    "print(b[1])\n",
    "print(b[-4])\n",
    "print(b[-1])\n"
   ]
  },
  {
   "cell_type": "code",
   "execution_count": 50,
   "metadata": {},
   "outputs": [
    {
     "name": "stdout",
     "output_type": "stream",
     "text": [
      "10\n",
      "20\n",
      "30\n",
      "40\n",
      "10\n",
      "20\n",
      "30\n",
      "40\n"
     ]
    }
   ],
   "source": [
    "#accessing tuple using for loop\n",
    "a=(10,20,30,40)\n",
    "for i in a:\n",
    "    print(i)\n",
    "#with index\n",
    "n=len(a)\n",
    "for i in range(n):\n",
    "    print(a[i])\n"
   ]
  },
  {
   "cell_type": "code",
   "execution_count": 51,
   "metadata": {},
   "outputs": [
    {
     "name": "stdout",
     "output_type": "stream",
     "text": [
      "10\n",
      "20\n",
      "30\n",
      "40\n"
     ]
    }
   ],
   "source": [
    "#accessing tuple using while loop\n",
    "a=(10,20,30,40)\n",
    "i=0\n",
    "n=len(a)\n",
    "while i<n:\n",
    "    print(a[i])\n",
    "    i=i+1"
   ]
  },
  {
   "cell_type": "code",
   "execution_count": 55,
   "metadata": {},
   "outputs": [
    {
     "name": "stdout",
     "output_type": "stream",
     "text": [
      "(10, 20)\n",
      "(50, 60)\n",
      "(10, 20, 30, 40, 50, 60)\n"
     ]
    }
   ],
   "source": [
    "#modifying tuple element\n",
    "a=(10,20,50,60)\n",
    "b=a[0:2]\n",
    "print(b)\n",
    "d=a[2:4]\n",
    "print(d)\n",
    "c=(30,40)\n",
    "e=b+c+d\n",
    "print(e)"
   ]
  },
  {
   "cell_type": "code",
   "execution_count": 64,
   "metadata": {},
   "outputs": [
    {
     "name": "stdout",
     "output_type": "stream",
     "text": [
      "(1, 3, 4, 5, 6, 7)\n",
      "(1, 3, 4, 5, 6, 7)\n",
      "(4, 5)\n"
     ]
    },
    {
     "ename": "NameError",
     "evalue": "name 'b' is not defined",
     "output_type": "error",
     "traceback": [
      "\u001b[1;31m---------------------------------------------------------------------------\u001b[0m",
      "\u001b[1;31mNameError\u001b[0m                                 Traceback (most recent call last)",
      "\u001b[1;32m<ipython-input-64-41d8b21e41ff>\u001b[0m in \u001b[0;36m<module>\u001b[1;34m\u001b[0m\n\u001b[0;32m      6\u001b[0m \u001b[0mprint\u001b[0m\u001b[1;33m(\u001b[0m\u001b[0mb\u001b[0m\u001b[1;33m)\u001b[0m\u001b[1;33m\u001b[0m\u001b[1;33m\u001b[0m\u001b[0m\n\u001b[0;32m      7\u001b[0m \u001b[1;32mdel\u001b[0m \u001b[0mb\u001b[0m\u001b[1;33m\u001b[0m\u001b[1;33m\u001b[0m\u001b[0m\n\u001b[1;32m----> 8\u001b[1;33m \u001b[0mprint\u001b[0m\u001b[1;33m(\u001b[0m\u001b[0mb\u001b[0m\u001b[1;33m)\u001b[0m\u001b[1;33m\u001b[0m\u001b[1;33m\u001b[0m\u001b[0m\n\u001b[0m",
      "\u001b[1;31mNameError\u001b[0m: name 'b' is not defined"
     ]
    }
   ],
   "source": [
    "#deleting tuple\n",
    "a=(1,3,4,5,6,7)\n",
    "print(a)\n",
    "print(a)\n",
    "b=a[2:4]\n",
    "print(b)\n",
    "del b\n",
    "print(b)\n"
   ]
  },
  {
   "cell_type": "code",
   "execution_count": 65,
   "metadata": {},
   "outputs": [
    {
     "name": "stdout",
     "output_type": "stream",
     "text": [
      "enter no. of element3\n",
      "enter elements45\n",
      "enter elements67\n",
      "enter elements89\n",
      "<class 'list'>\n",
      "<class 'tuple'>\n",
      "45\n",
      "67\n",
      "89\n"
     ]
    }
   ],
   "source": [
    "#getting input from user\n",
    "a=[]\n",
    "n=int(input(\"enter no. of element\"))\n",
    "for i in range(n):\n",
    "    a.append(int(input(\"enter elements\")))\n",
    "print(type(a))\n",
    "a=tuple(a)\n",
    "print(type(a))\n",
    "for i in a:\n",
    "    print(i)"
   ]
  },
  {
   "cell_type": "code",
   "execution_count": 68,
   "metadata": {},
   "outputs": [
    {
     "name": "stdout",
     "output_type": "stream",
     "text": [
      "[10, 20, 30, 40]\n",
      "1905310480584\n",
      "1905309027208\n"
     ]
    }
   ],
   "source": [
    "#copying tuple\n",
    "a=[10,20,30,40]\n",
    "b=a\n",
    "b=a[0:4]\n",
    "print(b)\n",
    "print(id(a))\n",
    "print(id(b))"
   ]
  },
  {
   "cell_type": "code",
   "execution_count": 70,
   "metadata": {},
   "outputs": [
    {
     "name": "stdout",
     "output_type": "stream",
     "text": [
      "0 10\n",
      "1 20\n",
      "2 30\n",
      "3 0 50\n",
      "3 1 60\n"
     ]
    }
   ],
   "source": [
    "#acessing nested tuple using for loop\n",
    "a=(10,20,30,(50,60))\n",
    "n=len(a)\n",
    "for i in range(n):\n",
    "    if type (a[i]) is tuple:\n",
    "        if len(a[i])>1:\n",
    "            m=len(a[i])\n",
    "            for j in range(m):\n",
    "                print(i,j,a[i][j])\n",
    "    else:\n",
    "        print(i,a[i])\n",
    "        "
   ]
  },
  {
   "cell_type": "code",
   "execution_count": 71,
   "metadata": {},
   "outputs": [
    {
     "name": "stdout",
     "output_type": "stream",
     "text": [
      "0 10\n",
      "1 20\n",
      "2 30\n",
      "3 0 50\n",
      "3 1 60\n"
     ]
    }
   ],
   "source": [
    "#acessing nested tuple using for loop\n",
    "a=(10,20,30,(50,60))\n",
    "n=len(a)\n",
    "i=0\n",
    "while i<n:\n",
    "    if type(a[i]) is tuple:\n",
    "        if len(a[i])>1:\n",
    "            m=len(a[i])\n",
    "            j=0\n",
    "            while j<m:\n",
    "                print(i,j,a[i][j])\n",
    "                j=j+1\n",
    "        i=i+1\n",
    "    else:\n",
    "        print(i,a[i])\n",
    "        i=i+1"
   ]
  },
  {
   "cell_type": "code",
   "execution_count": 79,
   "metadata": {},
   "outputs": [
    {
     "name": "stdout",
     "output_type": "stream",
     "text": [
      "((4, 5, 6), (7, 8, 9), (10, 11, 12))\n",
      "((1, 2, 3), (4, 5, 6), (7, 8, 9), (10, 11, 12))\n",
      "((1, 2, 3), (4, 5, 6), (7, 8, 9), (10, 11, 12))\n",
      "((1, 2, 3), (4, 5, 6), (7, 8, 9), (10, 11, 12))\n",
      "((1, 2, 3), (7, 8, 9))\n",
      "((1, 2, 3), (4, 5, 6))\n",
      "(7, 8, 9)\n",
      "7\n",
      "8\n",
      "9\n"
     ]
    }
   ],
   "source": [
    "#slicing of  nestede tuple\n",
    "a=((1,2,3),\n",
    "  (4,5,6),\n",
    "  (7,8,9),\n",
    "  (10,11,12))\n",
    "x=a[1:4]\n",
    "print(x)\n",
    "y=a[0:]\n",
    "print(y)\n",
    "x=a[:4]\n",
    "print(x)\n",
    "x=a[-4:]\n",
    "print(x)\n",
    "x=a[0:4:2]\n",
    "print(x)\n",
    "x=a[-4:-2]\n",
    "print(x)\n",
    "n=a[1:4][1]\n",
    "print(n)\n",
    "for i in n:\n",
    "    print(i)"
   ]
  },
  {
   "cell_type": "code",
   "execution_count": 81,
   "metadata": {},
   "outputs": [
    {
     "name": "stdout",
     "output_type": "stream",
     "text": [
      "(10, 20, 30)\n",
      "<class 'tuple'>\n"
     ]
    }
   ],
   "source": [
    "#passing tuple to a function\n",
    "def show(t):\n",
    "    print(t)\n",
    "    print(type(t))\n",
    "tup=(10,20,30)\n",
    "show(tup)"
   ]
  },
  {
   "cell_type": "code",
   "execution_count": 82,
   "metadata": {},
   "outputs": [
    {
     "name": "stdout",
     "output_type": "stream",
     "text": [
      "(10, 20, 30)\n",
      "<class 'tuple'>\n",
      "(10, 20, 30)\n",
      "<class 'tuple'>\n"
     ]
    }
   ],
   "source": [
    "#returning tuple  from function\n",
    "def show(t):\n",
    "    print(t)\n",
    "    print(type(a))\n",
    "    return t\n",
    "tup=(10,20,30)\n",
    "nt=show(tup)\n",
    "print(nt)\n",
    "print(type(nt))"
   ]
  },
  {
   "cell_type": "code",
   "execution_count": 94,
   "metadata": {},
   "outputs": [
    {
     "name": "stdout",
     "output_type": "stream",
     "text": [
      "[10, 20, (30, 40)]\n",
      "[10, 20, (30, 40), (50, 60)]\n",
      "[10, 60, (30, 40), (50, 60)]\n",
      "0 10\n",
      "1 60\n",
      "2 0 30\n",
      "2 1 40\n",
      "3 0 50\n",
      "3 1 60\n",
      "<class 'list'>\n"
     ]
    }
   ],
   "source": [
    "#list of tuple\n",
    "a=[10,20,(30,40)]\n",
    "print(a)\n",
    "a.append((50,60))\n",
    "print(a)\n",
    "a[1]=60\n",
    "print(a)\n",
    "n=len(a)\n",
    "for i in range(n):\n",
    "    if type(a[i]) is tuple:\n",
    "        if len(a[i])>1:\n",
    "            m=len(a[i])\n",
    "            for j in range(m):\n",
    "                print(i,j,a[i][j])\n",
    "    else:\n",
    "        print(i,a[i])\n",
    "print(type(a))"
   ]
  },
  {
   "cell_type": "code",
   "execution_count": 97,
   "metadata": {},
   "outputs": [
    {
     "name": "stdout",
     "output_type": "stream",
     "text": [
      "(10, 20, [30, 40])\n",
      "(10, 20, [50, 40])\n",
      "0 10\n",
      "1 20\n",
      "2 0 50\n",
      "2 1 40\n"
     ]
    }
   ],
   "source": [
    "#tuple of list\n",
    "a=(10,20,[30,40])\n",
    "print(a)\n",
    "a[2][0]=50\n",
    "print(a)\n",
    "n=len(a)\n",
    "for i in range(n):\n",
    "    if type(a[i]) is list:\n",
    "        if len(a[i])>1:\n",
    "            m=len(a[i])\n",
    "            for j in range(m):\n",
    "                print(i,j,a[i][j])\n",
    "    else:\n",
    "        print(i,a[i])"
   ]
  },
  {
   "cell_type": "code",
   "execution_count": 99,
   "metadata": {},
   "outputs": [
    {
     "name": "stdout",
     "output_type": "stream",
     "text": [
      "([10, 20], [30, 40])\n",
      "([10, 20], [30, 40])\n",
      "0 0 10\n",
      "0 1 20\n",
      "1 0 30\n",
      "1 1 40\n",
      "10\n",
      "20\n"
     ]
    }
   ],
   "source": [
    "a=([10,20],[30,40])\n",
    "print(a)\n",
    "print(a)\n",
    "n=len(a)\n",
    "for i in range(n):\n",
    "    if type(a[i]) is list:\n",
    "        if len(a[i])>1:\n",
    "            m=len(a[i])\n",
    "            for j in range(m):\n",
    "                print(i,j,a[i][j])\n",
    "    else:\n",
    "        print(i,a[i])\n",
    "        \n",
    "x=a[0:2][0]\n",
    "for i in x:\n",
    "    print(i)"
   ]
  },
  {
   "cell_type": "code",
   "execution_count": null,
   "metadata": {},
   "outputs": [],
   "source": []
  }
 ],
 "metadata": {
  "kernelspec": {
   "display_name": "Python 3",
   "language": "python",
   "name": "python3"
  },
  "language_info": {
   "codemirror_mode": {
    "name": "ipython",
    "version": 3
   },
   "file_extension": ".py",
   "mimetype": "text/x-python",
   "name": "python",
   "nbconvert_exporter": "python",
   "pygments_lexer": "ipython3",
   "version": "3.7.4"
  }
 },
 "nbformat": 4,
 "nbformat_minor": 2
}
